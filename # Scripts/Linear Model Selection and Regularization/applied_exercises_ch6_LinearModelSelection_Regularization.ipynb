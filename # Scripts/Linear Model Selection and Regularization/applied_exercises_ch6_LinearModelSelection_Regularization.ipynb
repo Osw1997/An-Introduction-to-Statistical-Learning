{
  "nbformat": 4,
  "nbformat_minor": 0,
  "metadata": {
    "colab": {
      "name": "applied_exercises_ch6_LinearModelSelection_Regularization.ipynb",
      "provenance": [],
      "collapsed_sections": [],
      "authorship_tag": "ABX9TyMDA7e+i9yzoiQ5Pn4MqjPk",
      "include_colab_link": true
    },
    "kernelspec": {
      "name": "python3",
      "display_name": "Python 3"
    },
    "language_info": {
      "name": "python"
    }
  },
  "cells": [
    {
      "cell_type": "markdown",
      "metadata": {
        "id": "view-in-github",
        "colab_type": "text"
      },
      "source": [
        "<a href=\"https://colab.research.google.com/github/Osw1997/An-Introduction-to-Statistical-Learning/blob/main/%23%20Scripts/Linear%20Model%20Selection%20and%20Regularization/applied_exercises_ch6_LinearModelSelection_Regularization.ipynb\" target=\"_parent\"><img src=\"https://colab.research.google.com/assets/colab-badge.svg\" alt=\"Open In Colab\"/></a>"
      ]
    },
    {
      "cell_type": "markdown",
      "source": [
        "# Chapter 6 - Linear Model Selection and Regularization"
      ],
      "metadata": {
        "id": "UGnG488b8uys"
      }
    },
    {
      "cell_type": "code",
      "execution_count": 2,
      "metadata": {
        "colab": {
          "base_uri": "https://localhost:8080/",
          "height": 520
        },
        "id": "mteefgb57XEz",
        "outputId": "60536dc4-98b4-4c1e-9a8f-0f55df6ce77a"
      },
      "outputs": [
        {
          "output_type": "stream",
          "name": "stdout",
          "text": [
            "Requirement already satisfied: scipy in /usr/local/lib/python3.7/dist-packages (1.4.1)\n",
            "Collecting scipy\n",
            "  Downloading scipy-1.7.3-cp37-cp37m-manylinux_2_12_x86_64.manylinux2010_x86_64.whl (38.1 MB)\n",
            "\u001b[K     |████████████████████████████████| 38.1 MB 1.2 MB/s \n",
            "\u001b[?25hRequirement already satisfied: numpy<1.23.0,>=1.16.5 in /usr/local/lib/python3.7/dist-packages (from scipy) (1.21.6)\n",
            "Installing collected packages: scipy\n",
            "  Attempting uninstall: scipy\n",
            "    Found existing installation: scipy 1.4.1\n",
            "    Uninstalling scipy-1.4.1:\n",
            "      Successfully uninstalled scipy-1.4.1\n",
            "\u001b[31mERROR: pip's dependency resolver does not currently take into account all the packages that are installed. This behaviour is the source of the following dependency conflicts.\n",
            "albumentations 0.1.12 requires imgaug<0.2.7,>=0.2.5, but you have imgaug 0.2.9 which is incompatible.\u001b[0m\n",
            "Successfully installed scipy-1.7.3\n"
          ]
        },
        {
          "output_type": "display_data",
          "data": {
            "application/vnd.colab-display-data+json": {
              "pip_warning": {
                "packages": [
                  "scipy"
                ]
              }
            }
          },
          "metadata": {}
        },
        {
          "output_type": "stream",
          "name": "stdout",
          "text": [
            "Requirement already satisfied: plotly in /usr/local/lib/python3.7/dist-packages (5.5.0)\n",
            "Collecting plotly\n",
            "  Downloading plotly-5.8.0-py2.py3-none-any.whl (15.2 MB)\n",
            "\u001b[K     |████████████████████████████████| 15.2 MB 5.0 MB/s \n",
            "\u001b[?25hRequirement already satisfied: tenacity>=6.2.0 in /usr/local/lib/python3.7/dist-packages (from plotly) (8.0.1)\n",
            "Installing collected packages: plotly\n",
            "  Attempting uninstall: plotly\n",
            "    Found existing installation: plotly 5.5.0\n",
            "    Uninstalling plotly-5.5.0:\n",
            "      Successfully uninstalled plotly-5.5.0\n",
            "Successfully installed plotly-5.8.0\n"
          ]
        }
      ],
      "source": [
        "# Scripts/Linear Model Selection and Regularization/applied_exercises_ch6_LinearModelSelection_Regularization.ipynb\n",
        "!pip install --upgrade scipy\n",
        "!pip install --upgrade plotly"
      ]
    },
    {
      "cell_type": "markdown",
      "source": [
        "# Applied exercises\n",
        "---\n",
        "---\n",
        "---\n",
        "\n",
        "## Exercise 8:\n",
        "In this exercise, we will generate simulated data, and will then use\n",
        "this data to perform best subset selection.\n"
      ],
      "metadata": {
        "id": "6MbMqF8Q7cO1"
      }
    },
    {
      "cell_type": "code",
      "source": [
        "import pandas as pd\n",
        "import os\n",
        "import matplotlib.pyplot as plt\n",
        "from scipy import stats\n",
        "from scipy.stats import t"
      ],
      "metadata": {
        "id": "4Yl17PMf8zaZ"
      },
      "execution_count": 1,
      "outputs": []
    },
    {
      "cell_type": "code",
      "source": [
        "import scipy\n",
        "scipy.__version__"
      ],
      "metadata": {
        "id": "23QMOnPU80IT"
      },
      "execution_count": null,
      "outputs": []
    },
    {
      "cell_type": "code",
      "source": [
        "from google.colab import drive\n",
        "drive.mount('/content/drive')"
      ],
      "metadata": {
        "id": "sGPomjd181zG"
      },
      "execution_count": null,
      "outputs": []
    },
    {
      "cell_type": "code",
      "source": [
        "# (a) Use the rnorm() function to generate a predictor X of length n = 100, \n",
        "# as well as a noise vector ϵ of length n = 100.\n",
        "\n",
        "\n",
        "\n",
        "# (b) Generate a response vector Y of length n = 100 according to the model\n",
        "# Y = β0 + β1X + β2X2 + β3X3 + ϵ,\n",
        "# where β0, β1, β2, and β3 are constants of your choice.\n",
        "\n",
        "\n",
        "\n",
        "# (c) Use the regsubsets() function to perform best subset selection in order to \n",
        "# choose the best model containing the predictors X, X2,...,X10.\n",
        "#  What is the best model obtained according to Cp, BIC, and adjusted R2? \n",
        "#  Show some plots to provide evidence for your answer, and report the \n",
        "#  coefficients of the best model obtained. Note you will need to \n",
        "#  use the data.frame() function to create a single data set\n",
        "#  containing both X and Y .\n",
        "\n",
        "\n",
        "\n",
        "# (d) Repeat (c), using forward stepwise selection and also using backwards\n",
        "# stepwise selection. How does your answer compare to the results in (c)?\n",
        "\n",
        "\n",
        "\n",
        "# (e) Now fit a lasso model to the simulated data, again using X, X2,\n",
        "# ...,X10 as predictors. Use cross-validation to select the optimal\n",
        "# value of λ. Create plots of the cross-validation error as a function\n",
        "# of λ. Report the resulting coefficient estimates, and discuss the\n",
        "# results obtained.\n",
        "\n",
        "\n",
        "\n",
        "# (f) Now generate a response vector Y according to the model\n",
        "# Y = β0 + β7X7 + ϵ,\n",
        "# and perform best subset selection and the lasso. Discuss the results obtained."
      ],
      "metadata": {
        "id": "RrtyaKHc75hh"
      },
      "execution_count": null,
      "outputs": []
    }
  ]
}