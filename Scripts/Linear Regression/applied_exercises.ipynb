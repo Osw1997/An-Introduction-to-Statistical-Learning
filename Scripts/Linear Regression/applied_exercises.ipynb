{
  "cells": [
    {
      "cell_type": "markdown",
      "metadata": {
        "id": "view-in-github",
        "colab_type": "text"
      },
      "source": [
        "<a href=\"https://colab.research.google.com/github/Osw1997/An-Introduction-to-Statistical-Learning/blob/main/Scripts/Linear%20regression/applied_exercises.ipynb\" target=\"_parent\"><img src=\"https://colab.research.google.com/assets/colab-badge.svg\" alt=\"Open In Colab\"/></a>"
      ]
    },
    {
      "cell_type": "markdown",
      "metadata": {
        "id": "5V7edGeYxAjR"
      },
      "source": [
        "# Chapter 3 - Linear regression"
      ]
    },
    {
      "cell_type": "markdown",
      "metadata": {
        "id": "yQa6JAKjxAje"
      },
      "source": [
        "# Applied exercises\n",
        "---\n",
        "---\n",
        "---\n",
        "## Exercise 8\n",
        "## Involved dataset: Auto"
      ]
    },
    {
      "cell_type": "code",
      "source": [
        "!pip install --upgrade scipy\n",
        "!pip install --upgrade plotly"
      ],
      "metadata": {
        "colab": {
          "base_uri": "https://localhost:8080/",
          "height": 357
        },
        "id": "i930EG5967Xz",
        "outputId": "d54749e8-4d08-4575-d1c5-34a48c29bcfc"
      },
      "execution_count": 36,
      "outputs": [
        {
          "output_type": "stream",
          "name": "stdout",
          "text": [
            "Requirement already satisfied: scipy in /usr/local/lib/python3.7/dist-packages (1.7.3)\n",
            "Requirement already satisfied: numpy<1.23.0,>=1.16.5 in /usr/local/lib/python3.7/dist-packages (from scipy) (1.19.5)\n",
            "Requirement already satisfied: plotly in /usr/local/lib/python3.7/dist-packages (4.4.1)\n",
            "Collecting plotly\n",
            "  Downloading plotly-5.5.0-py2.py3-none-any.whl (26.5 MB)\n",
            "\u001b[K     |████████████████████████████████| 26.5 MB 103.7 MB/s \n",
            "\u001b[?25hCollecting tenacity>=6.2.0\n",
            "  Downloading tenacity-8.0.1-py3-none-any.whl (24 kB)\n",
            "Requirement already satisfied: six in /usr/local/lib/python3.7/dist-packages (from plotly) (1.15.0)\n",
            "Installing collected packages: tenacity, plotly\n",
            "  Attempting uninstall: plotly\n",
            "    Found existing installation: plotly 4.4.1\n",
            "    Uninstalling plotly-4.4.1:\n",
            "      Successfully uninstalled plotly-4.4.1\n",
            "Successfully installed plotly-5.5.0 tenacity-8.0.1\n"
          ]
        },
        {
          "output_type": "display_data",
          "data": {
            "application/vnd.colab-display-data+json": {
              "pip_warning": {
                "packages": [
                  "_plotly_utils",
                  "plotly"
                ]
              }
            }
          },
          "metadata": {}
        }
      ]
    },
    {
      "cell_type": "code",
      "execution_count": 2,
      "metadata": {
        "id": "4h0mNJCoxAjg"
      },
      "outputs": [],
      "source": [
        "import pandas as pd\n",
        "import os\n",
        "import matplotlib.pyplot as plt\n",
        "from scipy import stats\n",
        "from scipy.stats import t"
      ]
    },
    {
      "cell_type": "code",
      "source": [
        "import scipy\n",
        "scipy.__version__"
      ],
      "metadata": {
        "colab": {
          "base_uri": "https://localhost:8080/",
          "height": 35
        },
        "id": "-mHd9RC-7Dpj",
        "outputId": "b34dd8c7-25d8-449f-9463-2e8520b82d3d"
      },
      "execution_count": 3,
      "outputs": [
        {
          "output_type": "execute_result",
          "data": {
            "application/vnd.google.colaboratory.intrinsic+json": {
              "type": "string"
            },
            "text/plain": [
              "'1.7.3'"
            ]
          },
          "metadata": {},
          "execution_count": 3
        }
      ]
    },
    {
      "cell_type": "code",
      "execution_count": 6,
      "metadata": {
        "id": "5iEOY2AmxAjh",
        "outputId": "1296fcbd-625d-430c-9e71-8b0f34dbe5bc",
        "colab": {
          "base_uri": "https://localhost:8080/"
        }
      },
      "outputs": [
        {
          "output_type": "stream",
          "name": "stdout",
          "text": [
            "Drive already mounted at /content/drive; to attempt to forcibly remount, call drive.mount(\"/content/drive\", force_remount=True).\n"
          ]
        }
      ],
      "source": [
        "from google.colab import drive\n",
        "drive.mount('/content/drive')"
      ]
    },
    {
      "cell_type": "code",
      "execution_count": 4,
      "metadata": {
        "id": "0GoujJMCxAjj",
        "outputId": "500d19dc-14e9-4fcf-8b61-9ab0bc0a45af",
        "colab": {
          "base_uri": "https://localhost:8080/",
          "height": 297
        }
      },
      "outputs": [
        {
          "output_type": "execute_result",
          "data": {
            "text/html": [
              "\n",
              "  <div id=\"df-c709ef19-d048-4fb1-a898-e7866144b562\">\n",
              "    <div class=\"colab-df-container\">\n",
              "      <div>\n",
              "<style scoped>\n",
              "    .dataframe tbody tr th:only-of-type {\n",
              "        vertical-align: middle;\n",
              "    }\n",
              "\n",
              "    .dataframe tbody tr th {\n",
              "        vertical-align: top;\n",
              "    }\n",
              "\n",
              "    .dataframe thead th {\n",
              "        text-align: right;\n",
              "    }\n",
              "</style>\n",
              "<table border=\"1\" class=\"dataframe\">\n",
              "  <thead>\n",
              "    <tr style=\"text-align: right;\">\n",
              "      <th></th>\n",
              "      <th>mpg</th>\n",
              "      <th>cylinders</th>\n",
              "      <th>displacement</th>\n",
              "      <th>horsepower</th>\n",
              "      <th>weight</th>\n",
              "      <th>acceleration</th>\n",
              "      <th>year</th>\n",
              "      <th>origin</th>\n",
              "    </tr>\n",
              "  </thead>\n",
              "  <tbody>\n",
              "    <tr>\n",
              "      <th>count</th>\n",
              "      <td>397.000000</td>\n",
              "      <td>397.000000</td>\n",
              "      <td>397.000000</td>\n",
              "      <td>397.000000</td>\n",
              "      <td>397.000000</td>\n",
              "      <td>397.000000</td>\n",
              "      <td>397.000000</td>\n",
              "      <td>397.000000</td>\n",
              "    </tr>\n",
              "    <tr>\n",
              "      <th>mean</th>\n",
              "      <td>24.466365</td>\n",
              "      <td>6.718758</td>\n",
              "      <td>193.279211</td>\n",
              "      <td>104.469388</td>\n",
              "      <td>2941.398859</td>\n",
              "      <td>16.661327</td>\n",
              "      <td>76.338405</td>\n",
              "      <td>2.872410</td>\n",
              "    </tr>\n",
              "    <tr>\n",
              "      <th>std</th>\n",
              "      <td>11.916122</td>\n",
              "      <td>11.182938</td>\n",
              "      <td>104.465120</td>\n",
              "      <td>38.247388</td>\n",
              "      <td>902.933828</td>\n",
              "      <td>10.300906</td>\n",
              "      <td>4.849520</td>\n",
              "      <td>11.516536</td>\n",
              "    </tr>\n",
              "    <tr>\n",
              "      <th>min</th>\n",
              "      <td>9.000000</td>\n",
              "      <td>3.000000</td>\n",
              "      <td>68.000000</td>\n",
              "      <td>46.000000</td>\n",
              "      <td>104.469388</td>\n",
              "      <td>8.000000</td>\n",
              "      <td>70.000000</td>\n",
              "      <td>1.000000</td>\n",
              "    </tr>\n",
              "    <tr>\n",
              "      <th>25%</th>\n",
              "      <td>17.500000</td>\n",
              "      <td>4.000000</td>\n",
              "      <td>104.469388</td>\n",
              "      <td>76.000000</td>\n",
              "      <td>2219.000000</td>\n",
              "      <td>13.800000</td>\n",
              "      <td>73.000000</td>\n",
              "      <td>1.000000</td>\n",
              "    </tr>\n",
              "    <tr>\n",
              "      <th>50%</th>\n",
              "      <td>23.000000</td>\n",
              "      <td>4.000000</td>\n",
              "      <td>146.000000</td>\n",
              "      <td>95.000000</td>\n",
              "      <td>2790.000000</td>\n",
              "      <td>15.500000</td>\n",
              "      <td>76.000000</td>\n",
              "      <td>1.000000</td>\n",
              "    </tr>\n",
              "    <tr>\n",
              "      <th>75%</th>\n",
              "      <td>29.500000</td>\n",
              "      <td>8.000000</td>\n",
              "      <td>262.000000</td>\n",
              "      <td>125.000000</td>\n",
              "      <td>3609.000000</td>\n",
              "      <td>17.300000</td>\n",
              "      <td>79.000000</td>\n",
              "      <td>2.000000</td>\n",
              "    </tr>\n",
              "    <tr>\n",
              "      <th>max</th>\n",
              "      <td>104.469388</td>\n",
              "      <td>104.469388</td>\n",
              "      <td>455.000000</td>\n",
              "      <td>230.000000</td>\n",
              "      <td>5140.000000</td>\n",
              "      <td>104.469388</td>\n",
              "      <td>104.469388</td>\n",
              "      <td>104.469388</td>\n",
              "    </tr>\n",
              "  </tbody>\n",
              "</table>\n",
              "</div>\n",
              "      <button class=\"colab-df-convert\" onclick=\"convertToInteractive('df-c709ef19-d048-4fb1-a898-e7866144b562')\"\n",
              "              title=\"Convert this dataframe to an interactive table.\"\n",
              "              style=\"display:none;\">\n",
              "        \n",
              "  <svg xmlns=\"http://www.w3.org/2000/svg\" height=\"24px\"viewBox=\"0 0 24 24\"\n",
              "       width=\"24px\">\n",
              "    <path d=\"M0 0h24v24H0V0z\" fill=\"none\"/>\n",
              "    <path d=\"M18.56 5.44l.94 2.06.94-2.06 2.06-.94-2.06-.94-.94-2.06-.94 2.06-2.06.94zm-11 1L8.5 8.5l.94-2.06 2.06-.94-2.06-.94L8.5 2.5l-.94 2.06-2.06.94zm10 10l.94 2.06.94-2.06 2.06-.94-2.06-.94-.94-2.06-.94 2.06-2.06.94z\"/><path d=\"M17.41 7.96l-1.37-1.37c-.4-.4-.92-.59-1.43-.59-.52 0-1.04.2-1.43.59L10.3 9.45l-7.72 7.72c-.78.78-.78 2.05 0 2.83L4 21.41c.39.39.9.59 1.41.59.51 0 1.02-.2 1.41-.59l7.78-7.78 2.81-2.81c.8-.78.8-2.07 0-2.86zM5.41 20L4 18.59l7.72-7.72 1.47 1.35L5.41 20z\"/>\n",
              "  </svg>\n",
              "      </button>\n",
              "      \n",
              "  <style>\n",
              "    .colab-df-container {\n",
              "      display:flex;\n",
              "      flex-wrap:wrap;\n",
              "      gap: 12px;\n",
              "    }\n",
              "\n",
              "    .colab-df-convert {\n",
              "      background-color: #E8F0FE;\n",
              "      border: none;\n",
              "      border-radius: 50%;\n",
              "      cursor: pointer;\n",
              "      display: none;\n",
              "      fill: #1967D2;\n",
              "      height: 32px;\n",
              "      padding: 0 0 0 0;\n",
              "      width: 32px;\n",
              "    }\n",
              "\n",
              "    .colab-df-convert:hover {\n",
              "      background-color: #E2EBFA;\n",
              "      box-shadow: 0px 1px 2px rgba(60, 64, 67, 0.3), 0px 1px 3px 1px rgba(60, 64, 67, 0.15);\n",
              "      fill: #174EA6;\n",
              "    }\n",
              "\n",
              "    [theme=dark] .colab-df-convert {\n",
              "      background-color: #3B4455;\n",
              "      fill: #D2E3FC;\n",
              "    }\n",
              "\n",
              "    [theme=dark] .colab-df-convert:hover {\n",
              "      background-color: #434B5C;\n",
              "      box-shadow: 0px 1px 3px 1px rgba(0, 0, 0, 0.15);\n",
              "      filter: drop-shadow(0px 1px 2px rgba(0, 0, 0, 0.3));\n",
              "      fill: #FFFFFF;\n",
              "    }\n",
              "  </style>\n",
              "\n",
              "      <script>\n",
              "        const buttonEl =\n",
              "          document.querySelector('#df-c709ef19-d048-4fb1-a898-e7866144b562 button.colab-df-convert');\n",
              "        buttonEl.style.display =\n",
              "          google.colab.kernel.accessAllowed ? 'block' : 'none';\n",
              "\n",
              "        async function convertToInteractive(key) {\n",
              "          const element = document.querySelector('#df-c709ef19-d048-4fb1-a898-e7866144b562');\n",
              "          const dataTable =\n",
              "            await google.colab.kernel.invokeFunction('convertToInteractive',\n",
              "                                                     [key], {});\n",
              "          if (!dataTable) return;\n",
              "\n",
              "          const docLinkHtml = 'Like what you see? Visit the ' +\n",
              "            '<a target=\"_blank\" href=https://colab.research.google.com/notebooks/data_table.ipynb>data table notebook</a>'\n",
              "            + ' to learn more about interactive tables.';\n",
              "          element.innerHTML = '';\n",
              "          dataTable['output_type'] = 'display_data';\n",
              "          await google.colab.output.renderOutput(dataTable, element);\n",
              "          const docLink = document.createElement('div');\n",
              "          docLink.innerHTML = docLinkHtml;\n",
              "          element.appendChild(docLink);\n",
              "        }\n",
              "      </script>\n",
              "    </div>\n",
              "  </div>\n",
              "  "
            ],
            "text/plain": [
              "              mpg   cylinders  ...        year      origin\n",
              "count  397.000000  397.000000  ...  397.000000  397.000000\n",
              "mean    24.466365    6.718758  ...   76.338405    2.872410\n",
              "std     11.916122   11.182938  ...    4.849520   11.516536\n",
              "min      9.000000    3.000000  ...   70.000000    1.000000\n",
              "25%     17.500000    4.000000  ...   73.000000    1.000000\n",
              "50%     23.000000    4.000000  ...   76.000000    1.000000\n",
              "75%     29.500000    8.000000  ...   79.000000    2.000000\n",
              "max    104.469388  104.469388  ...  104.469388  104.469388\n",
              "\n",
              "[8 rows x 8 columns]"
            ]
          },
          "metadata": {},
          "execution_count": 4
        }
      ],
      "source": [
        "auto = pd.read_csv('drive/MyDrive/itsl_datasets/Auto.csv')\n",
        "# auto = pd.read_csv(\"../../Datasets/Auto.csv\")\n",
        "## Cleaning data\n",
        "# Getting incorrect rows and getting mean of correct rows\n",
        "valid_rows = auto['horsepower'] != '?'\n",
        "mean_valid_rows = pd.to_numeric(auto[valid_rows]['horsepower']).mean()\n",
        "# Correcting data\n",
        "auto[~valid_rows] = mean_valid_rows\n",
        "auto['horsepower'] = pd.to_numeric(auto['horsepower'])\n",
        "auto['mpg'] = pd.to_numeric(auto['mpg'])\n",
        "\n",
        "auto.describe()\n",
        "# auto.head()"
      ]
    },
    {
      "cell_type": "code",
      "execution_count": 5,
      "metadata": {
        "id": "8dTy4Ov_xAjl",
        "outputId": "03e78e45-967b-4e08-bbde-17d5a078fc3d",
        "colab": {
          "base_uri": "https://localhost:8080/"
        }
      },
      "outputs": [
        {
          "output_type": "stream",
          "name": "stdout",
          "text": [
            "Slope: -0.15784473335365345, intercept: 40.956307738900364\n"
          ]
        }
      ],
      "source": [
        "linear_regression = stats.linregress(auto[\"horsepower\"], auto[\"mpg\"])\n",
        "print(f\"Slope: {linear_regression.slope}, intercept: {linear_regression.intercept}\")"
      ]
    },
    {
      "cell_type": "code",
      "execution_count": 6,
      "metadata": {
        "id": "vjxQinmwxAjm",
        "outputId": "1517d322-0392-43ae-817c-ae98de7dc1a2",
        "colab": {
          "base_uri": "https://localhost:8080/"
        }
      },
      "outputs": [
        {
          "output_type": "stream",
          "name": "stdout",
          "text": [
            "Is Pvalue < 0.05? True (2.835654435365766e-27)\n",
            "Is intercept > 0? True (40.956307738900364)\n",
            "Slope B_1 = -0.15784473335365345\n",
            "\n",
            "mpg(HP) = B_0 + B_1 * HP \n",
            "HP = 98 hp\n",
            "mpg(98) = 40.956307738900364 + -0.15784473335365345 * 98\n",
            "mpg(98) = 25.487523870242327\n",
            "\n",
            "slope (95%): -0.157845 +/- 0.026570\n",
            "slope (95%): 40.956308 +/- 2.955523\n"
          ]
        }
      ],
      "source": [
        "print(f\"Is Pvalue < 0.05? {linear_regression.pvalue < 0.5} ({linear_regression.pvalue})\")\n",
        "print(f\"Is intercept > 0? {linear_regression.intercept > 0} ({linear_regression.intercept})\")\n",
        "print(f\"Slope B_1 = {linear_regression.slope}\")\n",
        "\n",
        "print(\"\")\n",
        "print(\"mpg(HP) = B_0 + B_1 * HP \")\n",
        "print(\"HP = 98 hp\")\n",
        "print(f\"mpg(98) = {linear_regression.intercept} + {linear_regression.slope} * 98\")\n",
        "print(f\"mpg(98) = {linear_regression.intercept + linear_regression.slope * 98}\")\n",
        "\n",
        "print(\"\")\n",
        "t_test = lambda p, df: abs(t.ppf(p/2, df))\n",
        "conf_interval = t_test(0.05, len(auto['mpg']))\n",
        "print(f\"slope (95%): {linear_regression.slope:.6f} +/- {conf_interval*linear_regression.stderr:.6f}\")\n",
        "print(f\"slope (95%): {linear_regression.intercept:.6f} +/- {conf_interval*linear_regression.intercept_stderr:.6f}\")"
      ]
    },
    {
      "cell_type": "markdown",
      "metadata": {
        "id": "Qk9LdP3LxAjq"
      },
      "source": [
        "## Questions\n",
        "### Is there any relationship between predictor and the response?\n",
        "#### A = **Yes. Pvalue is less than 0.05 and intercept is != 0. So, we can discard H0 (null) hipotesis**\n",
        "### How strong is the relationship between the predictor and the response? R^2 (???)\n",
        "#### A = **Well, B_1 is -0.16. So, there is a negative correlation**\n",
        "### Is the relationship between the predictor and the response positive or negative?\n",
        "#### A = **Negative**\n",
        "### What is the predicted mpg associated with a horsepower of 98? What are the associated 95% confidence and prediction intervals?\n",
        "#### mpg(98) = 40.956307738900364 + -0.15784473335365348 * 98\n",
        "#### **mpg(98) = 25.48752387024232**\n",
        "#### slope (95%): -0.157845 +/- 0.026570\n",
        "#### **slope (95%): 40.956308 +/- 2.955523**"
      ]
    },
    {
      "cell_type": "code",
      "source": [
        "# Plot the response and the predictor. Show the least squares regression line.\n",
        "plt.scatter(auto[\"horsepower\"], auto['mpg'], label=\"Original data\")\n",
        "plt.title(\"MPG Vs Horsepower\")\n",
        "plt.xlabel(\"Horsepower\")\n",
        "plt.ylabel(\"MPG\")\n",
        "plt.plot(auto[\"horsepower\"], linear_regression.intercept + linear_regression.slope * auto['horsepower'], 'r', label=\"Regression Line\")\n",
        "plt.legend()\n",
        "plt.show()"
      ],
      "metadata": {
        "colab": {
          "base_uri": "https://localhost:8080/",
          "height": 295
        },
        "id": "brhKg1Y67tVb",
        "outputId": "909b9027-eb93-4c12-e276-ea4fd71fc5cb"
      },
      "execution_count": 7,
      "outputs": [
        {
          "output_type": "display_data",
          "data": {
            "image/png": "[encoded data removed]",
            "text/plain": [
              "<Figure size 432x288 with 1 Axes>"
            ]
          },
          "metadata": {
            "needs_background": "light"
          }
        }
      ]
    },
    {
      "cell_type": "markdown",
      "source": [
        "---\n",
        "---\n",
        "---\n",
        "\n",
        "## Exercise 9\n",
        "## Involved dataset: Auto\n",
        "## Type regression: Multiple"
      ],
      "metadata": {
        "id": "R30yzVCu_QBA"
      }
    },
    {
      "cell_type": "code",
      "source": [
        "# (a) Produce a scatterplot matrix which includes all of the variables\n",
        "# in the data set.\n",
        "import plotly.express as px\n",
        "numeric_columns = ['mpg', 'cylinders', 'displacement', 'horsepower', \n",
        "                   'weight', 'acceleration', 'year', 'origin']\n",
        "fig = px.scatter_matrix(auto[numeric_columns])\n",
        "fig.update_traces(diagonal_visible=False)\n",
        "fig.show()"
      ],
      "metadata": {
        "colab": {
          "base_uri": "https://localhost:8080/",
          "height": 542
        },
        "id": "fbm5vV9E_6hL",
        "outputId": "68785889-8b40-44df-aa55-9d468221d3ee"
      },
      "execution_count": 8,
      "outputs": [
        {
          "output_type": "display_data",
          "data": {
            "text/html": [
              "<html>\n",
              "<head><meta charset=\"utf-8\" /></head>\n",
              "<body>\n",
              "    <div>            <script src=\"https://cdnjs.cloudflare.com/ajax/libs/mathjax/2.7.5/MathJax.js?config=TeX-AMS-MML_SVG\"></script><script type=\"text/javascript\">if (window.MathJax) {MathJax.Hub.Config({SVG: {font: \"STIX-Web\"}});}</script>                <script type=\"text/javascript\">window.PlotlyConfig = {MathJaxConfig: 'local'};</script>\n",
              "        <script src=\"https://cdn.plot.ly/plotly-2.8.3.min.js\"></script>                <div id=\"bd8388cb-1341-4130-a41a-56d38b1d38d9\" class=\"plotly-graph-div\" style=\"height:525px; width:100%;\"></div>            <script type=\"text/javascript\">                                    window.PLOTLYENV=window.PLOTLYENV || {};                                    if (document.getElementById(\"bd8388cb-1341-4130-a41a-56d38b1d38d9\")) {                    Plotly.newPlot(                        \"bd8388cb-1341-4130-a41a-56d38b1d38d9\",                        [{\"dimensions\":[{\"axis\":{\"matches\":true},\"label\":\"mpg\",\"values\":[18.0,15.0,18.0,16.0,17.0,15.0,14.0,14.0,14.0,15.0,15.0,14.0,15.0,14.0,24.0,22.0,18.0,21.0,27.0,26.0,25.0,24.0,25.0,26.0,21.0,10.0,10.0,11.0,9.0,27.0,28.0,25.0,104.46938775510205,19.0,16.0,17.0,19.0,18.0,14.0,14.0,14.0,14.0,12.0,13.0,13.0,18.0,22.0,19.0,18.0,23.0,28.0,30.0,30.0,31.0,35.0,27.0,26.0,24.0,25.0,23.0,20.0,21.0,13.0,14.0,15.0,14.0,17.0,11.0,13.0,12.0,13.0,19.0,15.0,13.0,13.0,14.0,18.0,22.0,21.0,26.0,22.0,28.0,23.0,28.0,27.0,13.0,14.0,13.0,14.0,15.0,12.0,13.0,13.0,14.0,13.0,12.0,13.0,18.0,16.0,18.0,18.0,23.0,26.0,11.0,12.0,13.0,12.0,18.0,20.0,21.0,22.0,18.0,19.0,21.0,26.0,15.0,16.0,29.0,24.0,20.0,19.0,15.0,24.0,20.0,11.0,20.0,104.46938775510205,19.0,15.0,31.0,26.0,32.0,25.0,16.0,16.0,18.0,16.0,13.0,14.0,14.0,14.0,29.0,26.0,26.0,31.0,32.0,28.0,24.0,26.0,24.0,26.0,31.0,19.0,18.0,15.0,15.0,16.0,15.0,16.0,14.0,17.0,16.0,15.0,18.0,21.0,20.0,13.0,29.0,23.0,20.0,23.0,24.0,25.0,24.0,18.0,29.0,19.0,23.0,23.0,22.0,25.0,33.0,28.0,25.0,25.0,26.0,27.0,17.5,16.0,15.5,14.5,22.0,22.0,24.0,22.5,29.0,24.5,29.0,33.0,20.0,18.0,18.5,17.5,29.5,32.0,28.0,26.5,20.0,13.0,19.0,19.0,16.5,16.5,13.0,13.0,13.0,31.5,30.0,36.0,25.5,33.5,17.5,17.0,15.5,15.0,17.5,20.5,19.0,18.5,16.0,15.5,15.5,16.0,29.0,24.5,26.0,25.5,30.5,33.5,30.0,30.5,22.0,21.5,21.5,43.1,36.1,32.8,39.4,36.1,19.9,19.4,20.2,19.2,20.5,20.2,25.1,20.5,19.4,20.6,20.8,18.6,18.1,19.2,17.7,18.1,17.5,30.0,27.5,27.2,30.9,21.1,23.2,23.8,23.9,20.3,17.0,21.6,16.2,31.5,29.5,21.5,19.8,22.3,20.2,20.6,17.0,17.6,16.5,18.2,16.9,15.5,19.2,18.5,31.9,34.1,35.7,27.4,25.4,23.0,27.2,23.9,34.2,34.5,31.8,37.3,28.4,28.8,26.8,33.5,41.5,38.1,32.1,37.2,28.0,26.4,24.3,19.1,34.3,29.8,31.3,37.0,32.2,46.6,27.9,40.8,44.3,43.4,36.4,30.0,44.6,104.46938775510205,33.8,29.8,32.7,23.7,35.0,104.46938775510205,32.4,27.2,26.6,25.8,23.5,30.0,39.1,39.0,35.1,32.3,37.0,37.7,34.1,34.7,34.4,29.9,33.0,104.46938775510205,33.7,32.4,32.9,31.6,28.1,30.7,25.4,24.2,22.4,26.6,20.2,17.6,28.0,27.0,34.0,31.0,29.0,27.0,24.0,36.0,37.0,31.0,38.0,36.0,36.0,36.0,34.0,38.0,32.0,38.0,25.0,38.0,26.0,22.0,32.0,36.0,27.0,27.0,44.0,32.0,28.0,31.0]},{\"axis\":{\"matches\":true},\"label\":\"cylinders\",\"values\":[8.0,8.0,8.0,8.0,8.0,8.0,8.0,8.0,8.0,8.0,8.0,8.0,8.0,8.0,4.0,6.0,6.0,6.0,4.0,4.0,4.0,4.0,4.0,4.0,6.0,8.0,8.0,8.0,8.0,4.0,4.0,4.0,104.46938775510205,6.0,6.0,6.0,6.0,6.0,8.0,8.0,8.0,8.0,8.0,8.0,8.0,6.0,4.0,6.0,6.0,4.0,4.0,4.0,4.0,4.0,4.0,4.0,4.0,4.0,4.0,4.0,4.0,4.0,8.0,8.0,8.0,8.0,8.0,8.0,8.0,8.0,8.0,3.0,8.0,8.0,8.0,8.0,4.0,4.0,4.0,4.0,4.0,4.0,4.0,4.0,4.0,8.0,8.0,8.0,8.0,8.0,8.0,8.0,8.0,8.0,8.0,8.0,8.0,6.0,6.0,6.0,6.0,6.0,4.0,8.0,8.0,8.0,8.0,6.0,4.0,4.0,4.0,3.0,4.0,6.0,4.0,8.0,8.0,4.0,4.0,4.0,4.0,8.0,4.0,6.0,8.0,6.0,104.46938775510205,6.0,6.0,4.0,4.0,4.0,4.0,6.0,6.0,6.0,8.0,8.0,8.0,8.0,8.0,4.0,4.0,4.0,4.0,4.0,4.0,4.0,4.0,4.0,4.0,4.0,6.0,6.0,6.0,6.0,8.0,8.0,8.0,8.0,6.0,6.0,6.0,6.0,6.0,8.0,8.0,4.0,4.0,6.0,4.0,4.0,4.0,4.0,6.0,4.0,6.0,4.0,4.0,4.0,4.0,4.0,4.0,4.0,4.0,4.0,4.0,8.0,8.0,8.0,8.0,6.0,6.0,6.0,6.0,4.0,4.0,4.0,4.0,6.0,6.0,6.0,6.0,4.0,4.0,4.0,4.0,4.0,8.0,4.0,6.0,6.0,8.0,8.0,8.0,8.0,4.0,4.0,4.0,4.0,4.0,8.0,8.0,8.0,8.0,6.0,6.0,6.0,6.0,8.0,8.0,8.0,8.0,4.0,4.0,4.0,4.0,4.0,4.0,4.0,4.0,6.0,4.0,3.0,4.0,4.0,4.0,4.0,4.0,8.0,8.0,8.0,6.0,6.0,6.0,4.0,6.0,6.0,6.0,6.0,6.0,6.0,8.0,6.0,8.0,8.0,4.0,4.0,4.0,4.0,4.0,4.0,4.0,4.0,5.0,6.0,4.0,6.0,4.0,4.0,6.0,6.0,4.0,6.0,6.0,8.0,8.0,8.0,8.0,8.0,8.0,8.0,8.0,4.0,4.0,4.0,4.0,5.0,8.0,4.0,8.0,4.0,4.0,4.0,4.0,4.0,6.0,6.0,4.0,4.0,4.0,4.0,4.0,4.0,4.0,4.0,6.0,4.0,4.0,4.0,4.0,4.0,4.0,4.0,4.0,4.0,4.0,5.0,4.0,4.0,104.46938775510205,4.0,4.0,6.0,3.0,4.0,104.46938775510205,4.0,4.0,4.0,4.0,6.0,4.0,4.0,4.0,4.0,4.0,4.0,4.0,4.0,4.0,4.0,4.0,4.0,104.46938775510205,4.0,4.0,4.0,4.0,4.0,6.0,6.0,6.0,6.0,8.0,6.0,6.0,4.0,4.0,4.0,4.0,4.0,4.0,4.0,4.0,4.0,4.0,4.0,4.0,4.0,4.0,4.0,4.0,4.0,4.0,6.0,6.0,4.0,6.0,4.0,4.0,4.0,4.0,4.0,4.0,4.0,4.0]},{\"axis\":{\"matches\":true},\"label\":\"displacement\",\"values\":[307.0,350.0,318.0,304.0,302.0,429.0,454.0,440.0,455.0,390.0,383.0,340.0,400.0,455.0,113.0,198.0,199.0,200.0,97.0,97.0,110.0,107.0,104.0,121.0,199.0,360.0,307.0,318.0,304.0,97.0,140.0,113.0,104.46938775510205,232.0,225.0,250.0,250.0,232.0,350.0,400.0,351.0,318.0,383.0,400.0,400.0,258.0,140.0,250.0,250.0,122.0,116.0,79.0,88.0,71.0,72.0,97.0,91.0,113.0,97.5,97.0,140.0,122.0,350.0,400.0,318.0,351.0,304.0,429.0,350.0,350.0,400.0,70.0,304.0,307.0,302.0,318.0,121.0,121.0,120.0,96.0,122.0,97.0,120.0,98.0,97.0,350.0,304.0,350.0,302.0,318.0,429.0,400.0,351.0,318.0,440.0,455.0,360.0,225.0,250.0,232.0,250.0,198.0,97.0,400.0,400.0,360.0,350.0,232.0,97.0,140.0,108.0,70.0,122.0,155.0,98.0,350.0,400.0,68.0,116.0,114.0,121.0,318.0,121.0,156.0,350.0,198.0,104.46938775510205,232.0,250.0,79.0,122.0,71.0,140.0,250.0,258.0,225.0,302.0,350.0,318.0,302.0,304.0,98.0,79.0,97.0,76.0,83.0,90.0,90.0,116.0,120.0,108.0,79.0,225.0,250.0,250.0,250.0,400.0,350.0,318.0,351.0,231.0,250.0,258.0,225.0,231.0,262.0,302.0,97.0,140.0,232.0,140.0,134.0,90.0,119.0,171.0,90.0,232.0,115.0,120.0,121.0,121.0,91.0,107.0,116.0,140.0,98.0,101.0,305.0,318.0,304.0,351.0,225.0,250.0,200.0,232.0,85.0,98.0,90.0,91.0,225.0,250.0,250.0,258.0,97.0,85.0,97.0,140.0,130.0,318.0,120.0,156.0,168.0,350.0,350.0,302.0,318.0,98.0,111.0,79.0,122.0,85.0,305.0,260.0,318.0,302.0,250.0,231.0,225.0,250.0,400.0,350.0,400.0,351.0,97.0,151.0,97.0,140.0,98.0,98.0,97.0,97.0,146.0,121.0,80.0,90.0,98.0,78.0,85.0,91.0,260.0,318.0,302.0,231.0,200.0,200.0,140.0,225.0,232.0,231.0,200.0,225.0,258.0,305.0,231.0,302.0,318.0,98.0,134.0,119.0,105.0,134.0,156.0,151.0,119.0,131.0,163.0,121.0,163.0,89.0,98.0,231.0,200.0,140.0,232.0,225.0,305.0,302.0,351.0,318.0,350.0,351.0,267.0,360.0,89.0,86.0,98.0,121.0,183.0,350.0,141.0,260.0,105.0,105.0,85.0,91.0,151.0,173.0,173.0,151.0,98.0,89.0,98.0,86.0,151.0,140.0,151.0,225.0,97.0,134.0,120.0,119.0,108.0,86.0,156.0,85.0,90.0,90.0,121.0,146.0,91.0,104.46938775510205,97.0,89.0,168.0,70.0,122.0,104.46938775510205,107.0,135.0,151.0,156.0,173.0,135.0,79.0,86.0,81.0,97.0,85.0,89.0,91.0,105.0,98.0,98.0,105.0,104.46938775510205,107.0,108.0,119.0,120.0,141.0,145.0,168.0,146.0,231.0,350.0,200.0,225.0,112.0,112.0,112.0,112.0,135.0,151.0,140.0,105.0,91.0,91.0,105.0,98.0,120.0,107.0,108.0,91.0,91.0,91.0,181.0,262.0,156.0,232.0,144.0,135.0,151.0,140.0,97.0,135.0,120.0,119.0]},{\"axis\":{\"matches\":true},\"label\":\"horsepower\",\"values\":[130.0,165.0,150.0,150.0,140.0,198.0,220.0,215.0,225.0,190.0,170.0,160.0,150.0,225.0,95.0,95.0,97.0,85.0,88.0,46.0,87.0,90.0,95.0,113.0,90.0,215.0,200.0,210.0,193.0,88.0,90.0,95.0,104.46938775510205,100.0,105.0,100.0,88.0,100.0,165.0,175.0,153.0,150.0,180.0,170.0,175.0,110.0,72.0,100.0,88.0,86.0,90.0,70.0,76.0,65.0,69.0,60.0,70.0,95.0,80.0,54.0,90.0,86.0,165.0,175.0,150.0,153.0,150.0,208.0,155.0,160.0,190.0,97.0,150.0,130.0,140.0,150.0,112.0,76.0,87.0,69.0,86.0,92.0,97.0,80.0,88.0,175.0,150.0,145.0,137.0,150.0,198.0,150.0,158.0,150.0,215.0,225.0,175.0,105.0,100.0,100.0,88.0,95.0,46.0,150.0,167.0,170.0,180.0,100.0,88.0,72.0,94.0,90.0,85.0,107.0,90.0,145.0,230.0,49.0,75.0,91.0,112.0,150.0,110.0,122.0,180.0,95.0,104.46938775510205,100.0,100.0,67.0,80.0,65.0,75.0,100.0,110.0,105.0,140.0,150.0,150.0,140.0,150.0,83.0,67.0,78.0,52.0,61.0,75.0,75.0,75.0,97.0,93.0,67.0,95.0,105.0,72.0,72.0,170.0,145.0,150.0,148.0,110.0,105.0,110.0,95.0,110.0,110.0,129.0,75.0,83.0,100.0,78.0,96.0,71.0,97.0,97.0,70.0,90.0,95.0,88.0,98.0,115.0,53.0,86.0,81.0,92.0,79.0,83.0,140.0,150.0,120.0,152.0,100.0,105.0,81.0,90.0,52.0,60.0,70.0,53.0,100.0,78.0,110.0,95.0,71.0,70.0,75.0,72.0,102.0,150.0,88.0,108.0,120.0,180.0,145.0,130.0,150.0,68.0,80.0,58.0,96.0,70.0,145.0,110.0,145.0,130.0,110.0,105.0,100.0,98.0,180.0,170.0,190.0,149.0,78.0,88.0,75.0,89.0,63.0,83.0,67.0,78.0,97.0,110.0,110.0,48.0,66.0,52.0,70.0,60.0,110.0,140.0,139.0,105.0,95.0,85.0,88.0,100.0,90.0,105.0,85.0,110.0,120.0,145.0,165.0,139.0,140.0,68.0,95.0,97.0,75.0,95.0,105.0,85.0,97.0,103.0,125.0,115.0,133.0,71.0,68.0,115.0,85.0,88.0,90.0,110.0,130.0,129.0,138.0,135.0,155.0,142.0,125.0,150.0,71.0,65.0,80.0,80.0,77.0,125.0,71.0,90.0,70.0,70.0,65.0,69.0,90.0,115.0,115.0,90.0,76.0,60.0,70.0,65.0,90.0,88.0,90.0,90.0,78.0,90.0,75.0,92.0,75.0,65.0,105.0,65.0,48.0,48.0,67.0,67.0,67.0,104.46938775510205,67.0,62.0,132.0,100.0,88.0,104.46938775510205,72.0,84.0,84.0,92.0,110.0,84.0,58.0,64.0,60.0,67.0,65.0,62.0,68.0,63.0,65.0,65.0,74.0,104.46938775510205,75.0,75.0,100.0,74.0,80.0,76.0,116.0,120.0,110.0,105.0,88.0,85.0,88.0,88.0,88.0,85.0,84.0,90.0,92.0,74.0,68.0,68.0,63.0,70.0,88.0,75.0,70.0,67.0,67.0,67.0,110.0,85.0,92.0,112.0,96.0,84.0,90.0,86.0,52.0,84.0,79.0,82.0]},{\"axis\":{\"matches\":true},\"label\":\"weight\",\"values\":[3504.0,3693.0,3436.0,3433.0,3449.0,4341.0,4354.0,4312.0,4425.0,3850.0,3563.0,3609.0,3761.0,3086.0,2372.0,2833.0,2774.0,2587.0,2130.0,1835.0,2672.0,2430.0,2375.0,2234.0,2648.0,4615.0,4376.0,4382.0,4732.0,2130.0,2264.0,2228.0,104.46938775510205,2634.0,3439.0,3329.0,3302.0,3288.0,4209.0,4464.0,4154.0,4096.0,4955.0,4746.0,5140.0,2962.0,2408.0,3282.0,3139.0,2220.0,2123.0,2074.0,2065.0,1773.0,1613.0,1834.0,1955.0,2278.0,2126.0,2254.0,2408.0,2226.0,4274.0,4385.0,4135.0,4129.0,3672.0,4633.0,4502.0,4456.0,4422.0,2330.0,3892.0,4098.0,4294.0,4077.0,2933.0,2511.0,2979.0,2189.0,2395.0,2288.0,2506.0,2164.0,2100.0,4100.0,3672.0,3988.0,4042.0,3777.0,4952.0,4464.0,4363.0,4237.0,4735.0,4951.0,3821.0,3121.0,3278.0,2945.0,3021.0,2904.0,1950.0,4997.0,4906.0,4654.0,4499.0,2789.0,2279.0,2401.0,2379.0,2124.0,2310.0,2472.0,2265.0,4082.0,4278.0,1867.0,2158.0,2582.0,2868.0,3399.0,2660.0,2807.0,3664.0,3102.0,104.46938775510205,2901.0,3336.0,1950.0,2451.0,1836.0,2542.0,3781.0,3632.0,3613.0,4141.0,4699.0,4457.0,4638.0,4257.0,2219.0,1963.0,2300.0,1649.0,2003.0,2125.0,2108.0,2246.0,2489.0,2391.0,2000.0,3264.0,3459.0,3432.0,3158.0,4668.0,4440.0,4498.0,4657.0,3907.0,3897.0,3730.0,3785.0,3039.0,3221.0,3169.0,2171.0,2639.0,2914.0,2592.0,2702.0,2223.0,2545.0,2984.0,1937.0,3211.0,2694.0,2957.0,2945.0,2671.0,1795.0,2464.0,2220.0,2572.0,2255.0,2202.0,4215.0,4190.0,3962.0,4215.0,3233.0,3353.0,3012.0,3085.0,2035.0,2164.0,1937.0,1795.0,3651.0,3574.0,3645.0,3193.0,1825.0,1990.0,2155.0,2565.0,3150.0,3940.0,3270.0,2930.0,3820.0,4380.0,4055.0,3870.0,3755.0,2045.0,2155.0,1825.0,2300.0,1945.0,3880.0,4060.0,4140.0,4295.0,3520.0,3425.0,3630.0,3525.0,4220.0,4165.0,4325.0,4335.0,1940.0,2740.0,2265.0,2755.0,2051.0,2075.0,1985.0,2190.0,2815.0,2600.0,2720.0,1985.0,1800.0,1985.0,2070.0,1800.0,3365.0,3735.0,3570.0,3535.0,3155.0,2965.0,2720.0,3430.0,3210.0,3380.0,3070.0,3620.0,3410.0,3425.0,3445.0,3205.0,4080.0,2155.0,2560.0,2300.0,2230.0,2515.0,2745.0,2855.0,2405.0,2830.0,3140.0,2795.0,3410.0,1990.0,2135.0,3245.0,2990.0,2890.0,3265.0,3360.0,3840.0,3725.0,3955.0,3830.0,4360.0,4054.0,3605.0,3940.0,1925.0,1975.0,1915.0,2670.0,3530.0,3900.0,3190.0,3420.0,2200.0,2150.0,2020.0,2130.0,2670.0,2595.0,2700.0,2556.0,2144.0,1968.0,2120.0,2019.0,2678.0,2870.0,3003.0,3381.0,2188.0,2711.0,2542.0,2434.0,2265.0,2110.0,2800.0,2110.0,2085.0,2335.0,2950.0,3250.0,1850.0,104.46938775510205,2145.0,1845.0,2910.0,2420.0,2500.0,104.46938775510205,2290.0,2490.0,2635.0,2620.0,2725.0,2385.0,1755.0,1875.0,1760.0,2065.0,1975.0,2050.0,1985.0,2215.0,2045.0,2380.0,2190.0,104.46938775510205,2210.0,2350.0,2615.0,2635.0,3230.0,3160.0,2900.0,2930.0,3415.0,3725.0,3060.0,3465.0,2605.0,2640.0,2395.0,2575.0,2525.0,2735.0,2865.0,1980.0,2025.0,1970.0,2125.0,2125.0,2160.0,2205.0,2245.0,1965.0,1965.0,1995.0,2945.0,3015.0,2585.0,2835.0,2665.0,2370.0,2950.0,2790.0,2130.0,2295.0,2625.0,2720.0]},{\"axis\":{\"matches\":true},\"label\":\"acceleration\",\"values\":[12.0,11.5,11.0,12.0,10.5,10.0,9.0,8.5,10.0,8.5,10.0,8.0,9.5,10.0,15.0,15.5,15.5,16.0,14.5,20.5,17.5,14.5,17.5,12.5,15.0,14.0,15.0,13.5,18.5,14.5,15.5,14.0,104.46938775510205,13.0,15.5,15.5,15.5,15.5,12.0,11.5,13.5,13.0,11.5,12.0,12.0,13.5,19.0,15.0,14.5,14.0,14.0,19.5,14.5,19.0,18.0,19.0,20.5,15.5,17.0,23.5,19.5,16.5,12.0,12.0,13.5,13.0,11.5,11.0,13.5,13.5,12.5,13.5,12.5,14.0,16.0,14.0,14.5,18.0,19.5,18.0,16.0,17.0,14.5,15.0,16.5,13.0,11.5,13.0,14.5,12.5,11.5,12.0,13.0,14.5,11.0,11.0,11.0,16.5,18.0,16.0,16.5,16.0,21.0,14.0,12.5,13.0,12.5,15.0,19.0,19.5,16.5,13.5,18.5,14.0,15.5,13.0,9.5,19.5,15.5,14.0,15.5,11.0,14.0,13.5,11.0,16.5,104.46938775510205,16.0,17.0,19.0,16.5,21.0,17.0,17.0,18.0,16.5,14.0,14.5,13.5,16.0,15.5,16.5,15.5,14.5,16.5,19.0,14.5,15.5,14.0,15.0,15.5,16.0,16.0,16.0,21.0,19.5,11.5,14.0,14.5,13.5,21.0,18.5,19.0,19.0,15.0,13.5,12.0,16.0,17.0,16.0,18.5,13.5,16.5,17.0,14.5,14.0,17.0,15.0,17.0,14.5,13.5,17.5,15.5,16.9,14.9,17.7,15.3,13.0,13.0,13.9,12.8,15.4,14.5,17.6,17.6,22.2,22.1,14.2,17.4,17.7,21.0,16.2,17.8,12.2,17.0,16.4,13.6,15.7,13.2,21.9,15.5,16.7,12.1,12.0,15.0,14.0,18.5,14.8,18.6,15.5,16.8,12.5,19.0,13.7,14.9,16.4,16.9,17.7,19.0,11.1,11.4,12.2,14.5,14.5,16.0,18.2,15.8,17.0,15.9,16.4,14.1,14.5,12.8,13.5,21.5,14.4,19.4,18.6,16.4,15.5,13.2,12.8,19.2,18.2,15.8,15.4,17.2,17.2,15.8,16.7,18.7,15.1,13.2,13.4,11.2,13.7,16.5,14.2,14.7,14.5,14.8,16.7,17.6,14.9,15.9,13.6,15.7,15.8,14.9,16.6,15.4,18.2,17.3,18.2,16.6,15.4,13.4,13.2,15.2,14.9,14.3,15.0,13.0,14.0,15.2,14.4,15.0,20.1,17.4,24.8,22.2,13.2,14.9,19.2,14.7,16.0,11.3,12.9,13.2,14.7,18.8,15.5,16.4,16.5,18.1,20.1,18.7,15.8,15.5,17.5,15.0,15.2,17.9,14.4,19.2,21.7,23.7,19.9,21.8,13.8,104.46938775510205,18.0,15.3,11.4,12.5,15.1,104.46938775510205,17.0,15.7,16.4,14.4,12.6,12.9,16.9,16.4,16.1,17.8,19.4,17.3,16.0,14.9,16.2,20.7,14.2,104.46938775510205,14.4,16.8,14.8,18.3,20.4,19.6,12.6,13.8,15.8,19.0,17.1,16.6,19.6,18.6,18.0,16.2,16.0,18.0,16.4,15.3,18.2,17.6,14.7,17.3,14.5,14.5,16.9,15.0,15.7,16.2,16.4,17.0,14.5,14.7,13.9,13.0,17.3,15.6,24.6,11.6,18.6,19.4]},{\"axis\":{\"matches\":true},\"label\":\"year\",\"values\":[70.0,70.0,70.0,70.0,70.0,70.0,70.0,70.0,70.0,70.0,70.0,70.0,70.0,70.0,70.0,70.0,70.0,70.0,70.0,70.0,70.0,70.0,70.0,70.0,70.0,70.0,70.0,70.0,70.0,71.0,71.0,71.0,104.46938775510205,71.0,71.0,71.0,71.0,71.0,71.0,71.0,71.0,71.0,71.0,71.0,71.0,71.0,71.0,71.0,71.0,71.0,71.0,71.0,71.0,71.0,71.0,71.0,71.0,72.0,72.0,72.0,72.0,72.0,72.0,72.0,72.0,72.0,72.0,72.0,72.0,72.0,72.0,72.0,72.0,72.0,72.0,72.0,72.0,72.0,72.0,72.0,72.0,72.0,72.0,72.0,72.0,73.0,73.0,73.0,73.0,73.0,73.0,73.0,73.0,73.0,73.0,73.0,73.0,73.0,73.0,73.0,73.0,73.0,73.0,73.0,73.0,73.0,73.0,73.0,73.0,73.0,73.0,73.0,73.0,73.0,73.0,73.0,73.0,73.0,73.0,73.0,73.0,73.0,73.0,73.0,73.0,74.0,104.46938775510205,74.0,74.0,74.0,74.0,74.0,74.0,74.0,74.0,74.0,74.0,74.0,74.0,74.0,74.0,74.0,74.0,74.0,74.0,74.0,74.0,74.0,74.0,74.0,74.0,74.0,75.0,75.0,75.0,75.0,75.0,75.0,75.0,75.0,75.0,75.0,75.0,75.0,75.0,75.0,75.0,75.0,75.0,75.0,75.0,75.0,75.0,75.0,75.0,75.0,75.0,75.0,75.0,75.0,75.0,75.0,76.0,76.0,76.0,76.0,76.0,76.0,76.0,76.0,76.0,76.0,76.0,76.0,76.0,76.0,76.0,76.0,76.0,76.0,76.0,76.0,76.0,76.0,76.0,76.0,76.0,76.0,76.0,76.0,76.0,76.0,76.0,76.0,76.0,76.0,77.0,77.0,77.0,77.0,77.0,77.0,77.0,77.0,77.0,77.0,77.0,77.0,77.0,77.0,77.0,77.0,77.0,77.0,77.0,77.0,77.0,77.0,77.0,77.0,77.0,77.0,77.0,77.0,78.0,78.0,78.0,78.0,78.0,78.0,78.0,78.0,78.0,78.0,78.0,78.0,78.0,78.0,78.0,78.0,78.0,78.0,78.0,78.0,78.0,78.0,78.0,78.0,78.0,78.0,78.0,78.0,78.0,78.0,78.0,78.0,78.0,78.0,78.0,78.0,79.0,79.0,79.0,79.0,79.0,79.0,79.0,79.0,79.0,79.0,79.0,79.0,79.0,79.0,79.0,79.0,79.0,79.0,79.0,79.0,79.0,79.0,79.0,79.0,79.0,79.0,79.0,79.0,79.0,80.0,80.0,80.0,80.0,80.0,80.0,80.0,80.0,80.0,80.0,80.0,80.0,80.0,80.0,80.0,80.0,80.0,80.0,80.0,80.0,80.0,104.46938775510205,80.0,80.0,80.0,80.0,80.0,104.46938775510205,80.0,81.0,81.0,81.0,81.0,81.0,81.0,81.0,81.0,81.0,81.0,81.0,81.0,81.0,81.0,81.0,81.0,104.46938775510205,81.0,81.0,81.0,81.0,81.0,81.0,81.0,81.0,81.0,81.0,81.0,81.0,82.0,82.0,82.0,82.0,82.0,82.0,82.0,82.0,82.0,82.0,82.0,82.0,82.0,82.0,82.0,82.0,82.0,82.0,82.0,82.0,82.0,82.0,82.0,82.0,82.0,82.0,82.0,82.0,82.0,82.0]},{\"axis\":{\"matches\":true},\"label\":\"origin\",\"values\":[1.0,1.0,1.0,1.0,1.0,1.0,1.0,1.0,1.0,1.0,1.0,1.0,1.0,1.0,3.0,1.0,1.0,1.0,3.0,2.0,2.0,2.0,2.0,2.0,1.0,1.0,1.0,1.0,1.0,3.0,1.0,3.0,104.46938775510205,1.0,1.0,1.0,1.0,1.0,1.0,1.0,1.0,1.0,1.0,1.0,1.0,1.0,1.0,1.0,1.0,1.0,2.0,2.0,2.0,3.0,3.0,2.0,1.0,3.0,1.0,2.0,1.0,1.0,1.0,1.0,1.0,1.0,1.0,1.0,1.0,1.0,1.0,3.0,1.0,1.0,1.0,1.0,2.0,2.0,2.0,2.0,1.0,3.0,3.0,1.0,3.0,1.0,1.0,1.0,1.0,1.0,1.0,1.0,1.0,1.0,1.0,1.0,1.0,1.0,1.0,1.0,1.0,1.0,2.0,1.0,1.0,1.0,1.0,1.0,3.0,1.0,3.0,3.0,1.0,1.0,2.0,1.0,1.0,2.0,2.0,2.0,2.0,1.0,2.0,3.0,1.0,1.0,104.46938775510205,1.0,1.0,3.0,1.0,3.0,1.0,1.0,1.0,1.0,1.0,1.0,1.0,1.0,1.0,2.0,2.0,2.0,3.0,3.0,1.0,2.0,2.0,3.0,3.0,2.0,1.0,1.0,1.0,1.0,1.0,1.0,1.0,1.0,1.0,1.0,1.0,1.0,1.0,1.0,1.0,3.0,1.0,1.0,1.0,3.0,2.0,3.0,1.0,2.0,1.0,2.0,2.0,2.0,2.0,3.0,2.0,2.0,1.0,1.0,2.0,1.0,1.0,1.0,1.0,1.0,1.0,1.0,1.0,1.0,1.0,2.0,3.0,1.0,1.0,1.0,1.0,2.0,3.0,3.0,1.0,2.0,1.0,2.0,3.0,2.0,1.0,1.0,1.0,1.0,3.0,1.0,2.0,1.0,3.0,1.0,1.0,1.0,1.0,1.0,1.0,1.0,1.0,1.0,1.0,1.0,1.0,2.0,1.0,3.0,1.0,1.0,1.0,3.0,2.0,3.0,2.0,3.0,2.0,1.0,3.0,3.0,3.0,1.0,1.0,1.0,1.0,1.0,1.0,1.0,1.0,1.0,1.0,1.0,1.0,1.0,1.0,1.0,1.0,1.0,1.0,3.0,3.0,1.0,3.0,1.0,1.0,3.0,2.0,2.0,2.0,2.0,2.0,3.0,1.0,1.0,1.0,1.0,1.0,1.0,1.0,1.0,1.0,1.0,1.0,1.0,1.0,2.0,3.0,1.0,1.0,2.0,1.0,2.0,1.0,1.0,1.0,3.0,2.0,1.0,1.0,1.0,1.0,2.0,3.0,1.0,3.0,1.0,1.0,1.0,1.0,2.0,3.0,3.0,3.0,3.0,3.0,1.0,3.0,2.0,2.0,2.0,2.0,3.0,104.46938775510205,3.0,2.0,3.0,3.0,2.0,104.46938775510205,3.0,1.0,1.0,1.0,1.0,1.0,3.0,1.0,3.0,3.0,3.0,3.0,3.0,1.0,1.0,1.0,2.0,104.46938775510205,3.0,3.0,3.0,3.0,2.0,2.0,3.0,3.0,1.0,1.0,1.0,1.0,1.0,1.0,1.0,1.0,1.0,1.0,1.0,2.0,3.0,3.0,1.0,1.0,3.0,3.0,3.0,3.0,3.0,3.0,1.0,1.0,1.0,1.0,3.0,1.0,1.0,1.0,2.0,1.0,1.0,1.0]}],\"hovertemplate\":\"%{xaxis.title.text}=%{x}<br>%{yaxis.title.text}=%{y}<extra></extra>\",\"legendgroup\":\"\",\"marker\":{\"color\":\"#636efa\",\"symbol\":\"circle\"},\"name\":\"\",\"showlegend\":false,\"type\":\"splom\",\"diagonal\":{\"visible\":false}}],                        {\"template\":{\"data\":{\"bar\":[{\"error_x\":{\"color\":\"#2a3f5f\"},\"error_y\":{\"color\":\"#2a3f5f\"},\"marker\":{\"line\":{\"color\":\"#E5ECF6\",\"width\":0.5},\"pattern\":{\"fillmode\":\"overlay\",\"size\":10,\"solidity\":0.2}},\"type\":\"bar\"}],\"barpolar\":[{\"marker\":{\"line\":{\"color\":\"#E5ECF6\",\"width\":0.5},\"pattern\":{\"fillmode\":\"overlay\",\"size\":10,\"solidity\":0.2}},\"type\":\"barpolar\"}],\"carpet\":[{\"aaxis\":{\"endlinecolor\":\"#2a3f5f\",\"gridcolor\":\"white\",\"linecolor\":\"white\",\"minorgridcolor\":\"white\",\"startlinecolor\":\"#2a3f5f\"},\"baxis\":{\"endlinecolor\":\"#2a3f5f\",\"gridcolor\":\"white\",\"linecolor\":\"white\",\"minorgridcolor\":\"white\",\"startlinecolor\":\"#2a3f5f\"},\"type\":\"carpet\"}],\"choropleth\":[{\"colorbar\":{\"outlinewidth\":0,\"ticks\":\"\"},\"type\":\"choropleth\"}],\"contour\":[{\"colorbar\":{\"outlinewidth\":0,\"ticks\":\"\"},\"colorscale\":[[0.0,\"#0d0887\"],[0.1111111111111111,\"#46039f\"],[0.2222222222222222,\"#7201a8\"],[0.3333333333333333,\"#9c179e\"],[0.4444444444444444,\"#bd3786\"],[0.5555555555555556,\"#d8576b\"],[0.6666666666666666,\"#ed7953\"],[0.7777777777777778,\"#fb9f3a\"],[0.8888888888888888,\"#fdca26\"],[1.0,\"#f0f921\"]],\"type\":\"contour\"}],\"contourcarpet\":[{\"colorbar\":{\"outlinewidth\":0,\"ticks\":\"\"},\"type\":\"contourcarpet\"}],\"heatmap\":[{\"colorbar\":{\"outlinewidth\":0,\"ticks\":\"\"},\"colorscale\":[[0.0,\"#0d0887\"],[0.1111111111111111,\"#46039f\"],[0.2222222222222222,\"#7201a8\"],[0.3333333333333333,\"#9c179e\"],[0.4444444444444444,\"#bd3786\"],[0.5555555555555556,\"#d8576b\"],[0.6666666666666666,\"#ed7953\"],[0.7777777777777778,\"#fb9f3a\"],[0.8888888888888888,\"#fdca26\"],[1.0,\"#f0f921\"]],\"type\":\"heatmap\"}],\"heatmapgl\":[{\"colorbar\":{\"outlinewidth\":0,\"ticks\":\"\"},\"colorscale\":[[0.0,\"#0d0887\"],[0.1111111111111111,\"#46039f\"],[0.2222222222222222,\"#7201a8\"],[0.3333333333333333,\"#9c179e\"],[0.4444444444444444,\"#bd3786\"],[0.5555555555555556,\"#d8576b\"],[0.6666666666666666,\"#ed7953\"],[0.7777777777777778,\"#fb9f3a\"],[0.8888888888888888,\"#fdca26\"],[1.0,\"#f0f921\"]],\"type\":\"heatmapgl\"}],\"histogram\":[{\"marker\":{\"pattern\":{\"fillmode\":\"overlay\",\"size\":10,\"solidity\":0.2}},\"type\":\"histogram\"}],\"histogram2d\":[{\"colorbar\":{\"outlinewidth\":0,\"ticks\":\"\"},\"colorscale\":[[0.0,\"#0d0887\"],[0.1111111111111111,\"#46039f\"],[0.2222222222222222,\"#7201a8\"],[0.3333333333333333,\"#9c179e\"],[0.4444444444444444,\"#bd3786\"],[0.5555555555555556,\"#d8576b\"],[0.6666666666666666,\"#ed7953\"],[0.7777777777777778,\"#fb9f3a\"],[0.8888888888888888,\"#fdca26\"],[1.0,\"#f0f921\"]],\"type\":\"histogram2d\"}],\"histogram2dcontour\":[{\"colorbar\":{\"outlinewidth\":0,\"ticks\":\"\"},\"colorscale\":[[0.0,\"#0d0887\"],[0.1111111111111111,\"#46039f\"],[0.2222222222222222,\"#7201a8\"],[0.3333333333333333,\"#9c179e\"],[0.4444444444444444,\"#bd3786\"],[0.5555555555555556,\"#d8576b\"],[0.6666666666666666,\"#ed7953\"],[0.7777777777777778,\"#fb9f3a\"],[0.8888888888888888,\"#fdca26\"],[1.0,\"#f0f921\"]],\"type\":\"histogram2dcontour\"}],\"mesh3d\":[{\"colorbar\":{\"outlinewidth\":0,\"ticks\":\"\"},\"type\":\"mesh3d\"}],\"parcoords\":[{\"line\":{\"colorbar\":{\"outlinewidth\":0,\"ticks\":\"\"}},\"type\":\"parcoords\"}],\"pie\":[{\"automargin\":true,\"type\":\"pie\"}],\"scatter\":[{\"marker\":{\"colorbar\":{\"outlinewidth\":0,\"ticks\":\"\"}},\"type\":\"scatter\"}],\"scatter3d\":[{\"line\":{\"colorbar\":{\"outlinewidth\":0,\"ticks\":\"\"}},\"marker\":{\"colorbar\":{\"outlinewidth\":0,\"ticks\":\"\"}},\"type\":\"scatter3d\"}],\"scattercarpet\":[{\"marker\":{\"colorbar\":{\"outlinewidth\":0,\"ticks\":\"\"}},\"type\":\"scattercarpet\"}],\"scattergeo\":[{\"marker\":{\"colorbar\":{\"outlinewidth\":0,\"ticks\":\"\"}},\"type\":\"scattergeo\"}],\"scattergl\":[{\"marker\":{\"colorbar\":{\"outlinewidth\":0,\"ticks\":\"\"}},\"type\":\"scattergl\"}],\"scattermapbox\":[{\"marker\":{\"colorbar\":{\"outlinewidth\":0,\"ticks\":\"\"}},\"type\":\"scattermapbox\"}],\"scatterpolar\":[{\"marker\":{\"colorbar\":{\"outlinewidth\":0,\"ticks\":\"\"}},\"type\":\"scatterpolar\"}],\"scatterpolargl\":[{\"marker\":{\"colorbar\":{\"outlinewidth\":0,\"ticks\":\"\"}},\"type\":\"scatterpolargl\"}],\"scatterternary\":[{\"marker\":{\"colorbar\":{\"outlinewidth\":0,\"ticks\":\"\"}},\"type\":\"scatterternary\"}],\"surface\":[{\"colorbar\":{\"outlinewidth\":0,\"ticks\":\"\"},\"colorscale\":[[0.0,\"#0d0887\"],[0.1111111111111111,\"#46039f\"],[0.2222222222222222,\"#7201a8\"],[0.3333333333333333,\"#9c179e\"],[0.4444444444444444,\"#bd3786\"],[0.5555555555555556,\"#d8576b\"],[0.6666666666666666,\"#ed7953\"],[0.7777777777777778,\"#fb9f3a\"],[0.8888888888888888,\"#fdca26\"],[1.0,\"#f0f921\"]],\"type\":\"surface\"}],\"table\":[{\"cells\":{\"fill\":{\"color\":\"#EBF0F8\"},\"line\":{\"color\":\"white\"}},\"header\":{\"fill\":{\"color\":\"#C8D4E3\"},\"line\":{\"color\":\"white\"}},\"type\":\"table\"}]},\"layout\":{\"annotationdefaults\":{\"arrowcolor\":\"#2a3f5f\",\"arrowhead\":0,\"arrowwidth\":1},\"autotypenumbers\":\"strict\",\"coloraxis\":{\"colorbar\":{\"outlinewidth\":0,\"ticks\":\"\"}},\"colorscale\":{\"diverging\":[[0,\"#8e0152\"],[0.1,\"#c51b7d\"],[0.2,\"#de77ae\"],[0.3,\"#f1b6da\"],[0.4,\"#fde0ef\"],[0.5,\"#f7f7f7\"],[0.6,\"#e6f5d0\"],[0.7,\"#b8e186\"],[0.8,\"#7fbc41\"],[0.9,\"#4d9221\"],[1,\"#276419\"]],\"sequential\":[[0.0,\"#0d0887\"],[0.1111111111111111,\"#46039f\"],[0.2222222222222222,\"#7201a8\"],[0.3333333333333333,\"#9c179e\"],[0.4444444444444444,\"#bd3786\"],[0.5555555555555556,\"#d8576b\"],[0.6666666666666666,\"#ed7953\"],[0.7777777777777778,\"#fb9f3a\"],[0.8888888888888888,\"#fdca26\"],[1.0,\"#f0f921\"]],\"sequentialminus\":[[0.0,\"#0d0887\"],[0.1111111111111111,\"#46039f\"],[0.2222222222222222,\"#7201a8\"],[0.3333333333333333,\"#9c179e\"],[0.4444444444444444,\"#bd3786\"],[0.5555555555555556,\"#d8576b\"],[0.6666666666666666,\"#ed7953\"],[0.7777777777777778,\"#fb9f3a\"],[0.8888888888888888,\"#fdca26\"],[1.0,\"#f0f921\"]]},\"colorway\":[\"#636efa\",\"#EF553B\",\"#00cc96\",\"#ab63fa\",\"#FFA15A\",\"#19d3f3\",\"#FF6692\",\"#B6E880\",\"#FF97FF\",\"#FECB52\"],\"font\":{\"color\":\"#2a3f5f\"},\"geo\":{\"bgcolor\":\"white\",\"lakecolor\":\"white\",\"landcolor\":\"#E5ECF6\",\"showlakes\":true,\"showland\":true,\"subunitcolor\":\"white\"},\"hoverlabel\":{\"align\":\"left\"},\"hovermode\":\"closest\",\"mapbox\":{\"style\":\"light\"},\"paper_bgcolor\":\"white\",\"plot_bgcolor\":\"#E5ECF6\",\"polar\":{\"angularaxis\":{\"gridcolor\":\"white\",\"linecolor\":\"white\",\"ticks\":\"\"},\"bgcolor\":\"#E5ECF6\",\"radialaxis\":{\"gridcolor\":\"white\",\"linecolor\":\"white\",\"ticks\":\"\"}},\"scene\":{\"xaxis\":{\"backgroundcolor\":\"#E5ECF6\",\"gridcolor\":\"white\",\"gridwidth\":2,\"linecolor\":\"white\",\"showbackground\":true,\"ticks\":\"\",\"zerolinecolor\":\"white\"},\"yaxis\":{\"backgroundcolor\":\"#E5ECF6\",\"gridcolor\":\"white\",\"gridwidth\":2,\"linecolor\":\"white\",\"showbackground\":true,\"ticks\":\"\",\"zerolinecolor\":\"white\"},\"zaxis\":{\"backgroundcolor\":\"#E5ECF6\",\"gridcolor\":\"white\",\"gridwidth\":2,\"linecolor\":\"white\",\"showbackground\":true,\"ticks\":\"\",\"zerolinecolor\":\"white\"}},\"shapedefaults\":{\"line\":{\"color\":\"#2a3f5f\"}},\"ternary\":{\"aaxis\":{\"gridcolor\":\"white\",\"linecolor\":\"white\",\"ticks\":\"\"},\"baxis\":{\"gridcolor\":\"white\",\"linecolor\":\"white\",\"ticks\":\"\"},\"bgcolor\":\"#E5ECF6\",\"caxis\":{\"gridcolor\":\"white\",\"linecolor\":\"white\",\"ticks\":\"\"}},\"title\":{\"x\":0.05},\"xaxis\":{\"automargin\":true,\"gridcolor\":\"white\",\"linecolor\":\"white\",\"ticks\":\"\",\"title\":{\"standoff\":15},\"zerolinecolor\":\"white\",\"zerolinewidth\":2},\"yaxis\":{\"automargin\":true,\"gridcolor\":\"white\",\"linecolor\":\"white\",\"ticks\":\"\",\"title\":{\"standoff\":15},\"zerolinecolor\":\"white\",\"zerolinewidth\":2}}},\"legend\":{\"tracegroupgap\":0},\"margin\":{\"t\":60},\"dragmode\":\"select\"},                        {\"responsive\": true}                    ).then(function(){\n",
              "                            \n",
              "var gd = document.getElementById('bd8388cb-1341-4130-a41a-56d38b1d38d9');\n",
              "var x = new MutationObserver(function (mutations, observer) {{\n",
              "        var display = window.getComputedStyle(gd).display;\n",
              "        if (!display || display === 'none') {{\n",
              "            console.log([gd, 'removed!']);\n",
              "            Plotly.purge(gd);\n",
              "            observer.disconnect();\n",
              "        }}\n",
              "}});\n",
              "\n",
              "// Listen for the removal of the full notebook cells\n",
              "var notebookContainer = gd.closest('#notebook-container');\n",
              "if (notebookContainer) {{\n",
              "    x.observe(notebookContainer, {childList: true});\n",
              "}}\n",
              "\n",
              "// Listen for the clearing of the current output cell\n",
              "var outputEl = gd.closest('.output');\n",
              "if (outputEl) {{\n",
              "    x.observe(outputEl, {childList: true});\n",
              "}}\n",
              "\n",
              "                        })                };                            </script>        </div>\n",
              "</body>\n",
              "</html>"
            ]
          },
          "metadata": {}
        }
      ]
    },
    {
      "cell_type": "code",
      "source": [
        "# (b) Compute the matrix of correlations between the variables using\n",
        "# the function cor(). You will need to exclude the name variable, cor() which is qualitative.\n",
        "import plotly.express as px\n",
        "numeric_columns = ['mpg', 'cylinders', 'displacement', 'horsepower', \n",
        "                   'weight', 'acceleration', 'year'\n",
        "                #    , 'origin'\n",
        "                   ]\n",
        "\n",
        "import numpy as np\n",
        "corr_matrix = np.corrcoef(auto[numeric_columns], rowvar=False)\n",
        "\n",
        "# corr_matrix\n",
        "\n",
        "fig = px.imshow(corr_matrix\n",
        "                , text_auto=True\n",
        "                , labels=dict(x=\"Columns\", y=\"Columns\")\n",
        "                , x=numeric_columns\n",
        "                , y=numeric_columns\n",
        "                , aspect=\"auto\"\n",
        "                , color_continuous_scale=\"BuPu\"\n",
        "                )\n",
        "fig.update_xaxes(side=\"top\")\n",
        "fig.show()"
      ],
      "metadata": {
        "colab": {
          "base_uri": "https://localhost:8080/",
          "height": 542
        },
        "id": "z2XSyQKeCxiS",
        "outputId": "f9b7d7dd-7669-4bac-e473-f581f5367ff8"
      },
      "execution_count": 32,
      "outputs": [
        {
          "output_type": "display_data",
          "data": {
            "text/html": [
              "<html>\n",
              "<head><meta charset=\"utf-8\" /></head>\n",
              "<body>\n",
              "    <div>            <script src=\"https://cdnjs.cloudflare.com/ajax/libs/mathjax/2.7.5/MathJax.js?config=TeX-AMS-MML_SVG\"></script><script type=\"text/javascript\">if (window.MathJax) {MathJax.Hub.Config({SVG: {font: \"STIX-Web\"}});}</script>                <script type=\"text/javascript\">window.PlotlyConfig = {MathJaxConfig: 'local'};</script>\n",
              "        <script src=\"https://cdn.plot.ly/plotly-2.8.3.min.js\"></script>                <div id=\"5808e866-d72b-474c-9feb-ad49282b3e7a\" class=\"plotly-graph-div\" style=\"height:525px; width:100%;\"></div>            <script type=\"text/javascript\">                                    window.PLOTLYENV=window.PLOTLYENV || {};                                    if (document.getElementById(\"5808e866-d72b-474c-9feb-ad49282b3e7a\")) {                    Plotly.newPlot(                        \"5808e866-d72b-474c-9feb-ad49282b3e7a\",                        [{\"coloraxis\":\"coloraxis\",\"name\":\"0\",\"texttemplate\":\"%{z}\",\"x\":[\"mpg\",\"cylinders\",\"displacement\",\"horsepower\",\"weight\",\"acceleration\",\"year\"],\"y\":[\"mpg\",\"cylinders\",\"displacement\",\"horsepower\",\"weight\",\"acceleration\",\"year\"],\"z\":[[1.0,0.6737269067637361,-0.5945738842969953,-0.5066370590202892,-0.776062613325717,0.8051541564270669,0.783204113130501],[0.673726906763736,1.0,0.04842344770069407,0.12776965554303216,-0.2240233894278873,0.9324428018241201,0.6088358944050337],[-0.5945738842969953,0.04842344770069407,1.0,0.8931012229028408,0.9022386582704799,-0.23671953096090415,-0.3409330397267965],[-0.5066370590202892,0.12776965554303216,0.8931012229028408,1.0,0.8081321457038694,-0.18341637270260228,-0.31426870099593734],[-0.7760626133257171,-0.2240233894278873,0.9022386582704799,0.8081321457038694,1.0,-0.4461726881448219,-0.45115492406946],[0.805154156427067,0.93244280182412,-0.23671953096090412,-0.1834163727026023,-0.44617268814482197,0.9999999999999998,0.6906189939439346],[0.783204113130501,0.6088358944050338,-0.3409330397267965,-0.3142687009959374,-0.45115492406946,0.6906189939439346,1.0]],\"type\":\"heatmap\",\"xaxis\":\"x\",\"yaxis\":\"y\",\"hovertemplate\":\"Columns: %{x}<br>Columns: %{y}<br>color: %{z}<extra></extra>\"}],                        {\"template\":{\"data\":{\"bar\":[{\"error_x\":{\"color\":\"#2a3f5f\"},\"error_y\":{\"color\":\"#2a3f5f\"},\"marker\":{\"line\":{\"color\":\"#E5ECF6\",\"width\":0.5},\"pattern\":{\"fillmode\":\"overlay\",\"size\":10,\"solidity\":0.2}},\"type\":\"bar\"}],\"barpolar\":[{\"marker\":{\"line\":{\"color\":\"#E5ECF6\",\"width\":0.5},\"pattern\":{\"fillmode\":\"overlay\",\"size\":10,\"solidity\":0.2}},\"type\":\"barpolar\"}],\"carpet\":[{\"aaxis\":{\"endlinecolor\":\"#2a3f5f\",\"gridcolor\":\"white\",\"linecolor\":\"white\",\"minorgridcolor\":\"white\",\"startlinecolor\":\"#2a3f5f\"},\"baxis\":{\"endlinecolor\":\"#2a3f5f\",\"gridcolor\":\"white\",\"linecolor\":\"white\",\"minorgridcolor\":\"white\",\"startlinecolor\":\"#2a3f5f\"},\"type\":\"carpet\"}],\"choropleth\":[{\"colorbar\":{\"outlinewidth\":0,\"ticks\":\"\"},\"type\":\"choropleth\"}],\"contour\":[{\"colorbar\":{\"outlinewidth\":0,\"ticks\":\"\"},\"colorscale\":[[0.0,\"#0d0887\"],[0.1111111111111111,\"#46039f\"],[0.2222222222222222,\"#7201a8\"],[0.3333333333333333,\"#9c179e\"],[0.4444444444444444,\"#bd3786\"],[0.5555555555555556,\"#d8576b\"],[0.6666666666666666,\"#ed7953\"],[0.7777777777777778,\"#fb9f3a\"],[0.8888888888888888,\"#fdca26\"],[1.0,\"#f0f921\"]],\"type\":\"contour\"}],\"contourcarpet\":[{\"colorbar\":{\"outlinewidth\":0,\"ticks\":\"\"},\"type\":\"contourcarpet\"}],\"heatmap\":[{\"colorbar\":{\"outlinewidth\":0,\"ticks\":\"\"},\"colorscale\":[[0.0,\"#0d0887\"],[0.1111111111111111,\"#46039f\"],[0.2222222222222222,\"#7201a8\"],[0.3333333333333333,\"#9c179e\"],[0.4444444444444444,\"#bd3786\"],[0.5555555555555556,\"#d8576b\"],[0.6666666666666666,\"#ed7953\"],[0.7777777777777778,\"#fb9f3a\"],[0.8888888888888888,\"#fdca26\"],[1.0,\"#f0f921\"]],\"type\":\"heatmap\"}],\"heatmapgl\":[{\"colorbar\":{\"outlinewidth\":0,\"ticks\":\"\"},\"colorscale\":[[0.0,\"#0d0887\"],[0.1111111111111111,\"#46039f\"],[0.2222222222222222,\"#7201a8\"],[0.3333333333333333,\"#9c179e\"],[0.4444444444444444,\"#bd3786\"],[0.5555555555555556,\"#d8576b\"],[0.6666666666666666,\"#ed7953\"],[0.7777777777777778,\"#fb9f3a\"],[0.8888888888888888,\"#fdca26\"],[1.0,\"#f0f921\"]],\"type\":\"heatmapgl\"}],\"histogram\":[{\"marker\":{\"pattern\":{\"fillmode\":\"overlay\",\"size\":10,\"solidity\":0.2}},\"type\":\"histogram\"}],\"histogram2d\":[{\"colorbar\":{\"outlinewidth\":0,\"ticks\":\"\"},\"colorscale\":[[0.0,\"#0d0887\"],[0.1111111111111111,\"#46039f\"],[0.2222222222222222,\"#7201a8\"],[0.3333333333333333,\"#9c179e\"],[0.4444444444444444,\"#bd3786\"],[0.5555555555555556,\"#d8576b\"],[0.6666666666666666,\"#ed7953\"],[0.7777777777777778,\"#fb9f3a\"],[0.8888888888888888,\"#fdca26\"],[1.0,\"#f0f921\"]],\"type\":\"histogram2d\"}],\"histogram2dcontour\":[{\"colorbar\":{\"outlinewidth\":0,\"ticks\":\"\"},\"colorscale\":[[0.0,\"#0d0887\"],[0.1111111111111111,\"#46039f\"],[0.2222222222222222,\"#7201a8\"],[0.3333333333333333,\"#9c179e\"],[0.4444444444444444,\"#bd3786\"],[0.5555555555555556,\"#d8576b\"],[0.6666666666666666,\"#ed7953\"],[0.7777777777777778,\"#fb9f3a\"],[0.8888888888888888,\"#fdca26\"],[1.0,\"#f0f921\"]],\"type\":\"histogram2dcontour\"}],\"mesh3d\":[{\"colorbar\":{\"outlinewidth\":0,\"ticks\":\"\"},\"type\":\"mesh3d\"}],\"parcoords\":[{\"line\":{\"colorbar\":{\"outlinewidth\":0,\"ticks\":\"\"}},\"type\":\"parcoords\"}],\"pie\":[{\"automargin\":true,\"type\":\"pie\"}],\"scatter\":[{\"marker\":{\"colorbar\":{\"outlinewidth\":0,\"ticks\":\"\"}},\"type\":\"scatter\"}],\"scatter3d\":[{\"line\":{\"colorbar\":{\"outlinewidth\":0,\"ticks\":\"\"}},\"marker\":{\"colorbar\":{\"outlinewidth\":0,\"ticks\":\"\"}},\"type\":\"scatter3d\"}],\"scattercarpet\":[{\"marker\":{\"colorbar\":{\"outlinewidth\":0,\"ticks\":\"\"}},\"type\":\"scattercarpet\"}],\"scattergeo\":[{\"marker\":{\"colorbar\":{\"outlinewidth\":0,\"ticks\":\"\"}},\"type\":\"scattergeo\"}],\"scattergl\":[{\"marker\":{\"colorbar\":{\"outlinewidth\":0,\"ticks\":\"\"}},\"type\":\"scattergl\"}],\"scattermapbox\":[{\"marker\":{\"colorbar\":{\"outlinewidth\":0,\"ticks\":\"\"}},\"type\":\"scattermapbox\"}],\"scatterpolar\":[{\"marker\":{\"colorbar\":{\"outlinewidth\":0,\"ticks\":\"\"}},\"type\":\"scatterpolar\"}],\"scatterpolargl\":[{\"marker\":{\"colorbar\":{\"outlinewidth\":0,\"ticks\":\"\"}},\"type\":\"scatterpolargl\"}],\"scatterternary\":[{\"marker\":{\"colorbar\":{\"outlinewidth\":0,\"ticks\":\"\"}},\"type\":\"scatterternary\"}],\"surface\":[{\"colorbar\":{\"outlinewidth\":0,\"ticks\":\"\"},\"colorscale\":[[0.0,\"#0d0887\"],[0.1111111111111111,\"#46039f\"],[0.2222222222222222,\"#7201a8\"],[0.3333333333333333,\"#9c179e\"],[0.4444444444444444,\"#bd3786\"],[0.5555555555555556,\"#d8576b\"],[0.6666666666666666,\"#ed7953\"],[0.7777777777777778,\"#fb9f3a\"],[0.8888888888888888,\"#fdca26\"],[1.0,\"#f0f921\"]],\"type\":\"surface\"}],\"table\":[{\"cells\":{\"fill\":{\"color\":\"#EBF0F8\"},\"line\":{\"color\":\"white\"}},\"header\":{\"fill\":{\"color\":\"#C8D4E3\"},\"line\":{\"color\":\"white\"}},\"type\":\"table\"}]},\"layout\":{\"annotationdefaults\":{\"arrowcolor\":\"#2a3f5f\",\"arrowhead\":0,\"arrowwidth\":1},\"autotypenumbers\":\"strict\",\"coloraxis\":{\"colorbar\":{\"outlinewidth\":0,\"ticks\":\"\"}},\"colorscale\":{\"diverging\":[[0,\"#8e0152\"],[0.1,\"#c51b7d\"],[0.2,\"#de77ae\"],[0.3,\"#f1b6da\"],[0.4,\"#fde0ef\"],[0.5,\"#f7f7f7\"],[0.6,\"#e6f5d0\"],[0.7,\"#b8e186\"],[0.8,\"#7fbc41\"],[0.9,\"#4d9221\"],[1,\"#276419\"]],\"sequential\":[[0.0,\"#0d0887\"],[0.1111111111111111,\"#46039f\"],[0.2222222222222222,\"#7201a8\"],[0.3333333333333333,\"#9c179e\"],[0.4444444444444444,\"#bd3786\"],[0.5555555555555556,\"#d8576b\"],[0.6666666666666666,\"#ed7953\"],[0.7777777777777778,\"#fb9f3a\"],[0.8888888888888888,\"#fdca26\"],[1.0,\"#f0f921\"]],\"sequentialminus\":[[0.0,\"#0d0887\"],[0.1111111111111111,\"#46039f\"],[0.2222222222222222,\"#7201a8\"],[0.3333333333333333,\"#9c179e\"],[0.4444444444444444,\"#bd3786\"],[0.5555555555555556,\"#d8576b\"],[0.6666666666666666,\"#ed7953\"],[0.7777777777777778,\"#fb9f3a\"],[0.8888888888888888,\"#fdca26\"],[1.0,\"#f0f921\"]]},\"colorway\":[\"#636efa\",\"#EF553B\",\"#00cc96\",\"#ab63fa\",\"#FFA15A\",\"#19d3f3\",\"#FF6692\",\"#B6E880\",\"#FF97FF\",\"#FECB52\"],\"font\":{\"color\":\"#2a3f5f\"},\"geo\":{\"bgcolor\":\"white\",\"lakecolor\":\"white\",\"landcolor\":\"#E5ECF6\",\"showlakes\":true,\"showland\":true,\"subunitcolor\":\"white\"},\"hoverlabel\":{\"align\":\"left\"},\"hovermode\":\"closest\",\"mapbox\":{\"style\":\"light\"},\"paper_bgcolor\":\"white\",\"plot_bgcolor\":\"#E5ECF6\",\"polar\":{\"angularaxis\":{\"gridcolor\":\"white\",\"linecolor\":\"white\",\"ticks\":\"\"},\"bgcolor\":\"#E5ECF6\",\"radialaxis\":{\"gridcolor\":\"white\",\"linecolor\":\"white\",\"ticks\":\"\"}},\"scene\":{\"xaxis\":{\"backgroundcolor\":\"#E5ECF6\",\"gridcolor\":\"white\",\"gridwidth\":2,\"linecolor\":\"white\",\"showbackground\":true,\"ticks\":\"\",\"zerolinecolor\":\"white\"},\"yaxis\":{\"backgroundcolor\":\"#E5ECF6\",\"gridcolor\":\"white\",\"gridwidth\":2,\"linecolor\":\"white\",\"showbackground\":true,\"ticks\":\"\",\"zerolinecolor\":\"white\"},\"zaxis\":{\"backgroundcolor\":\"#E5ECF6\",\"gridcolor\":\"white\",\"gridwidth\":2,\"linecolor\":\"white\",\"showbackground\":true,\"ticks\":\"\",\"zerolinecolor\":\"white\"}},\"shapedefaults\":{\"line\":{\"color\":\"#2a3f5f\"}},\"ternary\":{\"aaxis\":{\"gridcolor\":\"white\",\"linecolor\":\"white\",\"ticks\":\"\"},\"baxis\":{\"gridcolor\":\"white\",\"linecolor\":\"white\",\"ticks\":\"\"},\"bgcolor\":\"#E5ECF6\",\"caxis\":{\"gridcolor\":\"white\",\"linecolor\":\"white\",\"ticks\":\"\"}},\"title\":{\"x\":0.05},\"xaxis\":{\"automargin\":true,\"gridcolor\":\"white\",\"linecolor\":\"white\",\"ticks\":\"\",\"title\":{\"standoff\":15},\"zerolinecolor\":\"white\",\"zerolinewidth\":2},\"yaxis\":{\"automargin\":true,\"gridcolor\":\"white\",\"linecolor\":\"white\",\"ticks\":\"\",\"title\":{\"standoff\":15},\"zerolinecolor\":\"white\",\"zerolinewidth\":2}}},\"xaxis\":{\"anchor\":\"y\",\"domain\":[0.0,1.0],\"title\":{\"text\":\"Columns\"},\"side\":\"top\"},\"yaxis\":{\"anchor\":\"x\",\"domain\":[0.0,1.0],\"autorange\":\"reversed\",\"title\":{\"text\":\"Columns\"}},\"coloraxis\":{\"colorscale\":[[0.0,\"rgb(247,252,253)\"],[0.125,\"rgb(224,236,244)\"],[0.25,\"rgb(191,211,230)\"],[0.375,\"rgb(158,188,218)\"],[0.5,\"rgb(140,150,198)\"],[0.625,\"rgb(140,107,177)\"],[0.75,\"rgb(136,65,157)\"],[0.875,\"rgb(129,15,124)\"],[1.0,\"rgb(77,0,75)\"]]},\"margin\":{\"t\":60}},                        {\"responsive\": true}                    ).then(function(){\n",
              "                            \n",
              "var gd = document.getElementById('5808e866-d72b-474c-9feb-ad49282b3e7a');\n",
              "var x = new MutationObserver(function (mutations, observer) {{\n",
              "        var display = window.getComputedStyle(gd).display;\n",
              "        if (!display || display === 'none') {{\n",
              "            console.log([gd, 'removed!']);\n",
              "            Plotly.purge(gd);\n",
              "            observer.disconnect();\n",
              "        }}\n",
              "}});\n",
              "\n",
              "// Listen for the removal of the full notebook cells\n",
              "var notebookContainer = gd.closest('#notebook-container');\n",
              "if (notebookContainer) {{\n",
              "    x.observe(notebookContainer, {childList: true});\n",
              "}}\n",
              "\n",
              "// Listen for the clearing of the current output cell\n",
              "var outputEl = gd.closest('.output');\n",
              "if (outputEl) {{\n",
              "    x.observe(outputEl, {childList: true});\n",
              "}}\n",
              "\n",
              "                        })                };                            </script>        </div>\n",
              "</body>\n",
              "</html>"
            ]
          },
          "metadata": {}
        }
      ]
    },
    {
      "cell_type": "code",
      "source": [
        "# (c) Use the lm() function to perform a multiple linear regression\n",
        "# with mpg as the response and all other variables except name as\n",
        "# the predictors. Use the summary() function to print the results.\n",
        "import statsmodels.formula.api as smf\n",
        "mult_linear_regression_instance = smf.ols(formula=\"mpg ~ cylinders + displacement + horsepower + weight + acceleration + year + origin\", data=auto)\n",
        "mlr = mult_linear_regression_instance.fit()\n",
        "mlr.summary2()"
      ],
      "metadata": {
        "colab": {
          "base_uri": "https://localhost:8080/",
          "height": 443
        },
        "id": "j2Z1R3T7M3Sh",
        "outputId": "b893fe98-0700-4f52-8b98-7b6cdfb686fc"
      },
      "execution_count": 53,
      "outputs": [
        {
          "output_type": "execute_result",
          "data": {
            "text/html": [
              "<table class=\"simpletable\">\n",
              "<tr>\n",
              "        <td>Model:</td>               <td>OLS</td>         <td>Adj. R-squared:</td>     <td>0.923</td>  \n",
              "</tr>\n",
              "<tr>\n",
              "  <td>Dependent Variable:</td>        <td>mpg</td>              <td>AIC:</td>         <td>2086.2328</td>\n",
              "</tr>\n",
              "<tr>\n",
              "         <td>Date:</td>        <td>2022-01-18 03:38</td>        <td>BIC:</td>         <td>2118.1043</td>\n",
              "</tr>\n",
              "<tr>\n",
              "   <td>No. Observations:</td>         <td>397</td>         <td>Log-Likelihood:</td>    <td>-1035.1</td> \n",
              "</tr>\n",
              "<tr>\n",
              "       <td>Df Model:</td>              <td>7</td>           <td>F-statistic:</td>       <td>675.2</td>  \n",
              "</tr>\n",
              "<tr>\n",
              "     <td>Df Residuals:</td>           <td>389</td>       <td>Prob (F-statistic):</td> <td>3.10e-213</td>\n",
              "</tr>\n",
              "<tr>\n",
              "      <td>R-squared:</td>            <td>0.924</td>            <td>Scale:</td>         <td>10.992</td>  \n",
              "</tr>\n",
              "</table>\n",
              "<table class=\"simpletable\">\n",
              "<tr>\n",
              "        <td></td>         <th>Coef.</th>  <th>Std.Err.</th>    <th>t</th>     <th>P>|t|</th>  <th>[0.025</th>  <th>0.975]</th> \n",
              "</tr>\n",
              "<tr>\n",
              "  <th>Intercept</th>    <td>-14.9193</td>  <td>4.3541</td>  <td>-3.4265</td> <td>0.0007</td> <td>-23.4799</td> <td>-6.3587</td>\n",
              "</tr>\n",
              "<tr>\n",
              "  <th>cylinders</th>     <td>-0.8305</td>  <td>0.2259</td>  <td>-3.6771</td> <td>0.0003</td>  <td>-1.2746</td> <td>-0.3865</td>\n",
              "</tr>\n",
              "<tr>\n",
              "  <th>displacement</th>  <td>0.0228</td>   <td>0.0072</td>  <td>3.1507</td>  <td>0.0018</td>  <td>0.0086</td>  <td>0.0370</td> \n",
              "</tr>\n",
              "<tr>\n",
              "  <th>horsepower</th>    <td>-0.0189</td>  <td>0.0137</td>  <td>-1.3789</td> <td>0.1687</td>  <td>-0.0457</td> <td>0.0080</td> \n",
              "</tr>\n",
              "<tr>\n",
              "  <th>weight</th>        <td>-0.0063</td>  <td>0.0006</td>  <td>-9.8605</td> <td>0.0000</td>  <td>-0.0076</td> <td>-0.0051</td>\n",
              "</tr>\n",
              "<tr>\n",
              "  <th>acceleration</th>  <td>0.0429</td>   <td>0.0951</td>  <td>0.4512</td>  <td>0.6521</td>  <td>-0.1440</td> <td>0.2298</td> \n",
              "</tr>\n",
              "<tr>\n",
              "  <th>year</th>          <td>0.7462</td>   <td>0.0507</td>  <td>14.7209</td> <td>0.0000</td>  <td>0.6465</td>  <td>0.8459</td> \n",
              "</tr>\n",
              "<tr>\n",
              "  <th>origin</th>        <td>1.1874</td>   <td>0.2244</td>  <td>5.2920</td>  <td>0.0000</td>  <td>0.7462</td>  <td>1.6285</td> \n",
              "</tr>\n",
              "</table>\n",
              "<table class=\"simpletable\">\n",
              "<tr>\n",
              "     <td>Omnibus:</td>    <td>37.262</td>  <td>Durbin-Watson:</td>    <td>1.304</td>\n",
              "</tr>\n",
              "<tr>\n",
              "  <td>Prob(Omnibus):</td>  <td>0.000</td> <td>Jarque-Bera (JB):</td> <td>66.461</td>\n",
              "</tr>\n",
              "<tr>\n",
              "       <td>Skew:</td>      <td>0.575</td>     <td>Prob(JB):</td>      <td>0.000</td>\n",
              "</tr>\n",
              "<tr>\n",
              "     <td>Kurtosis:</td>    <td>4.642</td>  <td>Condition No.:</td>    <td>80780</td>\n",
              "</tr>\n",
              "</table>"
            ],
            "text/plain": [
              "<class 'statsmodels.iolib.summary2.Summary'>\n",
              "\"\"\"\n",
              "                 Results: Ordinary least squares\n",
              "==================================================================\n",
              "Model:              OLS              Adj. R-squared:     0.923    \n",
              "Dependent Variable: mpg              AIC:                2086.2328\n",
              "Date:               2022-01-18 03:38 BIC:                2118.1043\n",
              "No. Observations:   397              Log-Likelihood:     -1035.1  \n",
              "Df Model:           7                F-statistic:        675.2    \n",
              "Df Residuals:       389              Prob (F-statistic): 3.10e-213\n",
              "R-squared:          0.924            Scale:              10.992   \n",
              "------------------------------------------------------------------\n",
              "                  Coef.   Std.Err.    t    P>|t|   [0.025   0.975]\n",
              "------------------------------------------------------------------\n",
              "Intercept        -14.9193   4.3541 -3.4265 0.0007 -23.4799 -6.3587\n",
              "cylinders         -0.8305   0.2259 -3.6771 0.0003  -1.2746 -0.3865\n",
              "displacement       0.0228   0.0072  3.1507 0.0018   0.0086  0.0370\n",
              "horsepower        -0.0189   0.0137 -1.3789 0.1687  -0.0457  0.0080\n",
              "weight            -0.0063   0.0006 -9.8605 0.0000  -0.0076 -0.0051\n",
              "acceleration       0.0429   0.0951  0.4512 0.6521  -0.1440  0.2298\n",
              "year               0.7462   0.0507 14.7209 0.0000   0.6465  0.8459\n",
              "origin             1.1874   0.2244  5.2920 0.0000   0.7462  1.6285\n",
              "------------------------------------------------------------------\n",
              "Omnibus:               37.262       Durbin-Watson:          1.304 \n",
              "Prob(Omnibus):         0.000        Jarque-Bera (JB):       66.461\n",
              "Skew:                  0.575        Prob(JB):               0.000 \n",
              "Kurtosis:              4.642        Condition No.:          80780 \n",
              "==================================================================\n",
              "* The condition number is large (8e+04). This might indicate\n",
              "strong multicollinearity or other numerical problems.\n",
              "\"\"\""
            ]
          },
          "metadata": {},
          "execution_count": 53
        }
      ]
    },
    {
      "cell_type": "markdown",
      "source": [
        "## Comment on the output. For instance:\n",
        "### i. Is there a relationship between the predictors and the response?\n",
        "#### **A = Yes but not for all.**\n",
        "### ii. Which predictors appear to have a statistically significant relationship to the response?\n",
        "#### **A = All predictors except horsepower and acceleration: P>|t| > 0.05**\n",
        "### iii. What does the coefficient for the year variable suggest?\n",
        "#### **A = That exists a positive correlation and considered as statistically significant due to P>|t|<0.05**"
      ],
      "metadata": {
        "id": "0R4rrzJ6RIPz"
      }
    },
    {
      "cell_type": "code",
      "source": [
        "# (d) Use the plot() function to produce diagnostic plots of the linear\n",
        "# regression fit.\n",
        "import plotly.express as px\n",
        "# Residual = observed_value - predicted_value\n",
        "# e = y - y´\n",
        "list_residuals = np.zeros((1, len(auto)))\n",
        "# predictors = \"cylinders, displacement, horsepower, weight, acceleration, year, origin\"\n",
        "residuals = auto['mpg'] - mlr.predict()\n",
        "fig = px.scatter(x=auto['mpg'], y=residuals, labels=[\"Residuals\", \"MPG\"], title=\"Residuals Vs MPG\")\n",
        "fig.show()"
      ],
      "metadata": {
        "colab": {
          "base_uri": "https://localhost:8080/",
          "height": 542
        },
        "id": "5uTrR0XgSFv1",
        "outputId": "db454a28-5c75-4425-cc01-2db08cb9b89f"
      },
      "execution_count": 80,
      "outputs": [
        {
          "output_type": "display_data",
          "data": {
            "text/html": [
              "<html>\n",
              "<head><meta charset=\"utf-8\" /></head>\n",
              "<body>\n",
              "    <div>            <script src=\"https://cdnjs.cloudflare.com/ajax/libs/mathjax/2.7.5/MathJax.js?config=TeX-AMS-MML_SVG\"></script><script type=\"text/javascript\">if (window.MathJax) {MathJax.Hub.Config({SVG: {font: \"STIX-Web\"}});}</script>                <script type=\"text/javascript\">window.PlotlyConfig = {MathJaxConfig: 'local'};</script>\n",
              "        <script src=\"https://cdn.plot.ly/plotly-2.8.3.min.js\"></script>                <div id=\"8f753282-9a79-413c-8dbc-650309c6a643\" class=\"plotly-graph-div\" style=\"height:525px; width:100%;\"></div>            <script type=\"text/javascript\">                                    window.PLOTLYENV=window.PLOTLYENV || {};                                    if (document.getElementById(\"8f753282-9a79-413c-8dbc-650309c6a643\")) {                    Plotly.newPlot(                        \"8f753282-9a79-413c-8dbc-650309c6a643\",                        [{\"hovertemplate\":\"x=%{x}<br>y=%{y}<extra></extra>\",\"legendgroup\":\"\",\"marker\":{\"color\":\"#636efa\",\"symbol\":\"circle\"},\"mode\":\"markers\",\"name\":\"\",\"orientation\":\"v\",\"showlegend\":false,\"x\":[18.0,15.0,18.0,16.0,17.0,15.0,14.0,14.0,14.0,15.0,15.0,14.0,15.0,14.0,24.0,22.0,18.0,21.0,27.0,26.0,25.0,24.0,25.0,26.0,21.0,10.0,10.0,11.0,9.0,27.0,28.0,25.0,104.46938775510205,19.0,16.0,17.0,19.0,18.0,14.0,14.0,14.0,14.0,12.0,13.0,13.0,18.0,22.0,19.0,18.0,23.0,28.0,30.0,30.0,31.0,35.0,27.0,26.0,24.0,25.0,23.0,20.0,21.0,13.0,14.0,15.0,14.0,17.0,11.0,13.0,12.0,13.0,19.0,15.0,13.0,13.0,14.0,18.0,22.0,21.0,26.0,22.0,28.0,23.0,28.0,27.0,13.0,14.0,13.0,14.0,15.0,12.0,13.0,13.0,14.0,13.0,12.0,13.0,18.0,16.0,18.0,18.0,23.0,26.0,11.0,12.0,13.0,12.0,18.0,20.0,21.0,22.0,18.0,19.0,21.0,26.0,15.0,16.0,29.0,24.0,20.0,19.0,15.0,24.0,20.0,11.0,20.0,104.46938775510205,19.0,15.0,31.0,26.0,32.0,25.0,16.0,16.0,18.0,16.0,13.0,14.0,14.0,14.0,29.0,26.0,26.0,31.0,32.0,28.0,24.0,26.0,24.0,26.0,31.0,19.0,18.0,15.0,15.0,16.0,15.0,16.0,14.0,17.0,16.0,15.0,18.0,21.0,20.0,13.0,29.0,23.0,20.0,23.0,24.0,25.0,24.0,18.0,29.0,19.0,23.0,23.0,22.0,25.0,33.0,28.0,25.0,25.0,26.0,27.0,17.5,16.0,15.5,14.5,22.0,22.0,24.0,22.5,29.0,24.5,29.0,33.0,20.0,18.0,18.5,17.5,29.5,32.0,28.0,26.5,20.0,13.0,19.0,19.0,16.5,16.5,13.0,13.0,13.0,31.5,30.0,36.0,25.5,33.5,17.5,17.0,15.5,15.0,17.5,20.5,19.0,18.5,16.0,15.5,15.5,16.0,29.0,24.5,26.0,25.5,30.5,33.5,30.0,30.5,22.0,21.5,21.5,43.1,36.1,32.8,39.4,36.1,19.9,19.4,20.2,19.2,20.5,20.2,25.1,20.5,19.4,20.6,20.8,18.6,18.1,19.2,17.7,18.1,17.5,30.0,27.5,27.2,30.9,21.1,23.2,23.8,23.9,20.3,17.0,21.6,16.2,31.5,29.5,21.5,19.8,22.3,20.2,20.6,17.0,17.6,16.5,18.2,16.9,15.5,19.2,18.5,31.9,34.1,35.7,27.4,25.4,23.0,27.2,23.9,34.2,34.5,31.8,37.3,28.4,28.8,26.8,33.5,41.5,38.1,32.1,37.2,28.0,26.4,24.3,19.1,34.3,29.8,31.3,37.0,32.2,46.6,27.9,40.8,44.3,43.4,36.4,30.0,44.6,104.46938775510205,33.8,29.8,32.7,23.7,35.0,104.46938775510205,32.4,27.2,26.6,25.8,23.5,30.0,39.1,39.0,35.1,32.3,37.0,37.7,34.1,34.7,34.4,29.9,33.0,104.46938775510205,33.7,32.4,32.9,31.6,28.1,30.7,25.4,24.2,22.4,26.6,20.2,17.6,28.0,27.0,34.0,31.0,29.0,27.0,24.0,36.0,37.0,31.0,38.0,36.0,36.0,36.0,34.0,38.0,32.0,38.0,25.0,38.0,26.0,22.0,32.0,36.0,27.0,27.0,44.0,32.0,28.0,31.0],\"xaxis\":\"x\",\"y\":[3.191408926084854,1.0859133626622288,2.9320372695808032,1.1889903975803762,2.2112395392997044,4.061184772809947,3.0316837268039407,3.0126984406658615,3.508152187657741,1.7655602489266045,-0.326872408779602,-0.16038214825805674,0.17931317626838883,-4.93801874838509,-0.01718918880897391,2.969600379087108,-1.387617918764942,0.16232398938457493,1.7100881350270747,-1.0127206397352708,3.872727392578124,1.599810105444238,2.286774019367787,2.5641965708019043,0.7070515833504771,2.509598175033492,1.8830777232127893,2.9233704165125722,2.91482956927403,0.9638954134397828,4.199580779719852,-0.628809002896606,-0.07614007314063542,-2.6044883925240114,-0.38027108096851947,-0.7376552774222702,0.8657570004804285,0.4135784090752992,2.5731062527493194,3.2531294739406533,1.912781413793116,2.263207760782038,4.831635608930533,3.916203303720337,6.495766280362492,-1.9604208896327187,-1.3816544591862545,0.987326675506857,-1.1195186713961647,-0.6791860471867537,2.7336389927456324,4.653962064722776,4.71989773779616,2.6772732527396528,5.763576884806259,-0.43688336031688735,0.7745563550529653,-2.123959200283881,0.2977081631814329,-2.839975409659626,-3.809881797684227,-3.4947793059019503,1.2369218290281907,1.987169483560617,2.7415705265282533,1.030342684412723,2.2256234179460144,0.5563475964301716,2.422192488231703,1.2263146793183353,1.4819550596893656,-6.5238639653835016,1.5704448279513947,0.36007057786547136,1.8130175631370875,1.3542674770461076,-2.6236770627797483,-2.1145532775805123,0.0033478775851456533,0.2915761100714178,-1.4073082400637524,2.182516317395887,-1.764552286502493,3.6118184456689484,-0.05732987270741319,-0.4611667304662834,-1.5205693036412704,-1.7333340242486805,0.48503353823519646,-0.2199227605341001,2.6123361338313913,0.2678849914972474,0.8544617447201226,1.595876458820097,2.335080665086654,2.544588342855789,-2.3629473719577554,-1.9214422564760554,-3.658986995853546,-3.2638387742253343,-3.442024836241764,2.157427940608237,-2.5473489996585883,1.5441550684549767,2.3550504181611185,2.7113867855749376,1.171384837397916,-4.204959706331735,-6.781670277101917,-3.93964413351722,-4.180969051776849,-9.701462273615284,-5.815769497706885,-1.2763793410415403,0.4824698159024656,0.8596010526654574,3.7103884877587134,0.7103403879371228,-2.8851669544660865,-3.7990613363427883,-2.8227770650055746,-2.539930233966416,0.8918320921506755,-2.256454220803583,-5.031296361031838,-0.3612659188652607,-0.07614007314063542,-3.2875755743681836,-4.996427176572503,1.4107345170415044,1.3189564520452564,1.7502897803648416,0.3673823629435482,-1.1894472911811178,-2.165805098865281,0.43581244578509626,2.44133363053,2.0352666862410267,2.280303112782942,3.4905221886695514,1.2517167244773368,2.2712237196457714,-2.1697573310515494,-0.20355712342557197,-0.5952085140171981,2.5408319493316363,1.9827530745406108,-3.3547389003040813,-1.0119230447837069,-2.385620160505173,-0.827425332901008,3.042182516347612,-1.6789237721119576,-1.8295771498487774,-5.836643806029379,-7.500638002875846,3.46087195131798,1.5825161749659493,3.7498320270773213,2.00656206135476,0.3087371799299028,-1.1739994611585374,-3.336730446442136,0.47875348246733296,-0.9090566549408194,0.25849191785316705,-7.557682334671732,-0.07173629331287401,-1.6161007665056424,-2.9517666363822457,-2.0711986886978018,-2.0615307075151215,-2.493856836100232,-2.8416032458560743,-3.1134892094760254,-0.20950227169568691,-2.3098069080576984,-1.5752140819248304,-0.2478984876082535,-1.0505507347498373,0.5845640695777021,1.2139526244524959,1.2187951443707377,-3.6795805656528096,-0.5251221248336861,-0.9336244590683158,-1.3452249345024718,2.890316796839901,1.1251792297597305,-1.09852869403624,-0.9222322701204995,0.49936238655838494,0.8199496862023068,1.2219272458117558,-0.3765243351720393,0.2724933010189048,-3.5546628566702054,-0.9642747898374537,0.47204980114244677,1.037363472459667,-2.5739878007864654,-0.8168132445200875,-5.201589439803321,-1.2254840640373459,1.1764108821272643,-1.9360137274838607,0.6093641746940861,-2.684620767308381,-3.460355558587654,-3.229948575055463,-5.068957841962373,-0.8660764183268057,2.6993356896515692,-3.5063892684376725,-3.9919338256735273,-4.661621438732311,-0.12091886630869553,1.5366583675284957,4.418491064884783,-2.027501434342259,1.6549460585717313,0.1467357872128261,0.8679623891265926,-0.5607156877033361,-0.053013162935631186,-3.3600632585583057,-0.6424135676311877,-0.8412934684382307,-2.666338096914295,-0.6516934248874762,-0.5615728560900131,-0.34799739023101317,0.45901598789384757,-1.7129504763692331,-1.0846820204618481,-4.065564421672555,0.2878379773303834,1.2617147233371533,4.837418921905005,-1.9053868988127753,1.3811641085326336,-3.477374241875051,-4.9199292129019305,-5.27734165741937,11.218112149037132,4.700365690943883,0.16950169132435633,7.520012663890615,2.2860971139832458,-1.2120187699416647,-0.03440791418548628,0.08741994033737299,-2.093413753206068,-2.6301899849064263,-4.214282039168392,-1.0808252319142753,-1.3276006920736556,-4.163272689341213,-1.525269306691584,-2.9905700271105076,-1.9048995533165538,-4.137941148733592,-1.7995443073782305,-2.780920535253383,-4.246295975244465,0.22034048310254306,0.7872666792984333,-1.7447049774713221,-3.326929642198529,2.2187580304514682,-8.454296265657472,-2.9226548556914125,-1.9306829640061203,-5.9731883421999825,-5.077483169828721,-5.806662264909534,-4.366222181354111,-4.847077580549975,0.38925100284225067,-2.2178997235830202,-2.017294311585033,-5.305736820230091,-3.6361966263499,-3.8054342955064477,-2.2010376025464744,-2.5052152334180917,-2.4953638951547745,-3.0819925662702374,-1.561437614012739,0.14307442590097708,-3.429281742908632,-0.9994272646287214,-1.146680638815468,-0.3283409321160562,0.9033819936520473,4.54356161239561,0.4565235746974956,1.8373328799464446,2.6685383266119125,1.3037187641986385,1.7241677837844414,4.544817477876595,4.45649820880497,-1.2615923552952104,6.25148074214378,0.9190979024921617,2.6791501890531,1.2728329131703155,5.420123577997256,9.7662043881673,3.7960072338788606,1.2547192838758363,3.4832545712934504,-0.1980817507439312,-0.4428649334985266,-2.002476599393713,-4.781981606951266,2.857042033123385,-0.13466019278360264,0.24945010916351507,5.718781185819658,-0.22591215793215724,13.3929177141475,0.7305574597049116,7.559918720162948,11.547928906025241,12.139085932273392,9.66434093921211,3.6754182431998927,9.85263469778257,-0.07614007314063542,0.5966477587370136,-3.9046353659189244,5.875317664244715,-7.126233812518073,5.174432879486314,-0.07614007314063542,0.020765710130469017,-2.6446487935208864,-2.7243591241341996,-3.496175820872242,-3.4432692455697946,-0.38685273831125855,2.9777409989162535,5.984599497778923,-0.9642273184384393,-2.1455907636695315,2.153590506453007,3.2691169875888306,-0.617523708420471,3.442126390089406,2.2111288672334837,-0.36879686623971963,0.6345203272887545,-0.07614007314063542,0.23805389212355976,-0.3045785547456532,2.17373473016735,0.33670907638999026,1.3221090811471363,5.009413664339387,-2.587134146986031,-3.073019760006776,-1.6487918630259202,3.2265183784403746,-5.8528168389071205,-6.502511497050676,-1.4336200007852113,-2.1699473191618246,3.310376178544548,1.4664327958798111,-1.3829375110888869,-2.3952699299483022,-4.218435678134689,1.5164965315457977,1.6942186065798737,-4.626972101951139,5.4368096680111435,3.616654771546834,1.421307351745476,1.7560321724231613,-0.21166418073973858,2.4341697715058714,-3.5958595164347926,2.571925591194173,-1.6469151778706177,9.4531389091031,-4.267432139587772,-6.391388204312065,0.2368744732842174,4.768047342316645,-1.0090593490657334,-1.7703412809465,9.831026053657979,0.3550194206601027,-1.6164295248634275,2.027833015165431],\"yaxis\":\"y\",\"type\":\"scatter\"}],                        {\"template\":{\"data\":{\"bar\":[{\"error_x\":{\"color\":\"#2a3f5f\"},\"error_y\":{\"color\":\"#2a3f5f\"},\"marker\":{\"line\":{\"color\":\"#E5ECF6\",\"width\":0.5},\"pattern\":{\"fillmode\":\"overlay\",\"size\":10,\"solidity\":0.2}},\"type\":\"bar\"}],\"barpolar\":[{\"marker\":{\"line\":{\"color\":\"#E5ECF6\",\"width\":0.5},\"pattern\":{\"fillmode\":\"overlay\",\"size\":10,\"solidity\":0.2}},\"type\":\"barpolar\"}],\"carpet\":[{\"aaxis\":{\"endlinecolor\":\"#2a3f5f\",\"gridcolor\":\"white\",\"linecolor\":\"white\",\"minorgridcolor\":\"white\",\"startlinecolor\":\"#2a3f5f\"},\"baxis\":{\"endlinecolor\":\"#2a3f5f\",\"gridcolor\":\"white\",\"linecolor\":\"white\",\"minorgridcolor\":\"white\",\"startlinecolor\":\"#2a3f5f\"},\"type\":\"carpet\"}],\"choropleth\":[{\"colorbar\":{\"outlinewidth\":0,\"ticks\":\"\"},\"type\":\"choropleth\"}],\"contour\":[{\"colorbar\":{\"outlinewidth\":0,\"ticks\":\"\"},\"colorscale\":[[0.0,\"#0d0887\"],[0.1111111111111111,\"#46039f\"],[0.2222222222222222,\"#7201a8\"],[0.3333333333333333,\"#9c179e\"],[0.4444444444444444,\"#bd3786\"],[0.5555555555555556,\"#d8576b\"],[0.6666666666666666,\"#ed7953\"],[0.7777777777777778,\"#fb9f3a\"],[0.8888888888888888,\"#fdca26\"],[1.0,\"#f0f921\"]],\"type\":\"contour\"}],\"contourcarpet\":[{\"colorbar\":{\"outlinewidth\":0,\"ticks\":\"\"},\"type\":\"contourcarpet\"}],\"heatmap\":[{\"colorbar\":{\"outlinewidth\":0,\"ticks\":\"\"},\"colorscale\":[[0.0,\"#0d0887\"],[0.1111111111111111,\"#46039f\"],[0.2222222222222222,\"#7201a8\"],[0.3333333333333333,\"#9c179e\"],[0.4444444444444444,\"#bd3786\"],[0.5555555555555556,\"#d8576b\"],[0.6666666666666666,\"#ed7953\"],[0.7777777777777778,\"#fb9f3a\"],[0.8888888888888888,\"#fdca26\"],[1.0,\"#f0f921\"]],\"type\":\"heatmap\"}],\"heatmapgl\":[{\"colorbar\":{\"outlinewidth\":0,\"ticks\":\"\"},\"colorscale\":[[0.0,\"#0d0887\"],[0.1111111111111111,\"#46039f\"],[0.2222222222222222,\"#7201a8\"],[0.3333333333333333,\"#9c179e\"],[0.4444444444444444,\"#bd3786\"],[0.5555555555555556,\"#d8576b\"],[0.6666666666666666,\"#ed7953\"],[0.7777777777777778,\"#fb9f3a\"],[0.8888888888888888,\"#fdca26\"],[1.0,\"#f0f921\"]],\"type\":\"heatmapgl\"}],\"histogram\":[{\"marker\":{\"pattern\":{\"fillmode\":\"overlay\",\"size\":10,\"solidity\":0.2}},\"type\":\"histogram\"}],\"histogram2d\":[{\"colorbar\":{\"outlinewidth\":0,\"ticks\":\"\"},\"colorscale\":[[0.0,\"#0d0887\"],[0.1111111111111111,\"#46039f\"],[0.2222222222222222,\"#7201a8\"],[0.3333333333333333,\"#9c179e\"],[0.4444444444444444,\"#bd3786\"],[0.5555555555555556,\"#d8576b\"],[0.6666666666666666,\"#ed7953\"],[0.7777777777777778,\"#fb9f3a\"],[0.8888888888888888,\"#fdca26\"],[1.0,\"#f0f921\"]],\"type\":\"histogram2d\"}],\"histogram2dcontour\":[{\"colorbar\":{\"outlinewidth\":0,\"ticks\":\"\"},\"colorscale\":[[0.0,\"#0d0887\"],[0.1111111111111111,\"#46039f\"],[0.2222222222222222,\"#7201a8\"],[0.3333333333333333,\"#9c179e\"],[0.4444444444444444,\"#bd3786\"],[0.5555555555555556,\"#d8576b\"],[0.6666666666666666,\"#ed7953\"],[0.7777777777777778,\"#fb9f3a\"],[0.8888888888888888,\"#fdca26\"],[1.0,\"#f0f921\"]],\"type\":\"histogram2dcontour\"}],\"mesh3d\":[{\"colorbar\":{\"outlinewidth\":0,\"ticks\":\"\"},\"type\":\"mesh3d\"}],\"parcoords\":[{\"line\":{\"colorbar\":{\"outlinewidth\":0,\"ticks\":\"\"}},\"type\":\"parcoords\"}],\"pie\":[{\"automargin\":true,\"type\":\"pie\"}],\"scatter\":[{\"marker\":{\"colorbar\":{\"outlinewidth\":0,\"ticks\":\"\"}},\"type\":\"scatter\"}],\"scatter3d\":[{\"line\":{\"colorbar\":{\"outlinewidth\":0,\"ticks\":\"\"}},\"marker\":{\"colorbar\":{\"outlinewidth\":0,\"ticks\":\"\"}},\"type\":\"scatter3d\"}],\"scattercarpet\":[{\"marker\":{\"colorbar\":{\"outlinewidth\":0,\"ticks\":\"\"}},\"type\":\"scattercarpet\"}],\"scattergeo\":[{\"marker\":{\"colorbar\":{\"outlinewidth\":0,\"ticks\":\"\"}},\"type\":\"scattergeo\"}],\"scattergl\":[{\"marker\":{\"colorbar\":{\"outlinewidth\":0,\"ticks\":\"\"}},\"type\":\"scattergl\"}],\"scattermapbox\":[{\"marker\":{\"colorbar\":{\"outlinewidth\":0,\"ticks\":\"\"}},\"type\":\"scattermapbox\"}],\"scatterpolar\":[{\"marker\":{\"colorbar\":{\"outlinewidth\":0,\"ticks\":\"\"}},\"type\":\"scatterpolar\"}],\"scatterpolargl\":[{\"marker\":{\"colorbar\":{\"outlinewidth\":0,\"ticks\":\"\"}},\"type\":\"scatterpolargl\"}],\"scatterternary\":[{\"marker\":{\"colorbar\":{\"outlinewidth\":0,\"ticks\":\"\"}},\"type\":\"scatterternary\"}],\"surface\":[{\"colorbar\":{\"outlinewidth\":0,\"ticks\":\"\"},\"colorscale\":[[0.0,\"#0d0887\"],[0.1111111111111111,\"#46039f\"],[0.2222222222222222,\"#7201a8\"],[0.3333333333333333,\"#9c179e\"],[0.4444444444444444,\"#bd3786\"],[0.5555555555555556,\"#d8576b\"],[0.6666666666666666,\"#ed7953\"],[0.7777777777777778,\"#fb9f3a\"],[0.8888888888888888,\"#fdca26\"],[1.0,\"#f0f921\"]],\"type\":\"surface\"}],\"table\":[{\"cells\":{\"fill\":{\"color\":\"#EBF0F8\"},\"line\":{\"color\":\"white\"}},\"header\":{\"fill\":{\"color\":\"#C8D4E3\"},\"line\":{\"color\":\"white\"}},\"type\":\"table\"}]},\"layout\":{\"annotationdefaults\":{\"arrowcolor\":\"#2a3f5f\",\"arrowhead\":0,\"arrowwidth\":1},\"autotypenumbers\":\"strict\",\"coloraxis\":{\"colorbar\":{\"outlinewidth\":0,\"ticks\":\"\"}},\"colorscale\":{\"diverging\":[[0,\"#8e0152\"],[0.1,\"#c51b7d\"],[0.2,\"#de77ae\"],[0.3,\"#f1b6da\"],[0.4,\"#fde0ef\"],[0.5,\"#f7f7f7\"],[0.6,\"#e6f5d0\"],[0.7,\"#b8e186\"],[0.8,\"#7fbc41\"],[0.9,\"#4d9221\"],[1,\"#276419\"]],\"sequential\":[[0.0,\"#0d0887\"],[0.1111111111111111,\"#46039f\"],[0.2222222222222222,\"#7201a8\"],[0.3333333333333333,\"#9c179e\"],[0.4444444444444444,\"#bd3786\"],[0.5555555555555556,\"#d8576b\"],[0.6666666666666666,\"#ed7953\"],[0.7777777777777778,\"#fb9f3a\"],[0.8888888888888888,\"#fdca26\"],[1.0,\"#f0f921\"]],\"sequentialminus\":[[0.0,\"#0d0887\"],[0.1111111111111111,\"#46039f\"],[0.2222222222222222,\"#7201a8\"],[0.3333333333333333,\"#9c179e\"],[0.4444444444444444,\"#bd3786\"],[0.5555555555555556,\"#d8576b\"],[0.6666666666666666,\"#ed7953\"],[0.7777777777777778,\"#fb9f3a\"],[0.8888888888888888,\"#fdca26\"],[1.0,\"#f0f921\"]]},\"colorway\":[\"#636efa\",\"#EF553B\",\"#00cc96\",\"#ab63fa\",\"#FFA15A\",\"#19d3f3\",\"#FF6692\",\"#B6E880\",\"#FF97FF\",\"#FECB52\"],\"font\":{\"color\":\"#2a3f5f\"},\"geo\":{\"bgcolor\":\"white\",\"lakecolor\":\"white\",\"landcolor\":\"#E5ECF6\",\"showlakes\":true,\"showland\":true,\"subunitcolor\":\"white\"},\"hoverlabel\":{\"align\":\"left\"},\"hovermode\":\"closest\",\"mapbox\":{\"style\":\"light\"},\"paper_bgcolor\":\"white\",\"plot_bgcolor\":\"#E5ECF6\",\"polar\":{\"angularaxis\":{\"gridcolor\":\"white\",\"linecolor\":\"white\",\"ticks\":\"\"},\"bgcolor\":\"#E5ECF6\",\"radialaxis\":{\"gridcolor\":\"white\",\"linecolor\":\"white\",\"ticks\":\"\"}},\"scene\":{\"xaxis\":{\"backgroundcolor\":\"#E5ECF6\",\"gridcolor\":\"white\",\"gridwidth\":2,\"linecolor\":\"white\",\"showbackground\":true,\"ticks\":\"\",\"zerolinecolor\":\"white\"},\"yaxis\":{\"backgroundcolor\":\"#E5ECF6\",\"gridcolor\":\"white\",\"gridwidth\":2,\"linecolor\":\"white\",\"showbackground\":true,\"ticks\":\"\",\"zerolinecolor\":\"white\"},\"zaxis\":{\"backgroundcolor\":\"#E5ECF6\",\"gridcolor\":\"white\",\"gridwidth\":2,\"linecolor\":\"white\",\"showbackground\":true,\"ticks\":\"\",\"zerolinecolor\":\"white\"}},\"shapedefaults\":{\"line\":{\"color\":\"#2a3f5f\"}},\"ternary\":{\"aaxis\":{\"gridcolor\":\"white\",\"linecolor\":\"white\",\"ticks\":\"\"},\"baxis\":{\"gridcolor\":\"white\",\"linecolor\":\"white\",\"ticks\":\"\"},\"bgcolor\":\"#E5ECF6\",\"caxis\":{\"gridcolor\":\"white\",\"linecolor\":\"white\",\"ticks\":\"\"}},\"title\":{\"x\":0.05},\"xaxis\":{\"automargin\":true,\"gridcolor\":\"white\",\"linecolor\":\"white\",\"ticks\":\"\",\"title\":{\"standoff\":15},\"zerolinecolor\":\"white\",\"zerolinewidth\":2},\"yaxis\":{\"automargin\":true,\"gridcolor\":\"white\",\"linecolor\":\"white\",\"ticks\":\"\",\"title\":{\"standoff\":15},\"zerolinecolor\":\"white\",\"zerolinewidth\":2}}},\"xaxis\":{\"anchor\":\"y\",\"domain\":[0.0,1.0],\"title\":{\"text\":\"x\"}},\"yaxis\":{\"anchor\":\"x\",\"domain\":[0.0,1.0],\"title\":{\"text\":\"y\"}},\"legend\":{\"tracegroupgap\":0},\"title\":{\"text\":\"Residuals Vs MPG\"}},                        {\"responsive\": true}                    ).then(function(){\n",
              "                            \n",
              "var gd = document.getElementById('8f753282-9a79-413c-8dbc-650309c6a643');\n",
              "var x = new MutationObserver(function (mutations, observer) {{\n",
              "        var display = window.getComputedStyle(gd).display;\n",
              "        if (!display || display === 'none') {{\n",
              "            console.log([gd, 'removed!']);\n",
              "            Plotly.purge(gd);\n",
              "            observer.disconnect();\n",
              "        }}\n",
              "}});\n",
              "\n",
              "// Listen for the removal of the full notebook cells\n",
              "var notebookContainer = gd.closest('#notebook-container');\n",
              "if (notebookContainer) {{\n",
              "    x.observe(notebookContainer, {childList: true});\n",
              "}}\n",
              "\n",
              "// Listen for the clearing of the current output cell\n",
              "var outputEl = gd.closest('.output');\n",
              "if (outputEl) {{\n",
              "    x.observe(outputEl, {childList: true});\n",
              "}}\n",
              "\n",
              "                        })                };                            </script>        </div>\n",
              "</body>\n",
              "</html>"
            ]
          },
          "metadata": {}
        }
      ]
    },
    {
      "cell_type": "markdown",
      "source": [
        "### Comment on any problems you see with the fit.\n",
        "#### **A = It shouldn't exist a pettern in residual plot because it indicates that our model is BIASED. In this case we can observe that there is a clear pattern (Squared). So, we have to fix it.**\n",
        "### Do the residual plots suggest any unusually large outliers?\n",
        "#### **A = Yes. We can observe that beyond the value of 10 for the predictor some points are higher than such value. So, I think we have some outliers.**\n",
        "### Does the leverage plot identify any observations with unusually high leverage?\n",
        "#### **A = Also, We can observe a high leverage in the right panel; after the mpg(100) we have a point with high leverage.**"
      ],
      "metadata": {
        "id": "zfgEcn-Aa8uJ"
      }
    },
    {
      "cell_type": "code",
      "source": [
        "# (e) Use the * and : symbols to fit linear regression models with\n",
        "# interaction effects. Do any interactions appear to be statistically\n",
        "# significant?\n",
        "ss = mlr.get_influence()\n",
        "ss.results()\n",
        "# (f) Try a few different transformations of the variables, such as\n",
        "# log(X), √\n",
        "# X, X2. Comment on your findings."
      ],
      "metadata": {
        "colab": {
          "base_uri": "https://localhost:8080/",
          "height": 231
        },
        "id": "-VU6yGFM_dLH",
        "outputId": "f96c212f-193a-4367-ac6f-024158a6e77b"
      },
      "execution_count": 88,
      "outputs": [
        {
          "output_type": "error",
          "ename": "TypeError",
          "evalue": "ignored",
          "traceback": [
            "\u001b[0;31m---------------------------------------------------------------------------\u001b[0m",
            "\u001b[0;31mTypeError\u001b[0m                                 Traceback (most recent call last)",
            "\u001b[0;32m<ipython-input-88-0ed7920414b8>\u001b[0m in \u001b[0;36m<module>\u001b[0;34m()\u001b[0m\n\u001b[1;32m      3\u001b[0m \u001b[0;31m# significant?\u001b[0m\u001b[0;34m\u001b[0m\u001b[0;34m\u001b[0m\u001b[0;34m\u001b[0m\u001b[0m\n\u001b[1;32m      4\u001b[0m \u001b[0mss\u001b[0m \u001b[0;34m=\u001b[0m \u001b[0mmlr\u001b[0m\u001b[0;34m.\u001b[0m\u001b[0mget_influence\u001b[0m\u001b[0;34m(\u001b[0m\u001b[0;34m)\u001b[0m\u001b[0;34m\u001b[0m\u001b[0;34m\u001b[0m\u001b[0m\n\u001b[0;32m----> 5\u001b[0;31m \u001b[0mss\u001b[0m\u001b[0;34m.\u001b[0m\u001b[0mresults\u001b[0m\u001b[0;34m(\u001b[0m\u001b[0;34m)\u001b[0m\u001b[0;34m\u001b[0m\u001b[0;34m\u001b[0m\u001b[0m\n\u001b[0m\u001b[1;32m      6\u001b[0m \u001b[0;31m# (f) Try a few different transformations of the variables, such as\u001b[0m\u001b[0;34m\u001b[0m\u001b[0;34m\u001b[0m\u001b[0;34m\u001b[0m\u001b[0m\n\u001b[1;32m      7\u001b[0m \u001b[0;31m# log(X), √\u001b[0m\u001b[0;34m\u001b[0m\u001b[0;34m\u001b[0m\u001b[0;34m\u001b[0m\u001b[0m\n",
            "\u001b[0;31mTypeError\u001b[0m: 'OLSResults' object is not callable"
          ]
        }
      ]
    },
    {
      "cell_type": "code",
      "source": [
        "# mlr.params[0]\n"
      ],
      "metadata": {
        "colab": {
          "base_uri": "https://localhost:8080/"
        },
        "id": "wqjP9uqJCv3M",
        "outputId": "44a2531d-e69a-4258-f7ea-a7f95bf5062a"
      },
      "execution_count": 71,
      "outputs": [
        {
          "output_type": "execute_result",
          "data": {
            "text/plain": [
              "0      3.191409\n",
              "1      1.085913\n",
              "2      2.932037\n",
              "3      1.188990\n",
              "4      2.211240\n",
              "         ...   \n",
              "392   -1.770341\n",
              "393    9.831026\n",
              "394    0.355019\n",
              "395   -1.616430\n",
              "396    2.027833\n",
              "Name: mpg, Length: 397, dtype: float64"
            ]
          },
          "metadata": {},
          "execution_count": 71
        }
      ]
    }
  ],
  "metadata": {
    "kernelspec": {
      "display_name": "Python 3",
      "language": "python",
      "name": "python3"
    },
    "language_info": {
      "codemirror_mode": {
        "name": "ipython",
        "version": 3
      },
      "file_extension": ".py",
      "mimetype": "text/x-python",
      "name": "python",
      "nbconvert_exporter": "python",
      "pygments_lexer": "ipython3",
      "version": "3.6.5"
    },
    "colab": {
      "name": "applied_exercises.ipynb",
      "provenance": [],
      "collapsed_sections": [],
      "include_colab_link": true
    }
  },
  "nbformat": 4,
  "nbformat_minor": 0
}