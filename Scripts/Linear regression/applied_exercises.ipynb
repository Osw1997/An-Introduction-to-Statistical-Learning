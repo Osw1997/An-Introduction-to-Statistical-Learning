{
 "cells": [
  {
   "cell_type": "markdown",
   "metadata": {},
   "source": [
    "# Chapter 3 - Linear regression"
   ]
  },
  {
   "cell_type": "markdown",
   "metadata": {},
   "source": [
    "# Applied exercises\n",
    "## Exercise 8\n",
    "## Involved dataset: Auto"
   ]
  },
  {
   "cell_type": "code",
   "execution_count": 1,
   "metadata": {},
   "outputs": [],
   "source": [
    "import pandas as pd\n",
    "import os\n",
    "import matplotlib.pyplot as plt\n",
    "from scipy import stats\n",
    "from scipy.stats import t"
   ]
  },
  {
   "cell_type": "code",
   "execution_count": 2,
   "metadata": {},
   "outputs": [
    {
     "data": {
      "text/plain": [
       "'C:\\\\Users\\\\zacat\\\\OneDrive\\\\Documentos\\\\Self development\\\\An-Introduction-to-Statistical-Learning\\\\Scripts\\\\Linear regression'"
      ]
     },
     "execution_count": 2,
     "metadata": {},
     "output_type": "execute_result"
    }
   ],
   "source": [
    "os.getcwd()"
   ]
  },
  {
   "cell_type": "code",
   "execution_count": 3,
   "metadata": {},
   "outputs": [
    {
     "data": {
      "text/html": [
       "<div>\n",
       "<style scoped>\n",
       "    .dataframe tbody tr th:only-of-type {\n",
       "        vertical-align: middle;\n",
       "    }\n",
       "\n",
       "    .dataframe tbody tr th {\n",
       "        vertical-align: top;\n",
       "    }\n",
       "\n",
       "    .dataframe thead th {\n",
       "        text-align: right;\n",
       "    }\n",
       "</style>\n",
       "<table border=\"1\" class=\"dataframe\">\n",
       "  <thead>\n",
       "    <tr style=\"text-align: right;\">\n",
       "      <th></th>\n",
       "      <th>mpg</th>\n",
       "      <th>cylinders</th>\n",
       "      <th>displacement</th>\n",
       "      <th>horsepower</th>\n",
       "      <th>weight</th>\n",
       "      <th>acceleration</th>\n",
       "      <th>year</th>\n",
       "      <th>origin</th>\n",
       "    </tr>\n",
       "  </thead>\n",
       "  <tbody>\n",
       "    <tr>\n",
       "      <th>count</th>\n",
       "      <td>397.000000</td>\n",
       "      <td>397.000000</td>\n",
       "      <td>397.000000</td>\n",
       "      <td>397.000000</td>\n",
       "      <td>397.000000</td>\n",
       "      <td>397.000000</td>\n",
       "      <td>397.000000</td>\n",
       "      <td>397.000000</td>\n",
       "    </tr>\n",
       "    <tr>\n",
       "      <th>mean</th>\n",
       "      <td>24.466365</td>\n",
       "      <td>6.718758</td>\n",
       "      <td>193.279211</td>\n",
       "      <td>104.469388</td>\n",
       "      <td>2941.398859</td>\n",
       "      <td>16.661327</td>\n",
       "      <td>76.338405</td>\n",
       "      <td>2.872410</td>\n",
       "    </tr>\n",
       "    <tr>\n",
       "      <th>std</th>\n",
       "      <td>11.916122</td>\n",
       "      <td>11.182938</td>\n",
       "      <td>104.465120</td>\n",
       "      <td>38.247388</td>\n",
       "      <td>902.933828</td>\n",
       "      <td>10.300906</td>\n",
       "      <td>4.849520</td>\n",
       "      <td>11.516536</td>\n",
       "    </tr>\n",
       "    <tr>\n",
       "      <th>min</th>\n",
       "      <td>9.000000</td>\n",
       "      <td>3.000000</td>\n",
       "      <td>68.000000</td>\n",
       "      <td>46.000000</td>\n",
       "      <td>104.469388</td>\n",
       "      <td>8.000000</td>\n",
       "      <td>70.000000</td>\n",
       "      <td>1.000000</td>\n",
       "    </tr>\n",
       "    <tr>\n",
       "      <th>25%</th>\n",
       "      <td>17.500000</td>\n",
       "      <td>4.000000</td>\n",
       "      <td>104.469388</td>\n",
       "      <td>76.000000</td>\n",
       "      <td>2219.000000</td>\n",
       "      <td>13.800000</td>\n",
       "      <td>73.000000</td>\n",
       "      <td>1.000000</td>\n",
       "    </tr>\n",
       "    <tr>\n",
       "      <th>50%</th>\n",
       "      <td>23.000000</td>\n",
       "      <td>4.000000</td>\n",
       "      <td>146.000000</td>\n",
       "      <td>95.000000</td>\n",
       "      <td>2790.000000</td>\n",
       "      <td>15.500000</td>\n",
       "      <td>76.000000</td>\n",
       "      <td>1.000000</td>\n",
       "    </tr>\n",
       "    <tr>\n",
       "      <th>75%</th>\n",
       "      <td>29.500000</td>\n",
       "      <td>8.000000</td>\n",
       "      <td>262.000000</td>\n",
       "      <td>125.000000</td>\n",
       "      <td>3609.000000</td>\n",
       "      <td>17.300000</td>\n",
       "      <td>79.000000</td>\n",
       "      <td>2.000000</td>\n",
       "    </tr>\n",
       "    <tr>\n",
       "      <th>max</th>\n",
       "      <td>104.469388</td>\n",
       "      <td>104.469388</td>\n",
       "      <td>455.000000</td>\n",
       "      <td>230.000000</td>\n",
       "      <td>5140.000000</td>\n",
       "      <td>104.469388</td>\n",
       "      <td>104.469388</td>\n",
       "      <td>104.469388</td>\n",
       "    </tr>\n",
       "  </tbody>\n",
       "</table>\n",
       "</div>"
      ],
      "text/plain": [
       "              mpg   cylinders  displacement  horsepower       weight  \\\n",
       "count  397.000000  397.000000    397.000000  397.000000   397.000000   \n",
       "mean    24.466365    6.718758    193.279211  104.469388  2941.398859   \n",
       "std     11.916122   11.182938    104.465120   38.247388   902.933828   \n",
       "min      9.000000    3.000000     68.000000   46.000000   104.469388   \n",
       "25%     17.500000    4.000000    104.469388   76.000000  2219.000000   \n",
       "50%     23.000000    4.000000    146.000000   95.000000  2790.000000   \n",
       "75%     29.500000    8.000000    262.000000  125.000000  3609.000000   \n",
       "max    104.469388  104.469388    455.000000  230.000000  5140.000000   \n",
       "\n",
       "       acceleration        year      origin  \n",
       "count    397.000000  397.000000  397.000000  \n",
       "mean      16.661327   76.338405    2.872410  \n",
       "std       10.300906    4.849520   11.516536  \n",
       "min        8.000000   70.000000    1.000000  \n",
       "25%       13.800000   73.000000    1.000000  \n",
       "50%       15.500000   76.000000    1.000000  \n",
       "75%       17.300000   79.000000    2.000000  \n",
       "max      104.469388  104.469388  104.469388  "
      ]
     },
     "execution_count": 3,
     "metadata": {},
     "output_type": "execute_result"
    }
   ],
   "source": [
    "auto = pd.read_csv(\"../../Datasets/Auto.csv\")\n",
    "## Cleaning data\n",
    "# Getting incorrect rows and getting mean of correct rows\n",
    "valid_rows = auto['horsepower'] != '?'\n",
    "mean_valid_rows = pd.to_numeric(auto[valid_rows]['horsepower']).mean()\n",
    "# Correcting data\n",
    "auto[~valid_rows] = mean_valid_rows\n",
    "auto['horsepower'] = pd.to_numeric(auto['horsepower'])\n",
    "auto['mpg'] = pd.to_numeric(auto['mpg'])\n",
    "\n",
    "auto.describe()\n",
    "# auto.head()"
   ]
  },
  {
   "cell_type": "code",
   "execution_count": 4,
   "metadata": {},
   "outputs": [
    {
     "data": {
      "text/plain": [
       "Text(0,0.5,'MPG')"
      ]
     },
     "execution_count": 4,
     "metadata": {},
     "output_type": "execute_result"
    },
    {
     "data": {
      "image/png": "[encoded data removed]",
      "text/plain": [
       "<Figure size 432x288 with 1 Axes>"
      ]
     },
     "metadata": {},
     "output_type": "display_data"
    }
   ],
   "source": [
    "plt.scatter(auto[\"mpg\"], auto[\"horsepower\"])\n",
    "plt.title(\"MPG Vs Horsepower\")\n",
    "plt.xlabel(\"Horsepower\")\n",
    "plt.ylabel(\"MPG\")"
   ]
  },
  {
   "cell_type": "code",
   "execution_count": 5,
   "metadata": {},
   "outputs": [
    {
     "name": "stdout",
     "output_type": "stream",
     "text": [
      "Slope: -0.15784473335365368, intercept: 40.95630773890039\n"
     ]
    },
    {
     "data": {
      "text/plain": [
       "[<matplotlib.lines.Line2D at 0x1e767259ac8>]"
      ]
     },
     "execution_count": 5,
     "metadata": {},
     "output_type": "execute_result"
    },
    {
     "data": {
      "image/png": "[encoded data removed]",
      "text/plain": [
       "<Figure size 432x288 with 1 Axes>"
      ]
     },
     "metadata": {},
     "output_type": "display_data"
    }
   ],
   "source": [
    "linear_regression = stats.linregress(auto[\"horsepower\"], auto[\"mpg\"])\n",
    "print(f\"Slope: {linear_regression.slope}, intercept: {linear_regression.intercept}\")\n",
    "\n",
    "plt.scatter(auto[\"horsepower\"], auto['mpg'])\n",
    "plt.title(\"MPG Vs Horsepower\")\n",
    "plt.xlabel(\"Horsepower\")\n",
    "plt.ylabel(\"MPG\")\n",
    "plt.plot(auto[\"horsepower\"], linear_regression.intercept + linear_regression.slope * auto['horsepower'], 'r')"
   ]
  },
  {
   "cell_type": "code",
   "execution_count": 6,
   "metadata": {},
   "outputs": [
    {
     "name": "stdout",
     "output_type": "stream",
     "text": [
      "Is Pvalue < 0.05? True (2.8356544353654207e-27)\n",
      "Is intercept > 0? True (40.95630773890039)\n",
      "Slope B_1 = -0.15784473335365368\n",
      "\n",
      "mpg(HP) = B_0 + B_1 * HP \n",
      "HP = 98 hp\n",
      "mpg(98) = 40.95630773890039 + -0.15784473335365368 * 98\n",
      "mpg(98) = 25.48752387024233\n",
      "\n",
      "slope (95%): -0.157845 +/- 0.026570\n"
     ]
    },
    {
     "ename": "AttributeError",
     "evalue": "'LinregressResult' object has no attribute 'intercept_stderr'",
     "output_type": "error",
     "traceback": [
      "\u001b[1;31m---------------------------------------------------------------------------\u001b[0m",
      "\u001b[1;31mAttributeError\u001b[0m                            Traceback (most recent call last)",
      "\u001b[1;32m<ipython-input-6-7fb7590c7558>\u001b[0m in \u001b[0;36m<module>\u001b[1;34m()\u001b[0m\n\u001b[0;32m     14\u001b[0m \u001b[0mprint\u001b[0m\u001b[1;33m(\u001b[0m\u001b[1;34mf\"slope (95%): {linear_regression.slope:.6f} +/- {conf_interval*linear_regression.stderr:.6f}\"\u001b[0m\u001b[1;33m)\u001b[0m\u001b[1;33m\u001b[0m\u001b[0m\n\u001b[0;32m     15\u001b[0m \u001b[1;31m# print(f\"slope (95%): {linear_regression.intercept:.6f} +/- {conf_slope*linear_regression.intercept_err:.6f}\")\u001b[0m\u001b[1;33m\u001b[0m\u001b[1;33m\u001b[0m\u001b[0m\n\u001b[1;32m---> 16\u001b[1;33m \u001b[0mlinear_regression\u001b[0m\u001b[1;33m.\u001b[0m\u001b[0mintercept_stderr\u001b[0m\u001b[1;33m\u001b[0m\u001b[0m\n\u001b[0m",
      "\u001b[1;31mAttributeError\u001b[0m: 'LinregressResult' object has no attribute 'intercept_stderr'"
     ]
    }
   ],
   "source": [
    "print(f\"Is Pvalue < 0.05? {linear_regression.pvalue < 0.5} ({linear_regression.pvalue})\")\n",
    "print(f\"Is intercept > 0? {linear_regression.intercept > 0} ({linear_regression.intercept})\")\n",
    "print(f\"Slope B_1 = {linear_regression.slope}\")\n",
    "\n",
    "print(\"\")\n",
    "print(\"mpg(HP) = B_0 + B_1 * HP \")\n",
    "print(\"HP = 98 hp\")\n",
    "print(f\"mpg(98) = {linear_regression.intercept} + {linear_regression.slope} * 98\")\n",
    "print(f\"mpg(98) = {linear_regression.intercept + linear_regression.slope * 98}\")\n",
    "\n",
    "print(\"\")\n",
    "t_test = lambda p, df: abs(t.ppf(p/2, df))\n",
    "conf_interval = t_test(0.05, len(auto['mpg']))\n",
    "print(f\"slope (95%): {linear_regression.slope:.6f} +/- {conf_interval*linear_regression.stderr:.6f}\")\n",
    "# print(f\"slope (95%): {linear_regression.intercept:.6f} +/- {conf_slope*linear_regression.intercept_err:.6f}\")\n",
    "linear_regression.intercept_stderr"
   ]
  },
  {
   "cell_type": "code",
   "execution_count": null,
   "metadata": {},
   "outputs": [],
   "source": [
    "# !pip install --user --upgrade scipy\n",
    "!conda install python=\"3.7.4\""
   ]
  },
  {
   "cell_type": "code",
   "execution_count": 8,
   "metadata": {},
   "outputs": [
    {
     "name": "stderr",
     "output_type": "stream",
     "text": [
      "ERROR: Could not find a version that satisfies the requirement scipy=='1.6' (from versions: 0.8.0, 0.9.0, 0.10.0, 0.10.1, 0.11.0, 0.12.0, 0.12.1, 0.13.0, 0.13.1, 0.13.2, 0.13.3, 0.14.0, 0.14.1, 0.15.0, 0.15.1, 0.16.0, 0.16.1, 0.17.0, 0.17.1, 0.18.0, 0.18.1, 0.19.0, 0.19.1, 1.0.0b1, 1.0.0rc1, 1.0.0rc2, 1.0.0, 1.0.1, 1.1.0rc1, 1.1.0, 1.2.0rc1, 1.2.0rc2, 1.2.0, 1.2.1, 1.2.2, 1.2.3, 1.3.0rc1, 1.3.0rc2, 1.3.0, 1.3.1, 1.3.2, 1.3.3, 1.4.0rc1, 1.4.0rc2, 1.4.0, 1.4.1, 1.5.0rc1, 1.5.0rc2, 1.5.0, 1.5.1, 1.5.2, 1.5.3, 1.5.4)\n",
      "ERROR: No matching distribution found for scipy=='1.6'\n"
     ]
    }
   ],
   "source": [
    "!C:\\ProgramData\\Anaconda3\\python.exe -m pip install --user --upgrade scipy=='1.6'\n"
   ]
  },
  {
   "cell_type": "code",
   "execution_count": 7,
   "metadata": {},
   "outputs": [
    {
     "data": {
      "text/plain": [
       "'1.5.4'"
      ]
     },
     "execution_count": 7,
     "metadata": {},
     "output_type": "execute_result"
    }
   ],
   "source": [
    "import scipy\n",
    "scipy.__version__"
   ]
  },
  {
   "cell_type": "markdown",
   "metadata": {},
   "source": [
    "## Questions\n",
    "### Is there any relationship between predictor and the response?\n",
    "#### A = Yes. Pvalue is less than 0.05 and intercept is != 0. So, we can discard H0 (null) hipotesis\n",
    "### How strong is the relationship between the predictor and the response? R^2 (???)\n",
    "#### A = Well, B_1 is -0.16. So, there is a negative correlation\n",
    "### Is the relationship between the predictor and the response positive or negative?\n",
    "#### A = Negative\n",
    "### What is the predicted mpg associated with a horsepower of 98? What are the associated 95% confidence and prediction intervals?\n",
    "#### mpg(98) = 40.956307738900364 + -0.15784473335365348 * 98\n",
    "#### mpg(98) = 25.48752387024232"
   ]
  }
 ],
 "metadata": {
  "kernelspec": {
   "display_name": "Python 3",
   "language": "python",
   "name": "python3"
  },
  "language_info": {
   "codemirror_mode": {
    "name": "ipython",
    "version": 3
   },
   "file_extension": ".py",
   "mimetype": "text/x-python",
   "name": "python",
   "nbconvert_exporter": "python",
   "pygments_lexer": "ipython3",
   "version": "3.6.5"
  }
 },
 "nbformat": 4,
 "nbformat_minor": 2
}
