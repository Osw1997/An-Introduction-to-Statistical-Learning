{
  "nbformat": 4,
  "nbformat_minor": 0,
  "metadata": {
    "colab": {
      "name": "applied_exercises_ch6_LinearModelSelection_Regularization.ipynb",
      "provenance": [],
      "collapsed_sections": [],
      "authorship_tag": "ABX9TyM6YlRMP7m5r4jW+UjLEFvD",
      "include_colab_link": true
    },
    "kernelspec": {
      "name": "python3",
      "display_name": "Python 3"
    },
    "language_info": {
      "name": "python"
    }
  },
  "cells": [
    {
      "cell_type": "markdown",
      "metadata": {
        "id": "view-in-github",
        "colab_type": "text"
      },
      "source": [
        "<a href=\"https://colab.research.google.com/github/Osw1997/An-Introduction-to-Statistical-Learning/blob/main/Scripts/Linear%20Model%20Selection%20and%20Regularization/applied_exercises_ch6_LinearModelSelection_Regularization.ipynb\" target=\"_parent\"><img src=\"https://colab.research.google.com/assets/colab-badge.svg\" alt=\"Open In Colab\"/></a>"
      ]
    },
    {
      "cell_type": "code",
      "execution_count": null,
      "metadata": {
        "id": "mteefgb57XEz"
      },
      "outputs": [],
      "source": [
        ""
      ]
    },
    {
      "cell_type": "code",
      "source": [
        ""
      ],
      "metadata": {
        "id": "mQhF1wGy7bsl"
      },
      "execution_count": null,
      "outputs": []
    },
    {
      "cell_type": "markdown",
      "source": [
        "# Applied exercises\n",
        "---\n",
        "---\n",
        "---\n",
        "\n",
        "## Exercise 8:\n",
        "In this exercise, we will generate simulated data, and will then use\n",
        "this data to perform best subset selection.\n"
      ],
      "metadata": {
        "id": "6MbMqF8Q7cO1"
      }
    },
    {
      "cell_type": "code",
      "source": [
        "# (a) Use the rnorm() function to generate a predictor X of length n = 100, \n",
        "# as well as a noise vector ϵ of length n = 100.\n",
        "\n",
        "\n",
        "\n",
        "# (b) Generate a response vector Y of length n = 100 according to the model\n",
        "# Y = β0 + β1X + β2X2 + β3X3 + ϵ,\n",
        "# where β0, β1, β2, and β3 are constants of your choice.\n",
        "\n",
        "\n",
        "\n",
        "# (c) Use the regsubsets() function to perform best subset selection in order to \n",
        "# choose the best model containing the predictors X, X2,...,X10.\n",
        "#  What is the best model obtained according to Cp, BIC, and adjusted R2? \n",
        "#  Show some plots to provide evidence for your answer, and report the \n",
        "#  coefficients of the best model obtained. Note you will need to \n",
        "#  use the data.frame() function to create a single data set\n",
        "#  containing both X and Y .\n",
        "\n",
        "\n",
        "\n",
        "# (d) Repeat (c), using forward stepwise selection and also using backwards\n",
        "# stepwise selection. How does your answer compare to the results in (c)?\n",
        "\n",
        "\n",
        "\n",
        "# (e) Now fit a lasso model to the simulated data, again using X, X2,\n",
        "# ...,X10 as predictors. Use cross-validation to select the optimal\n",
        "# value of λ. Create plots of the cross-validation error as a function\n",
        "# of λ. Report the resulting coefficient estimates, and discuss the\n",
        "# results obtained.\n",
        "\n",
        "\n",
        "\n",
        "# (f) Now generate a response vector Y according to the model\n",
        "# Y = β0 + β7X7 + ϵ,\n",
        "# and perform best subset selection and the lasso. Discuss the results obtained."
      ],
      "metadata": {
        "id": "RrtyaKHc75hh"
      },
      "execution_count": null,
      "outputs": []
    }
  ]
}