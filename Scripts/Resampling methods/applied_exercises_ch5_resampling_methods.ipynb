{
  "nbformat": 4,
  "nbformat_minor": 0,
  "metadata": {
    "colab": {
      "name": "applied_exercises_ch5_resampling_methods.ipynb",
      "provenance": [],
      "collapsed_sections": [],
      "authorship_tag": "ABX9TyNRQHBRshKIwinHxw+Rc/sC",
      "include_colab_link": true
    },
    "kernelspec": {
      "name": "python3",
      "display_name": "Python 3"
    },
    "language_info": {
      "name": "python"
    }
  },
  "cells": [
    {
      "cell_type": "markdown",
      "metadata": {
        "id": "view-in-github",
        "colab_type": "text"
      },
      "source": [
        "<a href=\"https://colab.research.google.com/github/Osw1997/An-Introduction-to-Statistical-Learning/blob/main/Scripts/Resampling%20methods/applied_exercises_ch5_resampling_methods.ipynb\" target=\"_parent\"><img src=\"https://colab.research.google.com/assets/colab-badge.svg\" alt=\"Open In Colab\"/></a>"
      ]
    },
    {
      "cell_type": "markdown",
      "source": [
        "# Chapter 5 - Resampling methods"
      ],
      "metadata": {
        "id": "KpA__g2V4XmL"
      }
    },
    {
      "cell_type": "code",
      "source": [
        "!pip install --upgrade scipy\n",
        "!pip install --upgrade plotly"
      ],
      "metadata": {
        "colab": {
          "base_uri": "https://localhost:8080/",
          "height": 537
        },
        "id": "41j7qIom6AaI",
        "outputId": "cdf2417b-077c-4051-9b74-0b4790b0827a"
      },
      "execution_count": 2,
      "outputs": [
        {
          "output_type": "stream",
          "name": "stdout",
          "text": [
            "Requirement already satisfied: scipy in /usr/local/lib/python3.7/dist-packages (1.4.1)\n",
            "Collecting scipy\n",
            "  Downloading scipy-1.7.3-cp37-cp37m-manylinux_2_12_x86_64.manylinux2010_x86_64.whl (38.1 MB)\n",
            "\u001b[K     |████████████████████████████████| 38.1 MB 1.3 MB/s \n",
            "\u001b[?25hRequirement already satisfied: numpy<1.23.0,>=1.16.5 in /usr/local/lib/python3.7/dist-packages (from scipy) (1.21.5)\n",
            "Installing collected packages: scipy\n",
            "  Attempting uninstall: scipy\n",
            "    Found existing installation: scipy 1.4.1\n",
            "    Uninstalling scipy-1.4.1:\n",
            "      Successfully uninstalled scipy-1.4.1\n",
            "\u001b[31mERROR: pip's dependency resolver does not currently take into account all the packages that are installed. This behaviour is the source of the following dependency conflicts.\n",
            "albumentations 0.1.12 requires imgaug<0.2.7,>=0.2.5, but you have imgaug 0.2.9 which is incompatible.\u001b[0m\n",
            "Successfully installed scipy-1.7.3\n"
          ]
        },
        {
          "output_type": "display_data",
          "data": {
            "application/vnd.colab-display-data+json": {
              "pip_warning": {
                "packages": [
                  "scipy"
                ]
              }
            }
          },
          "metadata": {}
        },
        {
          "output_type": "stream",
          "name": "stdout",
          "text": [
            "Requirement already satisfied: plotly in /usr/local/lib/python3.7/dist-packages (5.5.0)\n",
            "Collecting plotly\n",
            "  Downloading plotly-5.7.0-py2.py3-none-any.whl (28.8 MB)\n",
            "\u001b[K     |████████████████████████████████| 28.8 MB 1.3 MB/s \n",
            "\u001b[?25hRequirement already satisfied: six in /usr/local/lib/python3.7/dist-packages (from plotly) (1.15.0)\n",
            "Requirement already satisfied: tenacity>=6.2.0 in /usr/local/lib/python3.7/dist-packages (from plotly) (8.0.1)\n",
            "Installing collected packages: plotly\n",
            "  Attempting uninstall: plotly\n",
            "    Found existing installation: plotly 5.5.0\n",
            "    Uninstalling plotly-5.5.0:\n",
            "      Successfully uninstalled plotly-5.5.0\n",
            "Successfully installed plotly-5.7.0\n"
          ]
        }
      ]
    },
    {
      "cell_type": "markdown",
      "source": [
        "# Applied exercises\n",
        "---\n",
        "---\n",
        "---\n",
        "## Exercise 5.\n",
        "In Chapter 4, we used logistic regression to predict the probability of\n",
        "default using income and balance on the Default data set. We will\n",
        "now estimate the test error of this logistic regression model using the\n",
        "validation set approach. Do not forget to set a random seed before\n",
        "beginning your analysis.\n"
      ],
      "metadata": {
        "id": "Q5U7gmGe4aSx"
      }
    },
    {
      "cell_type": "code",
      "execution_count": 5,
      "metadata": {
        "id": "Lq-5X4vZ4RGH"
      },
      "outputs": [],
      "source": [
        "import pandas as pd\n",
        "import os\n",
        "import matplotlib.pyplot as plt\n",
        "from scipy import stats\n",
        "from scipy.stats import t"
      ]
    },
    {
      "cell_type": "code",
      "source": [
        "import scipy\n",
        "scipy.__version__"
      ],
      "metadata": {
        "colab": {
          "base_uri": "https://localhost:8080/",
          "height": 36
        },
        "id": "vdCKGnP4ZJT5",
        "outputId": "c04f0dc3-e9ce-4e07-a971-10991798adeb"
      },
      "execution_count": 1,
      "outputs": [
        {
          "output_type": "execute_result",
          "data": {
            "text/plain": [
              "'1.7.3'"
            ],
            "application/vnd.google.colaboratory.intrinsic+json": {
              "type": "string"
            }
          },
          "metadata": {},
          "execution_count": 1
        }
      ]
    },
    {
      "cell_type": "code",
      "source": [
        "from google.colab import drive\n",
        "drive.mount('/content/drive')"
      ],
      "metadata": {
        "colab": {
          "base_uri": "https://localhost:8080/"
        },
        "id": "_0mF0M16ZMu8",
        "outputId": "ef99189a-0b83-4da9-fed5-7731e01005d6"
      },
      "execution_count": 5,
      "outputs": [
        {
          "output_type": "stream",
          "name": "stdout",
          "text": [
            "Mounted at /content/drive\n"
          ]
        }
      ]
    },
    {
      "cell_type": "code",
      "source": [
        "default = pd.read_csv('drive/MyDrive/itsl_datasets/Default.csv')\n",
        "default.columns"
      ],
      "metadata": {
        "colab": {
          "base_uri": "https://localhost:8080/"
        },
        "id": "2NVAUsvtZP-V",
        "outputId": "a4dca024-1815-4050-90e2-98306a9c08da"
      },
      "execution_count": 6,
      "outputs": [
        {
          "output_type": "execute_result",
          "data": {
            "text/plain": [
              "Index(['default', 'student', 'balance', 'income'], dtype='object')"
            ]
          },
          "metadata": {},
          "execution_count": 6
        }
      ]
    },
    {
      "cell_type": "code",
      "source": [
        "default.describe()"
      ],
      "metadata": {
        "colab": {
          "base_uri": "https://localhost:8080/",
          "height": 300
        },
        "id": "QSXYOIs6Zt5a",
        "outputId": "c4609758-01e8-440f-dfcb-ea22c48fc2ea"
      },
      "execution_count": 7,
      "outputs": [
        {
          "output_type": "execute_result",
          "data": {
            "text/plain": [
              "            balance        income\n",
              "count  10000.000000  10000.000000\n",
              "mean     835.374886  33516.981876\n",
              "std      483.714985  13336.639563\n",
              "min        0.000000    771.967729\n",
              "25%      481.731105  21340.462903\n",
              "50%      823.636973  34552.644802\n",
              "75%     1166.308386  43807.729272\n",
              "max     2654.322576  73554.233495"
            ],
            "text/html": [
              "\n",
              "  <div id=\"df-c230cea1-f3c7-4abe-b23b-d2b07967e06f\">\n",
              "    <div class=\"colab-df-container\">\n",
              "      <div>\n",
              "<style scoped>\n",
              "    .dataframe tbody tr th:only-of-type {\n",
              "        vertical-align: middle;\n",
              "    }\n",
              "\n",
              "    .dataframe tbody tr th {\n",
              "        vertical-align: top;\n",
              "    }\n",
              "\n",
              "    .dataframe thead th {\n",
              "        text-align: right;\n",
              "    }\n",
              "</style>\n",
              "<table border=\"1\" class=\"dataframe\">\n",
              "  <thead>\n",
              "    <tr style=\"text-align: right;\">\n",
              "      <th></th>\n",
              "      <th>balance</th>\n",
              "      <th>income</th>\n",
              "    </tr>\n",
              "  </thead>\n",
              "  <tbody>\n",
              "    <tr>\n",
              "      <th>count</th>\n",
              "      <td>10000.000000</td>\n",
              "      <td>10000.000000</td>\n",
              "    </tr>\n",
              "    <tr>\n",
              "      <th>mean</th>\n",
              "      <td>835.374886</td>\n",
              "      <td>33516.981876</td>\n",
              "    </tr>\n",
              "    <tr>\n",
              "      <th>std</th>\n",
              "      <td>483.714985</td>\n",
              "      <td>13336.639563</td>\n",
              "    </tr>\n",
              "    <tr>\n",
              "      <th>min</th>\n",
              "      <td>0.000000</td>\n",
              "      <td>771.967729</td>\n",
              "    </tr>\n",
              "    <tr>\n",
              "      <th>25%</th>\n",
              "      <td>481.731105</td>\n",
              "      <td>21340.462903</td>\n",
              "    </tr>\n",
              "    <tr>\n",
              "      <th>50%</th>\n",
              "      <td>823.636973</td>\n",
              "      <td>34552.644802</td>\n",
              "    </tr>\n",
              "    <tr>\n",
              "      <th>75%</th>\n",
              "      <td>1166.308386</td>\n",
              "      <td>43807.729272</td>\n",
              "    </tr>\n",
              "    <tr>\n",
              "      <th>max</th>\n",
              "      <td>2654.322576</td>\n",
              "      <td>73554.233495</td>\n",
              "    </tr>\n",
              "  </tbody>\n",
              "</table>\n",
              "</div>\n",
              "      <button class=\"colab-df-convert\" onclick=\"convertToInteractive('df-c230cea1-f3c7-4abe-b23b-d2b07967e06f')\"\n",
              "              title=\"Convert this dataframe to an interactive table.\"\n",
              "              style=\"display:none;\">\n",
              "        \n",
              "  <svg xmlns=\"http://www.w3.org/2000/svg\" height=\"24px\"viewBox=\"0 0 24 24\"\n",
              "       width=\"24px\">\n",
              "    <path d=\"M0 0h24v24H0V0z\" fill=\"none\"/>\n",
              "    <path d=\"M18.56 5.44l.94 2.06.94-2.06 2.06-.94-2.06-.94-.94-2.06-.94 2.06-2.06.94zm-11 1L8.5 8.5l.94-2.06 2.06-.94-2.06-.94L8.5 2.5l-.94 2.06-2.06.94zm10 10l.94 2.06.94-2.06 2.06-.94-2.06-.94-.94-2.06-.94 2.06-2.06.94z\"/><path d=\"M17.41 7.96l-1.37-1.37c-.4-.4-.92-.59-1.43-.59-.52 0-1.04.2-1.43.59L10.3 9.45l-7.72 7.72c-.78.78-.78 2.05 0 2.83L4 21.41c.39.39.9.59 1.41.59.51 0 1.02-.2 1.41-.59l7.78-7.78 2.81-2.81c.8-.78.8-2.07 0-2.86zM5.41 20L4 18.59l7.72-7.72 1.47 1.35L5.41 20z\"/>\n",
              "  </svg>\n",
              "      </button>\n",
              "      \n",
              "  <style>\n",
              "    .colab-df-container {\n",
              "      display:flex;\n",
              "      flex-wrap:wrap;\n",
              "      gap: 12px;\n",
              "    }\n",
              "\n",
              "    .colab-df-convert {\n",
              "      background-color: #E8F0FE;\n",
              "      border: none;\n",
              "      border-radius: 50%;\n",
              "      cursor: pointer;\n",
              "      display: none;\n",
              "      fill: #1967D2;\n",
              "      height: 32px;\n",
              "      padding: 0 0 0 0;\n",
              "      width: 32px;\n",
              "    }\n",
              "\n",
              "    .colab-df-convert:hover {\n",
              "      background-color: #E2EBFA;\n",
              "      box-shadow: 0px 1px 2px rgba(60, 64, 67, 0.3), 0px 1px 3px 1px rgba(60, 64, 67, 0.15);\n",
              "      fill: #174EA6;\n",
              "    }\n",
              "\n",
              "    [theme=dark] .colab-df-convert {\n",
              "      background-color: #3B4455;\n",
              "      fill: #D2E3FC;\n",
              "    }\n",
              "\n",
              "    [theme=dark] .colab-df-convert:hover {\n",
              "      background-color: #434B5C;\n",
              "      box-shadow: 0px 1px 3px 1px rgba(0, 0, 0, 0.15);\n",
              "      filter: drop-shadow(0px 1px 2px rgba(0, 0, 0, 0.3));\n",
              "      fill: #FFFFFF;\n",
              "    }\n",
              "  </style>\n",
              "\n",
              "      <script>\n",
              "        const buttonEl =\n",
              "          document.querySelector('#df-c230cea1-f3c7-4abe-b23b-d2b07967e06f button.colab-df-convert');\n",
              "        buttonEl.style.display =\n",
              "          google.colab.kernel.accessAllowed ? 'block' : 'none';\n",
              "\n",
              "        async function convertToInteractive(key) {\n",
              "          const element = document.querySelector('#df-c230cea1-f3c7-4abe-b23b-d2b07967e06f');\n",
              "          const dataTable =\n",
              "            await google.colab.kernel.invokeFunction('convertToInteractive',\n",
              "                                                     [key], {});\n",
              "          if (!dataTable) return;\n",
              "\n",
              "          const docLinkHtml = 'Like what you see? Visit the ' +\n",
              "            '<a target=\"_blank\" href=https://colab.research.google.com/notebooks/data_table.ipynb>data table notebook</a>'\n",
              "            + ' to learn more about interactive tables.';\n",
              "          element.innerHTML = '';\n",
              "          dataTable['output_type'] = 'display_data';\n",
              "          await google.colab.output.renderOutput(dataTable, element);\n",
              "          const docLink = document.createElement('div');\n",
              "          docLink.innerHTML = docLinkHtml;\n",
              "          element.appendChild(docLink);\n",
              "        }\n",
              "      </script>\n",
              "    </div>\n",
              "  </div>\n",
              "  "
            ]
          },
          "metadata": {},
          "execution_count": 7
        }
      ]
    },
    {
      "cell_type": "code",
      "source": [
        "default.head()"
      ],
      "metadata": {
        "colab": {
          "base_uri": "https://localhost:8080/",
          "height": 206
        },
        "id": "AM4E04NcZxTX",
        "outputId": "190ba1cd-c012-4c6a-d7d8-1a0a157098c3"
      },
      "execution_count": 8,
      "outputs": [
        {
          "output_type": "execute_result",
          "data": {
            "text/plain": [
              "  default student      balance        income\n",
              "0      No      No   729.526495  44361.625074\n",
              "1      No     Yes   817.180407  12106.134700\n",
              "2      No      No  1073.549164  31767.138947\n",
              "3      No      No   529.250605  35704.493935\n",
              "4      No      No   785.655883  38463.495879"
            ],
            "text/html": [
              "\n",
              "  <div id=\"df-da0cb1b7-af1b-4d64-be80-5cff0de5a10d\">\n",
              "    <div class=\"colab-df-container\">\n",
              "      <div>\n",
              "<style scoped>\n",
              "    .dataframe tbody tr th:only-of-type {\n",
              "        vertical-align: middle;\n",
              "    }\n",
              "\n",
              "    .dataframe tbody tr th {\n",
              "        vertical-align: top;\n",
              "    }\n",
              "\n",
              "    .dataframe thead th {\n",
              "        text-align: right;\n",
              "    }\n",
              "</style>\n",
              "<table border=\"1\" class=\"dataframe\">\n",
              "  <thead>\n",
              "    <tr style=\"text-align: right;\">\n",
              "      <th></th>\n",
              "      <th>default</th>\n",
              "      <th>student</th>\n",
              "      <th>balance</th>\n",
              "      <th>income</th>\n",
              "    </tr>\n",
              "  </thead>\n",
              "  <tbody>\n",
              "    <tr>\n",
              "      <th>0</th>\n",
              "      <td>No</td>\n",
              "      <td>No</td>\n",
              "      <td>729.526495</td>\n",
              "      <td>44361.625074</td>\n",
              "    </tr>\n",
              "    <tr>\n",
              "      <th>1</th>\n",
              "      <td>No</td>\n",
              "      <td>Yes</td>\n",
              "      <td>817.180407</td>\n",
              "      <td>12106.134700</td>\n",
              "    </tr>\n",
              "    <tr>\n",
              "      <th>2</th>\n",
              "      <td>No</td>\n",
              "      <td>No</td>\n",
              "      <td>1073.549164</td>\n",
              "      <td>31767.138947</td>\n",
              "    </tr>\n",
              "    <tr>\n",
              "      <th>3</th>\n",
              "      <td>No</td>\n",
              "      <td>No</td>\n",
              "      <td>529.250605</td>\n",
              "      <td>35704.493935</td>\n",
              "    </tr>\n",
              "    <tr>\n",
              "      <th>4</th>\n",
              "      <td>No</td>\n",
              "      <td>No</td>\n",
              "      <td>785.655883</td>\n",
              "      <td>38463.495879</td>\n",
              "    </tr>\n",
              "  </tbody>\n",
              "</table>\n",
              "</div>\n",
              "      <button class=\"colab-df-convert\" onclick=\"convertToInteractive('df-da0cb1b7-af1b-4d64-be80-5cff0de5a10d')\"\n",
              "              title=\"Convert this dataframe to an interactive table.\"\n",
              "              style=\"display:none;\">\n",
              "        \n",
              "  <svg xmlns=\"http://www.w3.org/2000/svg\" height=\"24px\"viewBox=\"0 0 24 24\"\n",
              "       width=\"24px\">\n",
              "    <path d=\"M0 0h24v24H0V0z\" fill=\"none\"/>\n",
              "    <path d=\"M18.56 5.44l.94 2.06.94-2.06 2.06-.94-2.06-.94-.94-2.06-.94 2.06-2.06.94zm-11 1L8.5 8.5l.94-2.06 2.06-.94-2.06-.94L8.5 2.5l-.94 2.06-2.06.94zm10 10l.94 2.06.94-2.06 2.06-.94-2.06-.94-.94-2.06-.94 2.06-2.06.94z\"/><path d=\"M17.41 7.96l-1.37-1.37c-.4-.4-.92-.59-1.43-.59-.52 0-1.04.2-1.43.59L10.3 9.45l-7.72 7.72c-.78.78-.78 2.05 0 2.83L4 21.41c.39.39.9.59 1.41.59.51 0 1.02-.2 1.41-.59l7.78-7.78 2.81-2.81c.8-.78.8-2.07 0-2.86zM5.41 20L4 18.59l7.72-7.72 1.47 1.35L5.41 20z\"/>\n",
              "  </svg>\n",
              "      </button>\n",
              "      \n",
              "  <style>\n",
              "    .colab-df-container {\n",
              "      display:flex;\n",
              "      flex-wrap:wrap;\n",
              "      gap: 12px;\n",
              "    }\n",
              "\n",
              "    .colab-df-convert {\n",
              "      background-color: #E8F0FE;\n",
              "      border: none;\n",
              "      border-radius: 50%;\n",
              "      cursor: pointer;\n",
              "      display: none;\n",
              "      fill: #1967D2;\n",
              "      height: 32px;\n",
              "      padding: 0 0 0 0;\n",
              "      width: 32px;\n",
              "    }\n",
              "\n",
              "    .colab-df-convert:hover {\n",
              "      background-color: #E2EBFA;\n",
              "      box-shadow: 0px 1px 2px rgba(60, 64, 67, 0.3), 0px 1px 3px 1px rgba(60, 64, 67, 0.15);\n",
              "      fill: #174EA6;\n",
              "    }\n",
              "\n",
              "    [theme=dark] .colab-df-convert {\n",
              "      background-color: #3B4455;\n",
              "      fill: #D2E3FC;\n",
              "    }\n",
              "\n",
              "    [theme=dark] .colab-df-convert:hover {\n",
              "      background-color: #434B5C;\n",
              "      box-shadow: 0px 1px 3px 1px rgba(0, 0, 0, 0.15);\n",
              "      filter: drop-shadow(0px 1px 2px rgba(0, 0, 0, 0.3));\n",
              "      fill: #FFFFFF;\n",
              "    }\n",
              "  </style>\n",
              "\n",
              "      <script>\n",
              "        const buttonEl =\n",
              "          document.querySelector('#df-da0cb1b7-af1b-4d64-be80-5cff0de5a10d button.colab-df-convert');\n",
              "        buttonEl.style.display =\n",
              "          google.colab.kernel.accessAllowed ? 'block' : 'none';\n",
              "\n",
              "        async function convertToInteractive(key) {\n",
              "          const element = document.querySelector('#df-da0cb1b7-af1b-4d64-be80-5cff0de5a10d');\n",
              "          const dataTable =\n",
              "            await google.colab.kernel.invokeFunction('convertToInteractive',\n",
              "                                                     [key], {});\n",
              "          if (!dataTable) return;\n",
              "\n",
              "          const docLinkHtml = 'Like what you see? Visit the ' +\n",
              "            '<a target=\"_blank\" href=https://colab.research.google.com/notebooks/data_table.ipynb>data table notebook</a>'\n",
              "            + ' to learn more about interactive tables.';\n",
              "          element.innerHTML = '';\n",
              "          dataTable['output_type'] = 'display_data';\n",
              "          await google.colab.output.renderOutput(dataTable, element);\n",
              "          const docLink = document.createElement('div');\n",
              "          docLink.innerHTML = docLinkHtml;\n",
              "          element.appendChild(docLink);\n",
              "        }\n",
              "      </script>\n",
              "    </div>\n",
              "  </div>\n",
              "  "
            ]
          },
          "metadata": {},
          "execution_count": 8
        }
      ]
    },
    {
      "cell_type": "code",
      "source": [
        "# One Hot Encoding\n",
        "default_ohe = default.copy()\n",
        "default_ohe['default'] = pd.get_dummies(default_ohe['default']).drop('No', axis=1)\n",
        "default_ohe['student'] = pd.get_dummies(default_ohe['student']).drop('No', axis=1)\n",
        "default_ohe.describe()"
      ],
      "metadata": {
        "colab": {
          "base_uri": "https://localhost:8080/",
          "height": 300
        },
        "id": "X_DDtu2Me8_5",
        "outputId": "b44cde09-8ba5-45b0-d8e3-5cf0b3909a30"
      },
      "execution_count": 7,
      "outputs": [
        {
          "output_type": "execute_result",
          "data": {
            "text/plain": [
              "            default       student       balance        income\n",
              "count  10000.000000  10000.000000  10000.000000  10000.000000\n",
              "mean       0.033300      0.294400    835.374886  33516.981876\n",
              "std        0.179428      0.455795    483.714985  13336.639563\n",
              "min        0.000000      0.000000      0.000000    771.967729\n",
              "25%        0.000000      0.000000    481.731105  21340.462903\n",
              "50%        0.000000      0.000000    823.636973  34552.644802\n",
              "75%        0.000000      1.000000   1166.308386  43807.729272\n",
              "max        1.000000      1.000000   2654.322576  73554.233495"
            ],
            "text/html": [
              "\n",
              "  <div id=\"df-c21dfe83-b711-48ac-9147-29173de2c717\">\n",
              "    <div class=\"colab-df-container\">\n",
              "      <div>\n",
              "<style scoped>\n",
              "    .dataframe tbody tr th:only-of-type {\n",
              "        vertical-align: middle;\n",
              "    }\n",
              "\n",
              "    .dataframe tbody tr th {\n",
              "        vertical-align: top;\n",
              "    }\n",
              "\n",
              "    .dataframe thead th {\n",
              "        text-align: right;\n",
              "    }\n",
              "</style>\n",
              "<table border=\"1\" class=\"dataframe\">\n",
              "  <thead>\n",
              "    <tr style=\"text-align: right;\">\n",
              "      <th></th>\n",
              "      <th>default</th>\n",
              "      <th>student</th>\n",
              "      <th>balance</th>\n",
              "      <th>income</th>\n",
              "    </tr>\n",
              "  </thead>\n",
              "  <tbody>\n",
              "    <tr>\n",
              "      <th>count</th>\n",
              "      <td>10000.000000</td>\n",
              "      <td>10000.000000</td>\n",
              "      <td>10000.000000</td>\n",
              "      <td>10000.000000</td>\n",
              "    </tr>\n",
              "    <tr>\n",
              "      <th>mean</th>\n",
              "      <td>0.033300</td>\n",
              "      <td>0.294400</td>\n",
              "      <td>835.374886</td>\n",
              "      <td>33516.981876</td>\n",
              "    </tr>\n",
              "    <tr>\n",
              "      <th>std</th>\n",
              "      <td>0.179428</td>\n",
              "      <td>0.455795</td>\n",
              "      <td>483.714985</td>\n",
              "      <td>13336.639563</td>\n",
              "    </tr>\n",
              "    <tr>\n",
              "      <th>min</th>\n",
              "      <td>0.000000</td>\n",
              "      <td>0.000000</td>\n",
              "      <td>0.000000</td>\n",
              "      <td>771.967729</td>\n",
              "    </tr>\n",
              "    <tr>\n",
              "      <th>25%</th>\n",
              "      <td>0.000000</td>\n",
              "      <td>0.000000</td>\n",
              "      <td>481.731105</td>\n",
              "      <td>21340.462903</td>\n",
              "    </tr>\n",
              "    <tr>\n",
              "      <th>50%</th>\n",
              "      <td>0.000000</td>\n",
              "      <td>0.000000</td>\n",
              "      <td>823.636973</td>\n",
              "      <td>34552.644802</td>\n",
              "    </tr>\n",
              "    <tr>\n",
              "      <th>75%</th>\n",
              "      <td>0.000000</td>\n",
              "      <td>1.000000</td>\n",
              "      <td>1166.308386</td>\n",
              "      <td>43807.729272</td>\n",
              "    </tr>\n",
              "    <tr>\n",
              "      <th>max</th>\n",
              "      <td>1.000000</td>\n",
              "      <td>1.000000</td>\n",
              "      <td>2654.322576</td>\n",
              "      <td>73554.233495</td>\n",
              "    </tr>\n",
              "  </tbody>\n",
              "</table>\n",
              "</div>\n",
              "      <button class=\"colab-df-convert\" onclick=\"convertToInteractive('df-c21dfe83-b711-48ac-9147-29173de2c717')\"\n",
              "              title=\"Convert this dataframe to an interactive table.\"\n",
              "              style=\"display:none;\">\n",
              "        \n",
              "  <svg xmlns=\"http://www.w3.org/2000/svg\" height=\"24px\"viewBox=\"0 0 24 24\"\n",
              "       width=\"24px\">\n",
              "    <path d=\"M0 0h24v24H0V0z\" fill=\"none\"/>\n",
              "    <path d=\"M18.56 5.44l.94 2.06.94-2.06 2.06-.94-2.06-.94-.94-2.06-.94 2.06-2.06.94zm-11 1L8.5 8.5l.94-2.06 2.06-.94-2.06-.94L8.5 2.5l-.94 2.06-2.06.94zm10 10l.94 2.06.94-2.06 2.06-.94-2.06-.94-.94-2.06-.94 2.06-2.06.94z\"/><path d=\"M17.41 7.96l-1.37-1.37c-.4-.4-.92-.59-1.43-.59-.52 0-1.04.2-1.43.59L10.3 9.45l-7.72 7.72c-.78.78-.78 2.05 0 2.83L4 21.41c.39.39.9.59 1.41.59.51 0 1.02-.2 1.41-.59l7.78-7.78 2.81-2.81c.8-.78.8-2.07 0-2.86zM5.41 20L4 18.59l7.72-7.72 1.47 1.35L5.41 20z\"/>\n",
              "  </svg>\n",
              "      </button>\n",
              "      \n",
              "  <style>\n",
              "    .colab-df-container {\n",
              "      display:flex;\n",
              "      flex-wrap:wrap;\n",
              "      gap: 12px;\n",
              "    }\n",
              "\n",
              "    .colab-df-convert {\n",
              "      background-color: #E8F0FE;\n",
              "      border: none;\n",
              "      border-radius: 50%;\n",
              "      cursor: pointer;\n",
              "      display: none;\n",
              "      fill: #1967D2;\n",
              "      height: 32px;\n",
              "      padding: 0 0 0 0;\n",
              "      width: 32px;\n",
              "    }\n",
              "\n",
              "    .colab-df-convert:hover {\n",
              "      background-color: #E2EBFA;\n",
              "      box-shadow: 0px 1px 2px rgba(60, 64, 67, 0.3), 0px 1px 3px 1px rgba(60, 64, 67, 0.15);\n",
              "      fill: #174EA6;\n",
              "    }\n",
              "\n",
              "    [theme=dark] .colab-df-convert {\n",
              "      background-color: #3B4455;\n",
              "      fill: #D2E3FC;\n",
              "    }\n",
              "\n",
              "    [theme=dark] .colab-df-convert:hover {\n",
              "      background-color: #434B5C;\n",
              "      box-shadow: 0px 1px 3px 1px rgba(0, 0, 0, 0.15);\n",
              "      filter: drop-shadow(0px 1px 2px rgba(0, 0, 0, 0.3));\n",
              "      fill: #FFFFFF;\n",
              "    }\n",
              "  </style>\n",
              "\n",
              "      <script>\n",
              "        const buttonEl =\n",
              "          document.querySelector('#df-c21dfe83-b711-48ac-9147-29173de2c717 button.colab-df-convert');\n",
              "        buttonEl.style.display =\n",
              "          google.colab.kernel.accessAllowed ? 'block' : 'none';\n",
              "\n",
              "        async function convertToInteractive(key) {\n",
              "          const element = document.querySelector('#df-c21dfe83-b711-48ac-9147-29173de2c717');\n",
              "          const dataTable =\n",
              "            await google.colab.kernel.invokeFunction('convertToInteractive',\n",
              "                                                     [key], {});\n",
              "          if (!dataTable) return;\n",
              "\n",
              "          const docLinkHtml = 'Like what you see? Visit the ' +\n",
              "            '<a target=\"_blank\" href=https://colab.research.google.com/notebooks/data_table.ipynb>data table notebook</a>'\n",
              "            + ' to learn more about interactive tables.';\n",
              "          element.innerHTML = '';\n",
              "          dataTable['output_type'] = 'display_data';\n",
              "          await google.colab.output.renderOutput(dataTable, element);\n",
              "          const docLink = document.createElement('div');\n",
              "          docLink.innerHTML = docLinkHtml;\n",
              "          element.appendChild(docLink);\n",
              "        }\n",
              "      </script>\n",
              "    </div>\n",
              "  </div>\n",
              "  "
            ]
          },
          "metadata": {},
          "execution_count": 7
        }
      ]
    },
    {
      "cell_type": "code",
      "source": [
        "default_ohe.head()"
      ],
      "metadata": {
        "colab": {
          "base_uri": "https://localhost:8080/",
          "height": 206
        },
        "id": "9KYr15Nyfm7J",
        "outputId": "954aa4d5-7530-4540-b0e3-509fc1a9a6be"
      },
      "execution_count": 10,
      "outputs": [
        {
          "output_type": "execute_result",
          "data": {
            "text/plain": [
              "   default  student      balance        income\n",
              "0        0        0   729.526495  44361.625074\n",
              "1        0        1   817.180407  12106.134700\n",
              "2        0        0  1073.549164  31767.138947\n",
              "3        0        0   529.250605  35704.493935\n",
              "4        0        0   785.655883  38463.495879"
            ],
            "text/html": [
              "\n",
              "  <div id=\"df-bc55ef0f-4907-43fb-9628-a121de3bb6d5\">\n",
              "    <div class=\"colab-df-container\">\n",
              "      <div>\n",
              "<style scoped>\n",
              "    .dataframe tbody tr th:only-of-type {\n",
              "        vertical-align: middle;\n",
              "    }\n",
              "\n",
              "    .dataframe tbody tr th {\n",
              "        vertical-align: top;\n",
              "    }\n",
              "\n",
              "    .dataframe thead th {\n",
              "        text-align: right;\n",
              "    }\n",
              "</style>\n",
              "<table border=\"1\" class=\"dataframe\">\n",
              "  <thead>\n",
              "    <tr style=\"text-align: right;\">\n",
              "      <th></th>\n",
              "      <th>default</th>\n",
              "      <th>student</th>\n",
              "      <th>balance</th>\n",
              "      <th>income</th>\n",
              "    </tr>\n",
              "  </thead>\n",
              "  <tbody>\n",
              "    <tr>\n",
              "      <th>0</th>\n",
              "      <td>0</td>\n",
              "      <td>0</td>\n",
              "      <td>729.526495</td>\n",
              "      <td>44361.625074</td>\n",
              "    </tr>\n",
              "    <tr>\n",
              "      <th>1</th>\n",
              "      <td>0</td>\n",
              "      <td>1</td>\n",
              "      <td>817.180407</td>\n",
              "      <td>12106.134700</td>\n",
              "    </tr>\n",
              "    <tr>\n",
              "      <th>2</th>\n",
              "      <td>0</td>\n",
              "      <td>0</td>\n",
              "      <td>1073.549164</td>\n",
              "      <td>31767.138947</td>\n",
              "    </tr>\n",
              "    <tr>\n",
              "      <th>3</th>\n",
              "      <td>0</td>\n",
              "      <td>0</td>\n",
              "      <td>529.250605</td>\n",
              "      <td>35704.493935</td>\n",
              "    </tr>\n",
              "    <tr>\n",
              "      <th>4</th>\n",
              "      <td>0</td>\n",
              "      <td>0</td>\n",
              "      <td>785.655883</td>\n",
              "      <td>38463.495879</td>\n",
              "    </tr>\n",
              "  </tbody>\n",
              "</table>\n",
              "</div>\n",
              "      <button class=\"colab-df-convert\" onclick=\"convertToInteractive('df-bc55ef0f-4907-43fb-9628-a121de3bb6d5')\"\n",
              "              title=\"Convert this dataframe to an interactive table.\"\n",
              "              style=\"display:none;\">\n",
              "        \n",
              "  <svg xmlns=\"http://www.w3.org/2000/svg\" height=\"24px\"viewBox=\"0 0 24 24\"\n",
              "       width=\"24px\">\n",
              "    <path d=\"M0 0h24v24H0V0z\" fill=\"none\"/>\n",
              "    <path d=\"M18.56 5.44l.94 2.06.94-2.06 2.06-.94-2.06-.94-.94-2.06-.94 2.06-2.06.94zm-11 1L8.5 8.5l.94-2.06 2.06-.94-2.06-.94L8.5 2.5l-.94 2.06-2.06.94zm10 10l.94 2.06.94-2.06 2.06-.94-2.06-.94-.94-2.06-.94 2.06-2.06.94z\"/><path d=\"M17.41 7.96l-1.37-1.37c-.4-.4-.92-.59-1.43-.59-.52 0-1.04.2-1.43.59L10.3 9.45l-7.72 7.72c-.78.78-.78 2.05 0 2.83L4 21.41c.39.39.9.59 1.41.59.51 0 1.02-.2 1.41-.59l7.78-7.78 2.81-2.81c.8-.78.8-2.07 0-2.86zM5.41 20L4 18.59l7.72-7.72 1.47 1.35L5.41 20z\"/>\n",
              "  </svg>\n",
              "      </button>\n",
              "      \n",
              "  <style>\n",
              "    .colab-df-container {\n",
              "      display:flex;\n",
              "      flex-wrap:wrap;\n",
              "      gap: 12px;\n",
              "    }\n",
              "\n",
              "    .colab-df-convert {\n",
              "      background-color: #E8F0FE;\n",
              "      border: none;\n",
              "      border-radius: 50%;\n",
              "      cursor: pointer;\n",
              "      display: none;\n",
              "      fill: #1967D2;\n",
              "      height: 32px;\n",
              "      padding: 0 0 0 0;\n",
              "      width: 32px;\n",
              "    }\n",
              "\n",
              "    .colab-df-convert:hover {\n",
              "      background-color: #E2EBFA;\n",
              "      box-shadow: 0px 1px 2px rgba(60, 64, 67, 0.3), 0px 1px 3px 1px rgba(60, 64, 67, 0.15);\n",
              "      fill: #174EA6;\n",
              "    }\n",
              "\n",
              "    [theme=dark] .colab-df-convert {\n",
              "      background-color: #3B4455;\n",
              "      fill: #D2E3FC;\n",
              "    }\n",
              "\n",
              "    [theme=dark] .colab-df-convert:hover {\n",
              "      background-color: #434B5C;\n",
              "      box-shadow: 0px 1px 3px 1px rgba(0, 0, 0, 0.15);\n",
              "      filter: drop-shadow(0px 1px 2px rgba(0, 0, 0, 0.3));\n",
              "      fill: #FFFFFF;\n",
              "    }\n",
              "  </style>\n",
              "\n",
              "      <script>\n",
              "        const buttonEl =\n",
              "          document.querySelector('#df-bc55ef0f-4907-43fb-9628-a121de3bb6d5 button.colab-df-convert');\n",
              "        buttonEl.style.display =\n",
              "          google.colab.kernel.accessAllowed ? 'block' : 'none';\n",
              "\n",
              "        async function convertToInteractive(key) {\n",
              "          const element = document.querySelector('#df-bc55ef0f-4907-43fb-9628-a121de3bb6d5');\n",
              "          const dataTable =\n",
              "            await google.colab.kernel.invokeFunction('convertToInteractive',\n",
              "                                                     [key], {});\n",
              "          if (!dataTable) return;\n",
              "\n",
              "          const docLinkHtml = 'Like what you see? Visit the ' +\n",
              "            '<a target=\"_blank\" href=https://colab.research.google.com/notebooks/data_table.ipynb>data table notebook</a>'\n",
              "            + ' to learn more about interactive tables.';\n",
              "          element.innerHTML = '';\n",
              "          dataTable['output_type'] = 'display_data';\n",
              "          await google.colab.output.renderOutput(dataTable, element);\n",
              "          const docLink = document.createElement('div');\n",
              "          docLink.innerHTML = docLinkHtml;\n",
              "          element.appendChild(docLink);\n",
              "        }\n",
              "      </script>\n",
              "    </div>\n",
              "  </div>\n",
              "  "
            ]
          },
          "metadata": {},
          "execution_count": 10
        }
      ]
    },
    {
      "cell_type": "code",
      "source": [
        "from sklearn.linear_model import LogisticRegression\n",
        "from sklearn.model_selection import cross_val_score\n",
        "# (a) Fit a logistic regression model that uses income and balance to predict default.\n",
        "print(\"=\" * 50)\n",
        "print(\"Logistic Regression for 'default' ~ 'income' + 'balance'\")\n",
        "SEED = 9\n",
        "lr = LogisticRegression(random_state=SEED)\n",
        "lr.fit(X=default_ohe[['income', 'balance']],\n",
        "       y=default_ohe['default'])\n",
        "print(\"Score for only one block: \", end=' ')\n",
        "print(lr.score(X=default_ohe[['income', 'balance']],\n",
        "       y=default_ohe['default']))\n",
        "\n",
        "\n",
        "# (b) Using the validation set approach, estimate the test error of this\n",
        "# model. In order to do this, you must perform the following steps:\n",
        "# * i. Split the sample set into a training set and a validation set.\n",
        "# * ii. Fit a multiple logistic regression model using only the training observations.\n",
        "# * iii. Obtain a prediction of default status for each individual in\n",
        "# the validation set by computing the posterior probability of\n",
        "# default for that individual, and classifying the individual to\n",
        "# the default category if the posterior probability is greater\n",
        "# than 0.5.\n",
        "# * iv. Compute the validation set error, which is the fraction of\n",
        "# the observations in the validation set that are misclassified.\n",
        "folds = 5\n",
        "scores = cross_val_score(estimator=lr, \n",
        "                         X=default_ohe[['income', 'balance']],\n",
        "                         y=default_ohe['default'],\n",
        "                         cv=folds)\n",
        "print(f\"Scores for {folds}-Fold: \", end=' ')\n",
        "print(scores)\n",
        "\n",
        "\n",
        "# (c) Repeat the process in (b) three times, using three different splits\n",
        "# of the observations into a training set and a validation set. Comment on the results obtained.\n",
        "folds = 3\n",
        "scores = cross_val_score(estimator=lr, \n",
        "                         X=default_ohe[['income', 'balance']],\n",
        "                         y=default_ohe['default'],\n",
        "                         cv=folds)\n",
        "print(f\"Scores for {folds}-Fold: \", end=' ')\n",
        "print(scores)\n",
        "print(f\"mean scores: {sum(scores) / len(scores)}\")\n",
        "\n",
        "\n",
        "# (d) Now consider a logistic regression model that predicts the probability of default using income, balance, and a dummy variable\n",
        "# for student. Estimate the test error for this model using the validation set approach. Comment on whether or not including a\n",
        "# dummy variable for student leads to a reduction in the test error\n",
        "# rate.\n",
        "print()\n",
        "print(\"=\" * 50)\n",
        "print(\"Logistic Regression for 'default' ~ 'income' + 'balance' + 'student' [DUMMY]\")\n",
        "folds = 5\n",
        "scores = cross_val_score(estimator=lr, \n",
        "                         X=default_ohe[['income', 'balance', 'student']],\n",
        "                         y=default_ohe['default'],\n",
        "                         cv=folds)\n",
        "print(f\"Scores for {folds}-Fold: \", end=' ')\n",
        "print(scores)\n",
        "print(f\"mean scores: {sum(scores) / len(scores)}\")\n",
        "\n",
        "# print(\"\\n\")\n",
        "# print(\"=\" * 50)\n",
        "# print(\"Logistic Regression for 'default' ~ 'income' + 'balance' + 'student' [NOT DUMMY]\")\n",
        "# folds = 5\n",
        "# scores = cross_val_score(estimator=lr, \n",
        "#                          X=default[['income', 'balance', 'student']],\n",
        "#                          y=default['default'],\n",
        "#                          cv=folds)\n",
        "# print(f\"Scores for {folds}-Fold: \", end=' ')\n",
        "# print(scores)"
      ],
      "metadata": {
        "colab": {
          "base_uri": "https://localhost:8080/"
        },
        "id": "cANhRlvDb5aV",
        "outputId": "af83f11f-00d0-4615-8b6e-5ae0dcaa2ee1"
      },
      "execution_count": 8,
      "outputs": [
        {
          "output_type": "stream",
          "name": "stdout",
          "text": [
            "==================================================\n",
            "Logistic Regression for 'default' ~ 'income' + 'balance'\n",
            "Score for only one block:  0.9737\n",
            "Scores for 5-Fold:  [0.9745 0.9735 0.9665 0.9655 0.975 ]\n",
            "Scores for 3-Fold:  [0.97360528 0.97149715 0.96579658]\n",
            "mean scores: 0.9702996694390494\n",
            "\n",
            "==================================================\n",
            "Logistic Regression for 'default' ~ 'income' + 'balance' + 'student' [DUMMY]\n",
            "Scores for 5-Fold:  [0.975  0.9685 0.9685 0.9675 0.9645]\n",
            "mean scores: 0.9688000000000001\n"
          ]
        }
      ]
    },
    {
      "cell_type": "markdown",
      "source": [
        "---\n",
        "---\n",
        "---\n",
        "## Ejercicio 6\n",
        "We continue to consider the use of a logistic regression model to\n",
        "predict the probability of default using income and balance on the\n",
        "Default data set. In particular, we will now compute estimates for\n",
        "the standard errors of the income and balance logistic regression coefficients in two different ways: (1) using the bootstrap, and (2) using\n",
        "the standard formula for computing the standard errors in the glm()\n",
        "function. Do not forget to set a random seed before beginning your\n",
        "analysis.\n",
        "\n"
      ],
      "metadata": {
        "id": "alUTTJUo6zXr"
      }
    },
    {
      "cell_type": "code",
      "source": [
        "# (a) Using the summary() and glm() functions, determine the estimated standard\n",
        "#  errors for the coefficients associated with income and balance in a multiple \n",
        "#  logistic regression model that uses both predictors.\n",
        "from sklearn.linear_model import TweedieRegressor\n",
        "print(\"Let's compare standard errors: \")\n",
        "print(default_ohe[['income', 'balance']].describe())            # basic SE\n",
        "\n",
        "glm = TweedieRegressor(power=0)\n",
        "glm.fit(X=default_ohe[['income', 'balance']], y=default_ohe['default'])\n",
        "glm.get_params()\n",
        "\n",
        "\n",
        "print()\n",
        "import statsmodels.api as sm\n",
        "model = sm.formula.glm(\"default ~ income + balance - 1\",\n",
        "                       family=sm.families.Binomial(), data=default_ohe).fit()\n",
        "print(model.summary())\n",
        "\n",
        "\n"
      ],
      "metadata": {
        "colab": {
          "base_uri": "https://localhost:8080/"
        },
        "id": "A_YbQli1yrzD",
        "outputId": "02dbbb2b-ff15-4db1-d9c6-a6fe742cb27e"
      },
      "execution_count": 9,
      "outputs": [
        {
          "output_type": "stream",
          "name": "stdout",
          "text": [
            "Let's compare standard errors: \n",
            "             income       balance\n",
            "count  10000.000000  10000.000000\n",
            "mean   33516.981876    835.374886\n",
            "std    13336.639563    483.714985\n",
            "min      771.967729      0.000000\n",
            "25%    21340.462903    481.731105\n",
            "50%    34552.644802    823.636973\n",
            "75%    43807.729272   1166.308386\n",
            "max    73554.233495   2654.322576\n",
            "\n"
          ]
        },
        {
          "output_type": "stream",
          "name": "stderr",
          "text": [
            "/usr/local/lib/python3.7/dist-packages/statsmodels/tools/_testing.py:19: FutureWarning: pandas.util.testing is deprecated. Use the functions in the public API at pandas.testing instead.\n",
            "  import pandas.util.testing as tm\n"
          ]
        },
        {
          "output_type": "stream",
          "name": "stdout",
          "text": [
            "                 Generalized Linear Model Regression Results                  \n",
            "==============================================================================\n",
            "Dep. Variable:                default   No. Observations:                10000\n",
            "Model:                            GLM   Df Residuals:                     9998\n",
            "Model Family:                Binomial   Df Model:                            1\n",
            "Link Function:                  logit   Scale:                          1.0000\n",
            "Method:                          IRLS   Log-Likelihood:                -1734.6\n",
            "Date:                Fri, 08 Apr 2022   Deviance:                       3469.1\n",
            "Time:                        03:41:27   Pearson chi2:                 3.87e+04\n",
            "No. Iterations:                     7                                         \n",
            "Covariance Type:            nonrobust                                         \n",
            "==============================================================================\n",
            "                 coef    std err          z      P>|z|      [0.025      0.975]\n",
            "------------------------------------------------------------------------------\n",
            "income        -0.0001    3.7e-06    -34.025      0.000      -0.000      -0.000\n",
            "balance        0.0004   7.03e-05      5.797      0.000       0.000       0.001\n",
            "==============================================================================\n"
          ]
        }
      ]
    },
    {
      "cell_type": "code",
      "source": [
        "# (b) Write a function, boot.fn(), that takes as input the Default data\n",
        "# set as well as an index of the observations, and that outputs\n",
        "# the coefficient estimates for income and balance in the multiple\n",
        "# logistic regression model.\n",
        "from scipy.stats import bootstrap\n",
        "import numpy as np\n",
        "# res = bootstrap((np.array(default_ohe[['income', 'balance']]),), np.std,\n",
        "#                 confidence_level=0.95, random_state=SEED)\n",
        "res_mlr = bootstrap((np.array(lr.predict(X=default_ohe[['income', 'balance']])),), np.std,\n",
        "                confidence_level=0.95, random_state=SEED)\n",
        "res_mlr.confidence_interval\n",
        "\n",
        "\n",
        "# (c) Use the boot() function together with your boot.fn() function to\n",
        "# estimate the standard errors of the logistic regression coefficients\n",
        "# for income and balance.\n",
        "res_predictors = bootstrap((np.array(default_ohe[['income', 'balance']]),), np.std,\n",
        "                confidence_level=0.95, random_state=SEED, n_resamples=2500)\n",
        "print(\"Standard errors for predictors: \", end=' ')\n",
        "print(res_predictors.standard_error)\n",
        "\n",
        "\n",
        "# (d) Comment on the estimated standard errors obtained using the\n",
        "# glm() function and using your bootstrap function.\n",
        "res_glm = bootstrap((np.array(model.predict()),), np.std,\n",
        "                confidence_level=0.95, random_state=SEED, n_resamples=2500)\n",
        "print(\"Standard errors for GLM output: \", end=' ')\n",
        "print(res_glm.standard_error)"
      ],
      "metadata": {
        "colab": {
          "base_uri": "https://localhost:8080/"
        },
        "id": "gM5WziEXm_7w",
        "outputId": "e78b67bf-dfe8-4207-cc0f-fefd8c0a1da4"
      },
      "execution_count": 10,
      "outputs": [
        {
          "output_type": "stream",
          "name": "stdout",
          "text": [
            "Standard errors for predictors:  [68.0697185   3.13708541]\n",
            "Standard errors for GLM output:  0.0009011944428032815\n"
          ]
        }
      ]
    },
    {
      "cell_type": "code",
      "source": [
        ""
      ],
      "metadata": {
        "id": "lcKP-7FwqCnA"
      },
      "execution_count": null,
      "outputs": []
    },
    {
      "cell_type": "markdown",
      "source": [
        "---\n",
        "---\n",
        "---\n",
        "# Exercise 7\n",
        "In Sections 5.3.2 and 5.3.3, we saw that the cv.glm() function can be\n",
        "used in order to compute the LOOCV test error estimate. Alternatively, one could compute those quantities using just the glm() and\n",
        "predict.glm() functions, and a for loop. You will now take this approach in order to compute the LOOCV error for a simple logistic\n",
        "regression model on the Weekly data set. Recall that in the context\n",
        "of classification problems, the LOOCV error is given in (5.4).\n"
      ],
      "metadata": {
        "id": "1-gnOEaX_nKU"
      }
    },
    {
      "cell_type": "code",
      "source": [
        "# Transforming the Weekly dataset\n",
        "weekly = pd.read_csv('drive/MyDrive/itsl_datasets/Weekly.csv')\n",
        "weekly_ohe = weekly.copy()\n",
        "weekly_ohe['Direction'] = pd.get_dummies(weekly_ohe['Direction']).drop('Down', axis=1)"
      ],
      "metadata": {
        "id": "EiZ8cqw9AUoN"
      },
      "execution_count": 11,
      "outputs": []
    },
    {
      "cell_type": "code",
      "source": [
        "from sklearn.model_selection import LeaveOneOut\n",
        "from sklearn.linear_model import LogisticRegression\n",
        "# (a) Fit a logistic regression model that predicts Direction using Lag1 and Lag2.\n",
        "log_reg = LogisticRegression()\n",
        "log_reg.fit(X=weekly_ohe[['Lag1', 'Lag2']], y=weekly_ohe['Direction'])\n",
        "\n",
        "\n",
        "\n",
        "# (b) Fit a logistic regression model that predicts Direction using Lag1\n",
        "# and Lag2 using all but the first observation.\n",
        "# loocv = LeaveOneOut()\n",
        "# print(loocv.get_n_splits(np.array(weekly_ohe[['Lag1', 'Lag2']])))\n",
        "# scores = list()\n",
        "X = np.array(weekly_ohe[['Lag1', 'Lag2']])[1:]\n",
        "y = np.array(weekly_ohe[['Direction']])[1:]\n",
        "\n",
        "# print(np.mean(scores))\n",
        "log_reg_no_first_obs = LogisticRegression()\n",
        "log_reg_no_first_obs.fit(X=X, y=y)\n",
        "\n",
        "\n",
        "\n",
        "# (c) Use the model from (b) to predict the direction of the first observation.\n",
        "# You can do this by predicting that the first observation will go up\n",
        "#  if P(Direction = \"Up\"|Lag1, Lag2) > 0.5.\n",
        "# Was this observation correctly classified?\n",
        "prob_up = log_reg.predict_proba(X=np.array(weekly_ohe[['Lag1', 'Lag2']])[:1])\n",
        "classf = 1 if prob_up[0][0] > 0.5 else 0\n",
        "print(\"=\" * 50)\n",
        "print(f\"Results --> real: {weekly_ohe['Direction'][0]}  Vs  predicted: {classf}\")\n",
        "print(\"=\" * 50)\n",
        "\n",
        "\n",
        "\n",
        "# (d) Write a for loop from i = 1 to i = n, where n is the number of\n",
        "# observations in the data set, that performs each of the following\n",
        "# steps:\n",
        "results_list = []\n",
        "for i in range(len(weekly_ohe['Direction'])):\n",
        "    # i. Fit a logistic regression model using all but the ith observation to predict Direction using Lag1 and Lag2.\n",
        "    valid_rows = ~weekly_ohe.index.isin([i])\n",
        "    data_x, data_y = weekly_ohe[valid_rows][['Lag1', 'Lag2']], weekly_ohe[valid_rows]['Direction']\n",
        "    dynamic_log_reg = LogisticRegression()\n",
        "    dynamic_log_reg.fit(X=data_x, y=data_y)\n",
        "    # ii. Compute the posterior probability of the market moving up\n",
        "    # for the ith observation.\n",
        "    proba = dynamic_log_reg.predict_proba(X=weekly_ohe[~valid_rows][['Lag1', 'Lag2']])\n",
        "    # iii. Use the posterior probability for the ith observation in order\n",
        "    # to predict whether or not the market moves up.\n",
        "    prediction = 1 if proba[0][0] > 0.5 else 0\n",
        "    # iv. Determine whether or not an error was made in predicting\n",
        "    # the direction for the ith observation. If an error was made,\n",
        "    # then indicate this as a 1, and otherwise indicate it as a 0.\n",
        "    real_direction = weekly_ohe[~valid_rows]['Direction'].values[0]\n",
        "    # print(f\"Real direcion: {real_direction}\")\n",
        "    # print(f\"Prediction: {prediction}\")\n",
        "    results_list.append(1 if prediction != real_direction else 0)\n",
        "\n",
        "# (e) Take the average of the n numbers obtained in (d)iv in order to\n",
        "# obtain the LOOCV estimate for the test error. Comment on the\n",
        "# results.\n",
        "print(f\"LOOCV :: Mean {np.mean(results_list)}\")"
      ],
      "metadata": {
        "colab": {
          "base_uri": "https://localhost:8080/"
        },
        "id": "NYLj3qqapvg7",
        "outputId": "ef6f7704-b570-4cd6-dfab-cf5d26a8403a"
      },
      "execution_count": 59,
      "outputs": [
        {
          "output_type": "stream",
          "name": "stderr",
          "text": [
            "/usr/local/lib/python3.7/dist-packages/sklearn/utils/validation.py:993: DataConversionWarning: A column-vector y was passed when a 1d array was expected. Please change the shape of y to (n_samples, ), for example using ravel().\n",
            "  y = column_or_1d(y, warn=True)\n",
            "/usr/local/lib/python3.7/dist-packages/sklearn/base.py:451: UserWarning: X does not have valid feature names, but LogisticRegression was fitted with feature names\n",
            "  \"X does not have valid feature names, but\"\n"
          ]
        },
        {
          "output_type": "stream",
          "name": "stdout",
          "text": [
            "==================================================\n",
            "Results --> real: 0  Vs  predicted: 0\n",
            "==================================================\n",
            "LOOCV :: Mean 0.5500459136822773\n"
          ]
        }
      ]
    },
    {
      "cell_type": "markdown",
      "source": [
        "---\n",
        "---\n",
        "---\n",
        "#Exercise 8.\n",
        "We will now perform cross-validation on a simulated data set.\n",
        "(a) Generate a simulated data set as follows:\n",
        "#### set.seed (1)\n",
        "#### x <- rnorm (100)\n",
        "#### y <- x - 2 * x^2 + rnorm (100)\n",
        "\n",
        "In this data set, what is n and what is p? Write out the model used to generate the data in equation form."
      ],
      "metadata": {
        "id": "aqaZRZQ9aetO"
      }
    },
    {
      "cell_type": "code",
      "source": [
        "# Creation of dataset\n",
        "\n",
        "\n",
        "# (b) Create a scatterplot of X against Y . Comment on what you find.\n",
        "\n",
        "\n",
        "\n",
        "# (c) Set a random seed, and then compute the LOOCV errors that\n",
        "# result from fitting the following four models using least squares:\n",
        "# 5.4 Exercises 223\n",
        "# i. Y = β0 + β1X + ϵ\n",
        "# ii. Y = β0 + β1X + β2X**2 + ϵ\n",
        "# iii. Y = β0 + β1X + β2X**2 + β3X**3 + ϵ\n",
        "# iv. Y = β0 + β1X + β2X**2 + β3X**3 + β4X**4 + ϵ.\n",
        "# Note you may find it helpful to use the data.frame() function\n",
        "# to create a single data set containing both X and Y .\n",
        "from sklearn.model_selection import cross_val_score\n",
        "loocv = LeaveOneOut()\n",
        "model = LogisticRegression(random_state=SEED) # CORRECT THIS\n",
        "scores = cross_val_score(model, X, y, scoring='accuracy', cv=loocv, n_jobs=-1)\n",
        "print('Accuracy: %.3f --- STD: (%.3f)' % (np.mean(scores), np.std(scores)))\n",
        "\n",
        "\n",
        "# (d) Repeat (c) using another random seed, and report your results.\n",
        "# Are your results the same as what you got in (c)? Why?\n",
        "\n",
        "\n",
        "\n",
        "# (e) Which of the models in (c) had the smallest LOOCV error? Is\n",
        "# this what you expected? Explain your answer.\n",
        "\n",
        "\n",
        "\n",
        "# (f) Comment on the statistical significance of the coefficient estimates that results from fitting each of the models in (c) using\n",
        "# least squares. Do these results agree with the conclusions drawn\n",
        "# based on the cross-validation results?\n",
        "\n",
        "\n"
      ],
      "metadata": {
        "id": "Jj80JOf5a10P"
      },
      "execution_count": null,
      "outputs": []
    },
    {
      "cell_type": "markdown",
      "source": [
        ""
      ],
      "metadata": {
        "id": "O3DytF6C4W4k"
      }
    }
  ]
}