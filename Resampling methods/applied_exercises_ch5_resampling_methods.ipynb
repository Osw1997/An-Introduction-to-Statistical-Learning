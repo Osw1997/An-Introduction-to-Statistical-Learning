{
  "nbformat": 4,
  "nbformat_minor": 0,
  "metadata": {
    "colab": {
      "name": "applied_exercises_ch5_resampling_methods.ipynb",
      "provenance": [],
      "collapsed_sections": [],
      "authorship_tag": "ABX9TyNgxGEPmyjv5ncLzAp4z0YO",
      "include_colab_link": true
    },
    "kernelspec": {
      "name": "python3",
      "display_name": "Python 3"
    },
    "language_info": {
      "name": "python"
    }
  },
  "cells": [
    {
      "cell_type": "markdown",
      "metadata": {
        "id": "view-in-github",
        "colab_type": "text"
      },
      "source": [
        "<a href=\"https://colab.research.google.com/github/Osw1997/An-Introduction-to-Statistical-Learning/blob/main/Resampling%20methods/applied_exercises_ch5_resampling_methods.ipynb\" target=\"_parent\"><img src=\"https://colab.research.google.com/assets/colab-badge.svg\" alt=\"Open In Colab\"/></a>"
      ]
    },
    {
      "cell_type": "markdown",
      "source": [
        "# Chapter 5 - Resampling methods"
      ],
      "metadata": {
        "id": "KpA__g2V4XmL"
      }
    },
    {
      "cell_type": "code",
      "source": [
        "!pip install --upgrade scipy\n",
        "!pip install --upgrade plotly"
      ],
      "metadata": {
        "id": "41j7qIom6AaI"
      },
      "execution_count": null,
      "outputs": []
    },
    {
      "cell_type": "markdown",
      "source": [
        "# Applied exercises\n",
        "---\n",
        "---\n",
        "---\n",
        "## Exercise 5.\n",
        "In Chapter 4, we used logistic regression to predict the probability of\n",
        "default using income and balance on the Default data set. We will\n",
        "now estimate the test error of this logistic regression model using the\n",
        "validation set approach. Do not forget to set a random seed before\n",
        "beginning your analysis.\n",
        "\n",
        "(a) Fit a logistic regression model that uses income and balance to\n",
        "predict default.\n",
        "\n",
        "(b) Using the validation set approach, estimate the test error of this\n",
        "model. In order to do this, you must perform the following steps:\n",
        "* i. Split the sample set into a training set and a validation set.\n",
        "* ii. Fit a multiple logistic regression model using only the training observations.\n",
        "* iii. Obtain a prediction of default status for each individual in\n",
        "the validation set by computing the posterior probability of\n",
        "default for that individual, and classifying the individual to\n",
        "the default category if the posterior probability is greater\n",
        "than 0.5.\n",
        "* iv. Compute the validation set error, which is the fraction of\n",
        "the observations in the validation set that are misclassified.\n",
        "\n",
        "(c) Repeat the process in (b) three times, using three different splits\n",
        "of the observations into a training set and a validation set. Comment on the results obtained.\n",
        "\n",
        "(d) Now consider a logistic regression model that predicts the probability of default using income, balance, and a dummy variable\n",
        "for student. Estimate the test error for this model using the validation set approach. Comment on whether or not including a\n",
        "dummy variable for student leads to a reduction in the test error\n",
        "rate."
      ],
      "metadata": {
        "id": "Q5U7gmGe4aSx"
      }
    },
    {
      "cell_type": "code",
      "execution_count": null,
      "metadata": {
        "id": "Lq-5X4vZ4RGH"
      },
      "outputs": [],
      "source": [
        ""
      ]
    },
    {
      "cell_type": "markdown",
      "source": [
        ""
      ],
      "metadata": {
        "id": "alUTTJUo6zXr"
      }
    },
    {
      "cell_type": "markdown",
      "source": [
        ""
      ],
      "metadata": {
        "id": "O3DytF6C4W4k"
      }
    }
  ]
}